{
 "cells": [
  {
   "cell_type": "markdown",
   "metadata": {},
   "source": [
    "Duplikat --> Delete\n",
    "Null --> Delete\n",
    "Outlier --> Delete\n",
    "Feature Selection --> K-Best"
   ]
  },
  {
   "cell_type": "code",
   "execution_count": 1,
   "outputs": [],
   "source": [
    "# import library\n",
    "import pandas as pd\n",
    "import numpy as np\n",
    "import matplotlib.pyplot as plt\n",
    "import seaborn as sns\n",
    "from sklearn.feature_selection import SelectKBest, chi2\n",
    "from sklearn.preprocessing import LabelEncoder\n",
    "from sklearn.preprocessing import StandardScaler\n",
    "from sklearn.model_selection import train_test_split\n",
    "from sklearn.linear_model import LogisticRegression\n"
   ],
   "metadata": {
    "collapsed": false,
    "ExecuteTime": {
     "start_time": "2023-12-22T13:50:55.089670Z",
     "end_time": "2023-12-22T13:50:56.306366Z"
    }
   }
  },
  {
   "cell_type": "code",
   "execution_count": 2,
   "outputs": [
    {
     "data": {
      "text/plain": "        R_fighter         B_fighter           Referee        date  \\\n0       Joe Riggs      Joe Doerksen  Steve Mazzagatti  2004-08-21   \n1  Jorge Masvidal       Al Iaquinta    Keith Peterson  2015-04-04   \n2    Dan Stittgen  Stephen Thompson    Josh Rosenthal  2012-02-04   \n3   Josh Koscheck   Johny Hendricks     Kevin Mulhall  2012-05-05   \n4     John Dodson  Manvel Gamburyan     James Warring  2016-04-16   \n\n                           location  title_bout  weight_class  B_avg_KD  \\\n0            Las Vegas, Nevada, USA       False  Middleweight       NaN   \n1            Fairfax, Virginia, USA       False   Lightweight  1.156250   \n2            Las Vegas, Nevada, USA       False  Welterweight       NaN   \n3  East Rutherford, New Jersey, USA       False  Welterweight  0.695312   \n4               Tampa, Florida, USA       False  Bantamweight  0.500000   \n\n   B_avg_opp_KD  B_avg_SIG_STR_pct  ...  R_win_by_KO/TKO  R_win_by_Submission  \\\n0           NaN                NaN  ...                0                    0   \n1      0.000000           0.394141  ...                0                    1   \n2           NaN                NaN  ...                0                    0   \n3      0.000000           0.783359  ...                6                    3   \n4      0.266602           0.381462  ...                3                    0   \n\n   R_win_by_TKO_Doctor_Stoppage  R_Stance  R_Height_cms  R_Reach_cms  \\\n0                             0  Southpaw        182.88       177.80   \n1                             0  Orthodox        180.34       187.96   \n2                             0  Orthodox        185.42          NaN   \n3                             0  Orthodox        177.80       185.42   \n4                             1  Orthodox        160.02       167.64   \n\n   R_Weight_lbs  B_age  R_age  Winner  \n0         185.0   26.0   21.0     Red  \n1         170.0   27.0   30.0    Blue  \n2         170.0   28.0   31.0    Blue  \n3         170.0   28.0   34.0    Blue  \n4         135.0   34.0   31.0     Red  \n\n[5 rows x 144 columns]",
      "text/html": "<div>\n<style scoped>\n    .dataframe tbody tr th:only-of-type {\n        vertical-align: middle;\n    }\n\n    .dataframe tbody tr th {\n        vertical-align: top;\n    }\n\n    .dataframe thead th {\n        text-align: right;\n    }\n</style>\n<table border=\"1\" class=\"dataframe\">\n  <thead>\n    <tr style=\"text-align: right;\">\n      <th></th>\n      <th>R_fighter</th>\n      <th>B_fighter</th>\n      <th>Referee</th>\n      <th>date</th>\n      <th>location</th>\n      <th>title_bout</th>\n      <th>weight_class</th>\n      <th>B_avg_KD</th>\n      <th>B_avg_opp_KD</th>\n      <th>B_avg_SIG_STR_pct</th>\n      <th>...</th>\n      <th>R_win_by_KO/TKO</th>\n      <th>R_win_by_Submission</th>\n      <th>R_win_by_TKO_Doctor_Stoppage</th>\n      <th>R_Stance</th>\n      <th>R_Height_cms</th>\n      <th>R_Reach_cms</th>\n      <th>R_Weight_lbs</th>\n      <th>B_age</th>\n      <th>R_age</th>\n      <th>Winner</th>\n    </tr>\n  </thead>\n  <tbody>\n    <tr>\n      <th>0</th>\n      <td>Joe Riggs</td>\n      <td>Joe Doerksen</td>\n      <td>Steve Mazzagatti</td>\n      <td>2004-08-21</td>\n      <td>Las Vegas, Nevada, USA</td>\n      <td>False</td>\n      <td>Middleweight</td>\n      <td>NaN</td>\n      <td>NaN</td>\n      <td>NaN</td>\n      <td>...</td>\n      <td>0</td>\n      <td>0</td>\n      <td>0</td>\n      <td>Southpaw</td>\n      <td>182.88</td>\n      <td>177.80</td>\n      <td>185.0</td>\n      <td>26.0</td>\n      <td>21.0</td>\n      <td>Red</td>\n    </tr>\n    <tr>\n      <th>1</th>\n      <td>Jorge Masvidal</td>\n      <td>Al Iaquinta</td>\n      <td>Keith Peterson</td>\n      <td>2015-04-04</td>\n      <td>Fairfax, Virginia, USA</td>\n      <td>False</td>\n      <td>Lightweight</td>\n      <td>1.156250</td>\n      <td>0.000000</td>\n      <td>0.394141</td>\n      <td>...</td>\n      <td>0</td>\n      <td>1</td>\n      <td>0</td>\n      <td>Orthodox</td>\n      <td>180.34</td>\n      <td>187.96</td>\n      <td>170.0</td>\n      <td>27.0</td>\n      <td>30.0</td>\n      <td>Blue</td>\n    </tr>\n    <tr>\n      <th>2</th>\n      <td>Dan Stittgen</td>\n      <td>Stephen Thompson</td>\n      <td>Josh Rosenthal</td>\n      <td>2012-02-04</td>\n      <td>Las Vegas, Nevada, USA</td>\n      <td>False</td>\n      <td>Welterweight</td>\n      <td>NaN</td>\n      <td>NaN</td>\n      <td>NaN</td>\n      <td>...</td>\n      <td>0</td>\n      <td>0</td>\n      <td>0</td>\n      <td>Orthodox</td>\n      <td>185.42</td>\n      <td>NaN</td>\n      <td>170.0</td>\n      <td>28.0</td>\n      <td>31.0</td>\n      <td>Blue</td>\n    </tr>\n    <tr>\n      <th>3</th>\n      <td>Josh Koscheck</td>\n      <td>Johny Hendricks</td>\n      <td>Kevin Mulhall</td>\n      <td>2012-05-05</td>\n      <td>East Rutherford, New Jersey, USA</td>\n      <td>False</td>\n      <td>Welterweight</td>\n      <td>0.695312</td>\n      <td>0.000000</td>\n      <td>0.783359</td>\n      <td>...</td>\n      <td>6</td>\n      <td>3</td>\n      <td>0</td>\n      <td>Orthodox</td>\n      <td>177.80</td>\n      <td>185.42</td>\n      <td>170.0</td>\n      <td>28.0</td>\n      <td>34.0</td>\n      <td>Blue</td>\n    </tr>\n    <tr>\n      <th>4</th>\n      <td>John Dodson</td>\n      <td>Manvel Gamburyan</td>\n      <td>James Warring</td>\n      <td>2016-04-16</td>\n      <td>Tampa, Florida, USA</td>\n      <td>False</td>\n      <td>Bantamweight</td>\n      <td>0.500000</td>\n      <td>0.266602</td>\n      <td>0.381462</td>\n      <td>...</td>\n      <td>3</td>\n      <td>0</td>\n      <td>1</td>\n      <td>Orthodox</td>\n      <td>160.02</td>\n      <td>167.64</td>\n      <td>135.0</td>\n      <td>34.0</td>\n      <td>31.0</td>\n      <td>Red</td>\n    </tr>\n  </tbody>\n</table>\n<p>5 rows × 144 columns</p>\n</div>"
     },
     "execution_count": 2,
     "metadata": {},
     "output_type": "execute_result"
    }
   ],
   "source": [
    "# read csv\n",
    "df = pd.read_csv('../UFC_train.csv')\n",
    "\n",
    "df.head()"
   ],
   "metadata": {
    "collapsed": false,
    "ExecuteTime": {
     "start_time": "2023-12-22T13:51:08.925318Z",
     "end_time": "2023-12-22T13:51:09.025625Z"
    }
   }
  },
  {
   "cell_type": "code",
   "execution_count": 3,
   "outputs": [
    {
     "name": "stdout",
     "output_type": "stream",
     "text": [
      "Shape before dropping duplicates : (5410, 144)\n",
      "Shape after dropping duplicates: (5410, 144)\n"
     ]
    }
   ],
   "source": [
    "# Delete duplicate\n",
    "print(f\"Shape before dropping duplicates : {df.shape}\") # Before dropping duplicates\n",
    "df.drop_duplicates(inplace=True)\n",
    "print(f\"Shape after dropping duplicates: {df.shape}\") # After dropping duplicates"
   ],
   "metadata": {
    "collapsed": false,
    "ExecuteTime": {
     "start_time": "2023-12-22T13:52:16.471210Z",
     "end_time": "2023-12-22T13:52:16.516131Z"
    }
   }
  },
  {
   "cell_type": "code",
   "execution_count": 4,
   "outputs": [
    {
     "name": "stdout",
     "output_type": "stream",
     "text": [
      "Shape before dropping null : (5410, 144)\n",
      "Shape after dropping null: (3480, 144)\n"
     ]
    }
   ],
   "source": [
    "# Delete null\n",
    "print(f\"Shape before dropping null : {df.shape}\") # Before dropping null\n",
    "df.dropna(inplace=True)\n",
    "print(f\"Shape after dropping null: {df.shape}\") # After dropping null"
   ],
   "metadata": {
    "collapsed": false,
    "ExecuteTime": {
     "start_time": "2023-12-22T13:52:40.336450Z",
     "end_time": "2023-12-22T13:52:40.364126Z"
    }
   }
  },
  {
   "cell_type": "code",
   "execution_count": 6,
   "outputs": [
    {
     "name": "stdout",
     "output_type": "stream",
     "text": [
      "Shape before dropping outlier : (3480, 144)\n"
     ]
    }
   ],
   "source": [
    "# Delete outlier\n",
    "print(f\"Shape before dropping outlier : {df.shape}\") # Before dropping outlier\n"
   ],
   "metadata": {
    "collapsed": false,
    "ExecuteTime": {
     "start_time": "2023-12-22T15:09:39.195397Z",
     "end_time": "2023-12-22T15:09:39.211185Z"
    }
   }
  },
  {
   "cell_type": "code",
   "execution_count": 5,
   "outputs": [
    {
     "name": "stdout",
     "output_type": "stream",
     "text": [
      "B_avg_KD : 2.327586206896552 %\n",
      "B_avg_opp_KD : 8.67816091954023 %\n",
      "B_avg_SIG_STR_pct : 2.6149425287356323 %\n",
      "B_avg_opp_SIG_STR_pct : 2.3563218390804597 %\n",
      "B_avg_TD_pct : 0.0 %\n",
      "B_avg_opp_TD_pct : 2.442528735632184 %\n",
      "B_avg_SUB_ATT : 5.373563218390805 %\n",
      "B_avg_opp_SUB_ATT : 7.586206896551724 %\n",
      "B_avg_REV : 16.580459770114942 %\n",
      "B_avg_opp_REV : 15.344827586206897 %\n",
      "B_avg_SIG_STR_att : 2.1551724137931036 %\n",
      "B_avg_SIG_STR_landed : 2.21264367816092 %\n",
      "B_avg_opp_SIG_STR_att : 2.6436781609195403 %\n",
      "B_avg_opp_SIG_STR_landed : 2.7873563218390807 %\n",
      "B_avg_TOTAL_STR_att : 1.5517241379310345 %\n",
      "B_avg_TOTAL_STR_landed : 1.896551724137931 %\n",
      "B_avg_opp_TOTAL_STR_att : 1.810344827586207 %\n",
      "B_avg_opp_TOTAL_STR_landed : 2.2988505747126435 %\n",
      "B_avg_TD_att : 4.741379310344827 %\n",
      "B_avg_TD_landed : 5.172413793103448 %\n",
      "B_avg_opp_TD_att : 4.626436781609195 %\n",
      "B_avg_opp_TD_landed : 4.454022988505748 %\n",
      "B_avg_HEAD_att : 3.074712643678161 %\n",
      "B_avg_HEAD_landed : 3.1609195402298855 %\n",
      "B_avg_opp_HEAD_att : 3.189655172413793 %\n",
      "B_avg_opp_HEAD_landed : 3.3333333333333335 %\n",
      "B_avg_BODY_att : 3.9655172413793105 %\n",
      "B_avg_BODY_landed : 4.195402298850575 %\n",
      "B_avg_opp_BODY_att : 3.362068965517241 %\n",
      "B_avg_opp_BODY_landed : 3.5632183908045976 %\n",
      "B_avg_LEG_att : 4.396551724137931 %\n",
      "B_avg_LEG_landed : 5.14367816091954 %\n",
      "B_avg_opp_LEG_att : 4.683908045977011 %\n",
      "B_avg_opp_LEG_landed : 4.166666666666666 %\n",
      "B_avg_DISTANCE_att : 2.471264367816092 %\n",
      "B_avg_DISTANCE_landed : 3.0172413793103448 %\n",
      "B_avg_opp_DISTANCE_att : 2.8160919540229883 %\n",
      "B_avg_opp_DISTANCE_landed : 3.7356321839080464 %\n",
      "B_avg_CLINCH_att : 4.137931034482759 %\n",
      "B_avg_CLINCH_landed : 4.712643678160919 %\n",
      "B_avg_opp_CLINCH_att : 4.971264367816092 %\n",
      "B_avg_opp_CLINCH_landed : 4.482758620689655 %\n",
      "B_avg_GROUND_att : 5.948275862068965 %\n",
      "B_avg_GROUND_landed : 5.890804597701149 %\n",
      "B_avg_opp_GROUND_att : 7.040229885057471 %\n",
      "B_avg_opp_GROUND_landed : 7.212643678160919 %\n",
      "B_avg_CTRL_time(seconds) : 3.3333333333333335 %\n",
      "B_avg_opp_CTRL_time(seconds) : 3.5919540229885056 %\n",
      "B_total_time_fought(seconds) : 0.14367816091954022 %\n",
      "B_total_rounds_fought : 5.689655172413794 %\n",
      "B_total_title_bouts : 100.0 %\n",
      "B_current_win_streak : 4.7701149425287355 %\n",
      "B_current_lose_streak : 2.1264367816091956 %\n",
      "B_longest_win_streak : 5.890804597701149 %\n",
      "B_wins : 5.660919540229885 %\n",
      "B_losses : 6.954022988505747 %\n",
      "B_draw : 100.0 %\n",
      "B_win_by_Decision_Majority : 100.0 %\n",
      "B_win_by_Decision_Split : 1.0344827586206897 %\n",
      "B_win_by_Decision_Unanimous : 4.511494252873563 %\n",
      "B_win_by_KO/TKO : 6.522988505747127 %\n",
      "B_win_by_Submission : 9.540229885057471 %\n",
      "B_win_by_TKO_Doctor_Stoppage : 100.0 %\n",
      "B_Height_cms : 0.25862068965517243 %\n",
      "B_Reach_cms : 1.1494252873563218 %\n",
      "B_Weight_lbs : 5.632183908045977 %\n",
      "R_avg_KD : 2.1551724137931036 %\n",
      "R_avg_opp_KD : 7.672413793103448 %\n",
      "R_avg_SIG_STR_pct : 2.442528735632184 %\n",
      "R_avg_opp_SIG_STR_pct : 1.9827586206896552 %\n",
      "R_avg_TD_pct : 0.0 %\n",
      "R_avg_opp_TD_pct : 1.4942528735632183 %\n",
      "R_avg_SUB_ATT : 5.258620689655173 %\n",
      "R_avg_opp_SUB_ATT : 6.551724137931035 %\n",
      "R_avg_REV : 15.517241379310345 %\n",
      "R_avg_opp_REV : 15.689655172413794 %\n",
      "R_avg_SIG_STR_att : 2.8160919540229883 %\n",
      "R_avg_SIG_STR_landed : 2.7586206896551726 %\n",
      "R_avg_opp_SIG_STR_att : 2.3850574712643677 %\n",
      "R_avg_opp_SIG_STR_landed : 3.3045977011494254 %\n",
      "R_avg_TOTAL_STR_att : 2.0402298850574714 %\n",
      "R_avg_TOTAL_STR_landed : 3.103448275862069 %\n",
      "R_avg_opp_TOTAL_STR_att : 1.896551724137931 %\n",
      "R_avg_opp_TOTAL_STR_landed : 2.2988505747126435 %\n",
      "R_avg_TD_att : 3.362068965517241 %\n",
      "R_avg_TD_landed : 5.0 %\n",
      "R_avg_opp_TD_att : 4.310344827586207 %\n",
      "R_avg_opp_TD_landed : 4.827586206896552 %\n",
      "R_avg_HEAD_att : 3.103448275862069 %\n",
      "R_avg_HEAD_landed : 3.620689655172414 %\n",
      "R_avg_opp_HEAD_att : 2.9310344827586206 %\n",
      "R_avg_opp_HEAD_landed : 3.3333333333333335 %\n",
      "R_avg_BODY_att : 4.137931034482759 %\n",
      "R_avg_BODY_landed : 3.9080459770114944 %\n",
      "R_avg_opp_BODY_att : 2.8160919540229883 %\n",
      "R_avg_opp_BODY_landed : 3.3045977011494254 %\n",
      "R_avg_LEG_att : 4.683908045977011 %\n",
      "R_avg_LEG_landed : 4.310344827586207 %\n",
      "R_avg_opp_LEG_att : 4.942528735632184 %\n",
      "R_avg_opp_LEG_landed : 4.626436781609195 %\n",
      "R_avg_DISTANCE_att : 3.2758620689655173 %\n",
      "R_avg_DISTANCE_landed : 3.247126436781609 %\n",
      "R_avg_opp_DISTANCE_att : 2.3850574712643677 %\n",
      "R_avg_opp_DISTANCE_landed : 3.3045977011494254 %\n",
      "R_avg_CLINCH_att : 5.028735632183908 %\n",
      "R_avg_CLINCH_landed : 5.689655172413794 %\n",
      "R_avg_opp_CLINCH_att : 4.913793103448276 %\n",
      "R_avg_opp_CLINCH_landed : 5.632183908045977 %\n",
      "R_avg_GROUND_att : 6.063218390804598 %\n",
      "R_avg_GROUND_landed : 6.264367816091953 %\n",
      "R_avg_opp_GROUND_att : 6.264367816091953 %\n",
      "R_avg_opp_GROUND_landed : 6.637931034482758 %\n",
      "R_avg_CTRL_time(seconds) : 3.4195402298850577 %\n",
      "R_avg_opp_CTRL_time(seconds) : 4.022988505747127 %\n",
      "R_total_time_fought(seconds) : 0.3735632183908046 %\n",
      "R_total_rounds_fought : 2.5 %\n",
      "R_total_title_bouts : 9.310344827586208 %\n",
      "R_current_win_streak : 1.4655172413793103 %\n",
      "R_current_lose_streak : 1.235632183908046 %\n",
      "R_longest_win_streak : 1.5804597701149428 %\n",
      "R_wins : 2.6724137931034484 %\n",
      "R_losses : 3.1321839080459766 %\n",
      "R_draw : 100.0 %\n",
      "R_win_by_Decision_Majority : 100.0 %\n",
      "R_win_by_Decision_Split : 2.0402298850574714 %\n",
      "R_win_by_Decision_Unanimous : 8.96551724137931 %\n",
      "R_win_by_KO/TKO : 2.3850574712643677 %\n",
      "R_win_by_Submission : 3.706896551724138 %\n",
      "R_win_by_TKO_Doctor_Stoppage : 100.0 %\n",
      "R_Height_cms : 0.3448275862068966 %\n",
      "R_Reach_cms : 1.5804597701149428 %\n",
      "R_Weight_lbs : 5.2298850574712645 %\n",
      "B_age : 1.4942528735632183 %\n",
      "R_age : 0.603448275862069 %\n"
     ]
    }
   ],
   "source": [
    "# Check outlier percentage in each column\n",
    "def outlier_percentage(df: pd.DataFrame):\n",
    "    for i in range(0, len(df.columns) - 1):\n",
    "        column = df[df.columns[i]]\n",
    "        if column.dtype == 'float64' or column.dtype == 'int64':\n",
    "            q1 = column.quantile(0.25)\n",
    "            q3 = column.quantile(0.75)\n",
    "            iqr = q3 - q1\n",
    "            lower_bound = q1 - (1.5 * iqr)\n",
    "            upper_bound = q3 + (1.5 * iqr)\n",
    "            print(df.columns[i], ':', ((column <= lower_bound) | (column >= upper_bound)).sum() / len(df) * 100, '%')\n",
    "\n",
    "outlier_percentage(df)"
   ],
   "metadata": {
    "collapsed": false,
    "ExecuteTime": {
     "start_time": "2023-12-22T15:08:30.828293Z",
     "end_time": "2023-12-22T15:08:30.951553Z"
    }
   }
  },
  {
   "cell_type": "code",
   "execution_count": 7,
   "outputs": [
    {
     "name": "stdout",
     "output_type": "stream",
     "text": [
      "Shape after dropping outlier: (23, 144)\n"
     ]
    }
   ],
   "source": [
    "# Drop outliers in x y z columns\n",
    "def drop_outliers(df, column_name):\n",
    "    # Calculate the IQR (Interquartile Range)\n",
    "    Q1 = df[column_name].quantile(0.25)\n",
    "    Q3 = df[column_name].quantile(0.75)\n",
    "    IQR = Q3 - Q1\n",
    "\n",
    "    # Define the lower and upper bounds for outliers\n",
    "    lower_bound = Q1 - 1.5 * IQR\n",
    "    upper_bound = Q3 + 1.5 * IQR\n",
    "\n",
    "    # Filter the DataFrame to exclude outliers\n",
    "    df_filtered = df[(df[column_name] >= lower_bound) & (df[column_name] <= upper_bound)]\n",
    "\n",
    "    return df_filtered\n",
    "\n",
    "numerical_columns = df.select_dtypes(include=['float64', 'int64']).columns\n",
    "for column in numerical_columns:\n",
    "    df = drop_outliers(df, column)\n",
    "\n",
    "print(\"Shape after dropping outlier:\", df.shape)"
   ],
   "metadata": {
    "collapsed": false,
    "ExecuteTime": {
     "start_time": "2023-12-22T15:09:51.413107Z",
     "end_time": "2023-12-22T15:09:51.547462Z"
    }
   }
  },
  {
   "cell_type": "markdown",
   "source": [
    "Bro..... Jangan pake kombinasi yang ini"
   ],
   "metadata": {
    "collapsed": false
   }
  },
  {
   "cell_type": "code",
   "execution_count": null,
   "outputs": [],
   "source": [],
   "metadata": {
    "collapsed": false
   }
  }
 ],
 "metadata": {
  "language_info": {
   "name": "python"
  },
  "kernelspec": {
   "name": "python3",
   "language": "python",
   "display_name": "Python 3 (ipykernel)"
  }
 },
 "nbformat": 4,
 "nbformat_minor": 2
}
