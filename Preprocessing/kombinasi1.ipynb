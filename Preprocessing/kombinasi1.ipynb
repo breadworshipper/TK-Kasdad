{
 "cells": [
  {
   "cell_type": "markdown",
   "metadata": {},
   "source": [
    "Duplikat --> Delete\n",
    "Null --> Delete\n",
    "Outlier --> Delete\n",
    "Feature Selection --> K-Best"
   ]
  },
  {
   "cell_type": "code",
   "execution_count": 1,
   "metadata": {
    "ExecuteTime": {
     "end_time": "2023-12-22T13:50:56.306366Z",
     "start_time": "2023-12-22T13:50:55.089670Z"
    },
    "collapsed": false
   },
   "outputs": [],
   "source": [
    "# import library\n",
    "import pandas as pd\n",
    "import numpy as np\n",
    "import matplotlib.pyplot as plt\n",
    "import seaborn as sns\n",
    "from sklearn.feature_selection import SelectKBest, chi2\n",
    "from sklearn.preprocessing import LabelEncoder\n",
    "from sklearn.preprocessing import StandardScaler\n",
    "from sklearn.model_selection import train_test_split\n",
    "from sklearn.linear_model import LogisticRegression"
   ]
  },
  {
   "cell_type": "code",
   "execution_count": 1,
   "metadata": {
    "ExecuteTime": {
     "end_time": "2023-12-22T13:51:09.025625Z",
     "start_time": "2023-12-22T13:51:08.925318Z"
    },
    "collapsed": false
   },
   "outputs": [
    {
     "ename": "NameError",
     "evalue": "name 'pd' is not defined",
     "output_type": "error",
     "traceback": [
      "\u001B[0;31m---------------------------------------------------------------------------\u001B[0m",
      "\u001B[0;31mNameError\u001B[0m                                 Traceback (most recent call last)",
      "\u001B[0;32m/var/folders/53/kv053qr13vxg2_y_1lg6hjg80000gn/T/ipykernel_56406/2158423765.py\u001B[0m in \u001B[0;36m<module>\u001B[0;34m\u001B[0m\n\u001B[1;32m      1\u001B[0m \u001B[0;31m# read csv\u001B[0m\u001B[0;34m\u001B[0m\u001B[0;34m\u001B[0m\u001B[0m\n\u001B[0;32m----> 2\u001B[0;31m \u001B[0mdf\u001B[0m \u001B[0;34m=\u001B[0m \u001B[0mpd\u001B[0m\u001B[0;34m.\u001B[0m\u001B[0mread_csv\u001B[0m\u001B[0;34m(\u001B[0m\u001B[0;34m'../UFC_train.csv'\u001B[0m\u001B[0;34m)\u001B[0m\u001B[0;34m\u001B[0m\u001B[0;34m\u001B[0m\u001B[0m\n\u001B[0m\u001B[1;32m      3\u001B[0m \u001B[0;34m\u001B[0m\u001B[0m\n\u001B[1;32m      4\u001B[0m \u001B[0mdf\u001B[0m\u001B[0;34m.\u001B[0m\u001B[0mhead\u001B[0m\u001B[0;34m(\u001B[0m\u001B[0;34m)\u001B[0m\u001B[0;34m\u001B[0m\u001B[0;34m\u001B[0m\u001B[0m\n",
      "\u001B[0;31mNameError\u001B[0m: name 'pd' is not defined"
     ]
    }
   ],
   "source": [
    "# read csv\n",
    "df = pd.read_csv('../UFC_train.csv')\n",
    "\n",
    "df.head()"
   ]
  },
  {
   "cell_type": "code",
   "execution_count": 3,
   "metadata": {
    "ExecuteTime": {
     "end_time": "2023-12-22T13:52:16.516131Z",
     "start_time": "2023-12-22T13:52:16.471210Z"
    },
    "collapsed": false
   },
   "outputs": [
    {
     "name": "stdout",
     "output_type": "stream",
     "text": [
      "Shape before dropping duplicates : (5410, 144)\n",
      "Shape after dropping duplicates: (5410, 144)\n"
     ]
    }
   ],
   "source": [
    "# Delete duplicate\n",
    "print(f\"Shape before dropping duplicates : {df.shape}\") # Before dropping duplicates\n",
    "df.drop_duplicates(inplace=True)\n",
    "print(f\"Shape after dropping duplicates: {df.shape}\") # After dropping duplicates"
   ]
  },
  {
   "cell_type": "code",
   "execution_count": 4,
   "metadata": {
    "ExecuteTime": {
     "end_time": "2023-12-22T13:52:40.364126Z",
     "start_time": "2023-12-22T13:52:40.336450Z"
    },
    "collapsed": false
   },
   "outputs": [
    {
     "name": "stdout",
     "output_type": "stream",
     "text": [
      "Shape before dropping null : (5410, 144)\n",
      "Shape after dropping null: (3480, 144)\n"
     ]
    }
   ],
   "source": [
    "# Delete null\n",
    "print(f\"Shape before dropping null : {df.shape}\") # Before dropping null\n",
    "df.dropna(inplace=True)\n",
    "print(f\"Shape after dropping null: {df.shape}\") # After dropping null"
   ]
  },
  {
   "cell_type": "code",
   "execution_count": 6,
   "metadata": {
    "ExecuteTime": {
     "end_time": "2023-12-22T15:09:39.211185Z",
     "start_time": "2023-12-22T15:09:39.195397Z"
    },
    "collapsed": false
   },
   "outputs": [
    {
     "name": "stdout",
     "output_type": "stream",
     "text": [
      "Shape before dropping outlier : (3480, 144)\n"
     ]
    }
   ],
   "source": [
    "# Delete outlier\n",
    "print(f\"Shape before dropping outlier : {df.shape}\") # Before dropping outlier\n"
   ]
  },
  {
   "cell_type": "code",
   "execution_count": 5,
   "metadata": {
    "ExecuteTime": {
     "end_time": "2023-12-22T15:08:30.951553Z",
     "start_time": "2023-12-22T15:08:30.828293Z"
    },
    "collapsed": false
   },
   "outputs": [
    {
     "name": "stdout",
     "output_type": "stream",
     "text": [
      "B_avg_KD : 2.327586206896552 %\n",
      "B_avg_opp_KD : 8.67816091954023 %\n",
      "B_avg_SIG_STR_pct : 2.6149425287356323 %\n",
      "B_avg_opp_SIG_STR_pct : 2.3563218390804597 %\n",
      "B_avg_TD_pct : 0.0 %\n",
      "B_avg_opp_TD_pct : 2.442528735632184 %\n",
      "B_avg_SUB_ATT : 5.373563218390805 %\n",
      "B_avg_opp_SUB_ATT : 7.586206896551724 %\n",
      "B_avg_REV : 16.580459770114942 %\n",
      "B_avg_opp_REV : 15.344827586206897 %\n",
      "B_avg_SIG_STR_att : 2.1551724137931036 %\n",
      "B_avg_SIG_STR_landed : 2.21264367816092 %\n",
      "B_avg_opp_SIG_STR_att : 2.6436781609195403 %\n",
      "B_avg_opp_SIG_STR_landed : 2.7873563218390807 %\n",
      "B_avg_TOTAL_STR_att : 1.5517241379310345 %\n",
      "B_avg_TOTAL_STR_landed : 1.896551724137931 %\n",
      "B_avg_opp_TOTAL_STR_att : 1.810344827586207 %\n",
      "B_avg_opp_TOTAL_STR_landed : 2.2988505747126435 %\n",
      "B_avg_TD_att : 4.741379310344827 %\n",
      "B_avg_TD_landed : 5.172413793103448 %\n",
      "B_avg_opp_TD_att : 4.626436781609195 %\n",
      "B_avg_opp_TD_landed : 4.454022988505748 %\n",
      "B_avg_HEAD_att : 3.074712643678161 %\n",
      "B_avg_HEAD_landed : 3.1609195402298855 %\n",
      "B_avg_opp_HEAD_att : 3.189655172413793 %\n",
      "B_avg_opp_HEAD_landed : 3.3333333333333335 %\n",
      "B_avg_BODY_att : 3.9655172413793105 %\n",
      "B_avg_BODY_landed : 4.195402298850575 %\n",
      "B_avg_opp_BODY_att : 3.362068965517241 %\n",
      "B_avg_opp_BODY_landed : 3.5632183908045976 %\n",
      "B_avg_LEG_att : 4.396551724137931 %\n",
      "B_avg_LEG_landed : 5.14367816091954 %\n",
      "B_avg_opp_LEG_att : 4.683908045977011 %\n",
      "B_avg_opp_LEG_landed : 4.166666666666666 %\n",
      "B_avg_DISTANCE_att : 2.471264367816092 %\n",
      "B_avg_DISTANCE_landed : 3.0172413793103448 %\n",
      "B_avg_opp_DISTANCE_att : 2.8160919540229883 %\n",
      "B_avg_opp_DISTANCE_landed : 3.7356321839080464 %\n",
      "B_avg_CLINCH_att : 4.137931034482759 %\n",
      "B_avg_CLINCH_landed : 4.712643678160919 %\n",
      "B_avg_opp_CLINCH_att : 4.971264367816092 %\n",
      "B_avg_opp_CLINCH_landed : 4.482758620689655 %\n",
      "B_avg_GROUND_att : 5.948275862068965 %\n",
      "B_avg_GROUND_landed : 5.890804597701149 %\n",
      "B_avg_opp_GROUND_att : 7.040229885057471 %\n",
      "B_avg_opp_GROUND_landed : 7.212643678160919 %\n",
      "B_avg_CTRL_time(seconds) : 3.3333333333333335 %\n",
      "B_avg_opp_CTRL_time(seconds) : 3.5919540229885056 %\n",
      "B_total_time_fought(seconds) : 0.14367816091954022 %\n",
      "B_total_rounds_fought : 5.689655172413794 %\n",
      "B_total_title_bouts : 100.0 %\n",
      "B_current_win_streak : 4.7701149425287355 %\n",
      "B_current_lose_streak : 2.1264367816091956 %\n",
      "B_longest_win_streak : 5.890804597701149 %\n",
      "B_wins : 5.660919540229885 %\n",
      "B_losses : 6.954022988505747 %\n",
      "B_draw : 100.0 %\n",
      "B_win_by_Decision_Majority : 100.0 %\n",
      "B_win_by_Decision_Split : 1.0344827586206897 %\n",
      "B_win_by_Decision_Unanimous : 4.511494252873563 %\n",
      "B_win_by_KO/TKO : 6.522988505747127 %\n",
      "B_win_by_Submission : 9.540229885057471 %\n",
      "B_win_by_TKO_Doctor_Stoppage : 100.0 %\n",
      "B_Height_cms : 0.25862068965517243 %\n",
      "B_Reach_cms : 1.1494252873563218 %\n",
      "B_Weight_lbs : 5.632183908045977 %\n",
      "R_avg_KD : 2.1551724137931036 %\n",
      "R_avg_opp_KD : 7.672413793103448 %\n",
      "R_avg_SIG_STR_pct : 2.442528735632184 %\n",
      "R_avg_opp_SIG_STR_pct : 1.9827586206896552 %\n",
      "R_avg_TD_pct : 0.0 %\n",
      "R_avg_opp_TD_pct : 1.4942528735632183 %\n",
      "R_avg_SUB_ATT : 5.258620689655173 %\n",
      "R_avg_opp_SUB_ATT : 6.551724137931035 %\n",
      "R_avg_REV : 15.517241379310345 %\n",
      "R_avg_opp_REV : 15.689655172413794 %\n",
      "R_avg_SIG_STR_att : 2.8160919540229883 %\n",
      "R_avg_SIG_STR_landed : 2.7586206896551726 %\n",
      "R_avg_opp_SIG_STR_att : 2.3850574712643677 %\n",
      "R_avg_opp_SIG_STR_landed : 3.3045977011494254 %\n",
      "R_avg_TOTAL_STR_att : 2.0402298850574714 %\n",
      "R_avg_TOTAL_STR_landed : 3.103448275862069 %\n",
      "R_avg_opp_TOTAL_STR_att : 1.896551724137931 %\n",
      "R_avg_opp_TOTAL_STR_landed : 2.2988505747126435 %\n",
      "R_avg_TD_att : 3.362068965517241 %\n",
      "R_avg_TD_landed : 5.0 %\n",
      "R_avg_opp_TD_att : 4.310344827586207 %\n",
      "R_avg_opp_TD_landed : 4.827586206896552 %\n",
      "R_avg_HEAD_att : 3.103448275862069 %\n",
      "R_avg_HEAD_landed : 3.620689655172414 %\n",
      "R_avg_opp_HEAD_att : 2.9310344827586206 %\n",
      "R_avg_opp_HEAD_landed : 3.3333333333333335 %\n",
      "R_avg_BODY_att : 4.137931034482759 %\n",
      "R_avg_BODY_landed : 3.9080459770114944 %\n",
      "R_avg_opp_BODY_att : 2.8160919540229883 %\n",
      "R_avg_opp_BODY_landed : 3.3045977011494254 %\n",
      "R_avg_LEG_att : 4.683908045977011 %\n",
      "R_avg_LEG_landed : 4.310344827586207 %\n",
      "R_avg_opp_LEG_att : 4.942528735632184 %\n",
      "R_avg_opp_LEG_landed : 4.626436781609195 %\n",
      "R_avg_DISTANCE_att : 3.2758620689655173 %\n",
      "R_avg_DISTANCE_landed : 3.247126436781609 %\n",
      "R_avg_opp_DISTANCE_att : 2.3850574712643677 %\n",
      "R_avg_opp_DISTANCE_landed : 3.3045977011494254 %\n",
      "R_avg_CLINCH_att : 5.028735632183908 %\n",
      "R_avg_CLINCH_landed : 5.689655172413794 %\n",
      "R_avg_opp_CLINCH_att : 4.913793103448276 %\n",
      "R_avg_opp_CLINCH_landed : 5.632183908045977 %\n",
      "R_avg_GROUND_att : 6.063218390804598 %\n",
      "R_avg_GROUND_landed : 6.264367816091953 %\n",
      "R_avg_opp_GROUND_att : 6.264367816091953 %\n",
      "R_avg_opp_GROUND_landed : 6.637931034482758 %\n",
      "R_avg_CTRL_time(seconds) : 3.4195402298850577 %\n",
      "R_avg_opp_CTRL_time(seconds) : 4.022988505747127 %\n",
      "R_total_time_fought(seconds) : 0.3735632183908046 %\n",
      "R_total_rounds_fought : 2.5 %\n",
      "R_total_title_bouts : 9.310344827586208 %\n",
      "R_current_win_streak : 1.4655172413793103 %\n",
      "R_current_lose_streak : 1.235632183908046 %\n",
      "R_longest_win_streak : 1.5804597701149428 %\n",
      "R_wins : 2.6724137931034484 %\n",
      "R_losses : 3.1321839080459766 %\n",
      "R_draw : 100.0 %\n",
      "R_win_by_Decision_Majority : 100.0 %\n",
      "R_win_by_Decision_Split : 2.0402298850574714 %\n",
      "R_win_by_Decision_Unanimous : 8.96551724137931 %\n",
      "R_win_by_KO/TKO : 2.3850574712643677 %\n",
      "R_win_by_Submission : 3.706896551724138 %\n",
      "R_win_by_TKO_Doctor_Stoppage : 100.0 %\n",
      "R_Height_cms : 0.3448275862068966 %\n",
      "R_Reach_cms : 1.5804597701149428 %\n",
      "R_Weight_lbs : 5.2298850574712645 %\n",
      "B_age : 1.4942528735632183 %\n",
      "R_age : 0.603448275862069 %\n"
     ]
    }
   ],
   "source": [
    "# Check outlier percentage in each column\n",
    "def outlier_percentage(df: pd.DataFrame):\n",
    "    for i in range(0, len(df.columns) - 1):\n",
    "        column = df[df.columns[i]]\n",
    "        if column.dtype == 'float64' or column.dtype == 'int64':\n",
    "            q1 = column.quantile(0.25)\n",
    "            q3 = column.quantile(0.75)\n",
    "            iqr = q3 - q1\n",
    "            lower_bound = q1 - (1.5 * iqr)\n",
    "            upper_bound = q3 + (1.5 * iqr)\n",
    "            print(df.columns[i], ':', ((column <= lower_bound) | (column >= upper_bound)).sum() / len(df) * 100, '%')\n",
    "\n",
    "outlier_percentage(df)"
   ]
  },
  {
   "cell_type": "code",
   "execution_count": 7,
   "metadata": {
    "ExecuteTime": {
     "end_time": "2023-12-22T15:09:51.547462Z",
     "start_time": "2023-12-22T15:09:51.413107Z"
    },
    "collapsed": false
   },
   "outputs": [
    {
     "name": "stdout",
     "output_type": "stream",
     "text": [
      "Shape after dropping outlier: (23, 144)\n"
     ]
    }
   ],
   "source": [
    "# Drop outliers in x y z columns\n",
    "def drop_outliers(df, column_name):\n",
    "    # Calculate the IQR (Interquartile Range)\n",
    "    Q1 = df[column_name].quantile(0.25)\n",
    "    Q3 = df[column_name].quantile(0.75)\n",
    "    IQR = Q3 - Q1\n",
    "\n",
    "    # Define the lower and upper bounds for outliers\n",
    "    lower_bound = Q1 - 1.5 * IQR\n",
    "    upper_bound = Q3 + 1.5 * IQR\n",
    "\n",
    "    # Filter the DataFrame to exclude outliers\n",
    "    df_filtered = df[(df[column_name] >= lower_bound) & (df[column_name] <= upper_bound)]\n",
    "\n",
    "    return df_filtered\n",
    "\n",
    "numerical_columns = df.select_dtypes(include=['float64', 'int64']).columns\n",
    "for column in numerical_columns:\n",
    "    df = drop_outliers(df, column)\n",
    "\n",
    "print(\"Shape after dropping outlier:\", df.shape)"
   ]
  },
  {
   "cell_type": "markdown",
   "metadata": {
    "collapsed": false
   },
   "source": [
    "Bro..... Jangan pake kombinasi yang ini"
   ]
  },
  {
   "cell_type": "code",
   "execution_count": null,
   "metadata": {
    "collapsed": false
   },
   "outputs": [],
   "source": []
  }
 ],
 "metadata": {
  "kernelspec": {
   "display_name": "Python 3 (ipykernel)",
   "language": "python",
   "name": "python3"
  },
  "language_info": {
   "name": "python"
  }
 },
 "nbformat": 4,
 "nbformat_minor": 2
}
