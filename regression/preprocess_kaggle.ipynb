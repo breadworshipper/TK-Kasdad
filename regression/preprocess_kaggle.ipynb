{
 "cells": [
  {
   "cell_type": "code",
   "execution_count": 1,
   "metadata": {},
   "outputs": [],
   "source": [
    "import pandas as pd\n",
    "import numpy as np\n",
    "import matplotlib.pyplot as plt\n",
    "import seaborn as sns"
   ]
  },
  {
   "cell_type": "code",
   "execution_count": null,
   "metadata": {},
   "outputs": [],
   "source": [
    "df_kaggle = pd.read_csv('./New_UFC_Test_Regression_X(3).csv')"
   ]
  },
  {
   "cell_type": "code",
   "execution_count": null,
   "metadata": {},
   "outputs": [],
   "source": [
    "df_kaggle['gender'] = df_kaggle['weight_class'].apply(lambda x: 'women' if 'women' in x.lower() else 'male')"
   ]
  },
  {
   "cell_type": "code",
   "execution_count": null,
   "metadata": {},
   "outputs": [],
   "source": [
    "df_kaggle['weight_class'] = df_kaggle['weight_class'].str.replace('Women', '')"
   ]
  },
  {
   "cell_type": "code",
   "execution_count": null,
   "metadata": {},
   "outputs": [],
   "source": [
    "# Create a dictionary to map weight_class values to numbers\n",
    "weight_class_dict = {\n",
    "    'CatchWeight' : 0,\n",
    "    'Strawweight' : 1,\n",
    "    'Flyweight' : 2,\n",
    "    'Bantamweight' : 3,\n",
    "    'Featherweight' : 4,\n",
    "    'Lightweight' : 5,\n",
    "    'Welterweight' : 6,\n",
    "    'Middleweight' : 7,\n",
    "    'LightHeavyweight' : 8,\n",
    "    'Heavyweight' : 9,\n",
    "    'OpenWeight' : 10,\n",
    "}\n",
    "\n",
    "gender_dict = {\n",
    "    'male' : 1,\n",
    "    'women' : 0\n",
    "}"
   ]
  },
  {
   "cell_type": "code",
   "execution_count": null,
   "metadata": {},
   "outputs": [],
   "source": [
    "# Map each weight_class value to the correct number\n",
    "df_kaggle['weight_class'] = df_kaggle['weight_class'].map(weight_class_dict)"
   ]
  },
  {
   "cell_type": "code",
   "execution_count": null,
   "metadata": {},
   "outputs": [],
   "source": [
    "# Map each gender value to the correct number\n",
    "df_kaggle['gender'] = df_kaggle['gender'].map(gender_dict)"
   ]
  },
  {
   "cell_type": "code",
   "execution_count": null,
   "metadata": {},
   "outputs": [],
   "source": [
    "# Drop R_fighter, B_fighter, Referee, location, date\n",
    "df_kaggle = df_kaggle.drop(['R_fighter', 'B_fighter', 'Referee', 'location', 'date'], axis=1)"
   ]
  },
  {
   "cell_type": "code",
   "execution_count": null,
   "metadata": {},
   "outputs": [],
   "source": [
    "df_kaggle = pd.get_dummies(df_kaggle)"
   ]
  },
  {
   "cell_type": "code",
   "execution_count": null,
   "metadata": {},
   "outputs": [],
   "source": [
    "df_kaggle.to_csv('./Kaggle_Test_Data.csv', index=False)"
   ]
  }
 ],
 "metadata": {
  "kernelspec": {
   "display_name": "Python 3",
   "language": "python",
   "name": "python3"
  },
  "language_info": {
   "codemirror_mode": {
    "name": "ipython",
    "version": 3
   },
   "file_extension": ".py",
   "mimetype": "text/x-python",
   "name": "python",
   "nbconvert_exporter": "python",
   "pygments_lexer": "ipython3",
   "version": "3.12.0"
  }
 },
 "nbformat": 4,
 "nbformat_minor": 2
}
