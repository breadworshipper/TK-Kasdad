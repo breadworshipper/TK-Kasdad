{
 "cells": [
  {
   "cell_type": "markdown",
   "metadata": {
    "collapsed": false
   },
   "source": [
    "## Kombinasi 5 :\n",
    "- Delete duplicate\n",
    "- Impute missing value using iterative imputer\n",
    "- Outlier handling with log tranformation\n",
    "- Encoding\n",
    "- Standard Scaler\n",
    "- Feature selection with Decision Tree"
   ]
  },
  {
   "cell_type": "code",
   "execution_count": 71,
   "metadata": {
    "ExecuteTime": {
     "start_time": "2023-12-24T09:25:10.824053Z",
     "end_time": "2023-12-24T09:25:11.072237Z"
    },
    "collapsed": true
   },
   "outputs": [],
   "source": [
    "# import library\n",
    "import pandas as pd\n",
    "import numpy as np\n",
    "import matplotlib.pyplot as plt\n",
    "import seaborn as sns\n",
    "from sklearn.feature_selection import SelectKBest, chi2\n",
    "from sklearn.preprocessing import LabelEncoder\n",
    "from sklearn.preprocessing import StandardScaler\n",
    "from sklearn.model_selection import train_test_split\n",
    "from sklearn.linear_model import LogisticRegression"
   ]
  },
  {
   "cell_type": "code",
   "execution_count": 72,
   "metadata": {
    "ExecuteTime": {
     "start_time": "2023-12-24T09:25:10.825952Z",
     "end_time": "2023-12-24T09:25:11.083416Z"
    },
    "collapsed": false
   },
   "outputs": [
    {
     "data": {
      "text/plain": "        R_fighter         B_fighter           Referee        date  \\\n0       Joe Riggs      Joe Doerksen  Steve Mazzagatti  2004-08-21   \n1  Jorge Masvidal       Al Iaquinta    Keith Peterson  2015-04-04   \n2    Dan Stittgen  Stephen Thompson    Josh Rosenthal  2012-02-04   \n3   Josh Koscheck   Johny Hendricks     Kevin Mulhall  2012-05-05   \n4     John Dodson  Manvel Gamburyan     James Warring  2016-04-16   \n\n                           location  title_bout  weight_class  B_avg_KD  \\\n0            Las Vegas, Nevada, USA       False  Middleweight       NaN   \n1            Fairfax, Virginia, USA       False   Lightweight  1.156250   \n2            Las Vegas, Nevada, USA       False  Welterweight       NaN   \n3  East Rutherford, New Jersey, USA       False  Welterweight  0.695312   \n4               Tampa, Florida, USA       False  Bantamweight  0.500000   \n\n   B_avg_opp_KD  B_avg_SIG_STR_pct  ...  R_win_by_KO/TKO  R_win_by_Submission  \\\n0           NaN                NaN  ...                0                    0   \n1      0.000000           0.394141  ...                0                    1   \n2           NaN                NaN  ...                0                    0   \n3      0.000000           0.783359  ...                6                    3   \n4      0.266602           0.381462  ...                3                    0   \n\n   R_win_by_TKO_Doctor_Stoppage  R_Stance  R_Height_cms  R_Reach_cms  \\\n0                             0  Southpaw        182.88       177.80   \n1                             0  Orthodox        180.34       187.96   \n2                             0  Orthodox        185.42          NaN   \n3                             0  Orthodox        177.80       185.42   \n4                             1  Orthodox        160.02       167.64   \n\n   R_Weight_lbs  B_age  R_age  Winner  \n0         185.0   26.0   21.0     Red  \n1         170.0   27.0   30.0    Blue  \n2         170.0   28.0   31.0    Blue  \n3         170.0   28.0   34.0    Blue  \n4         135.0   34.0   31.0     Red  \n\n[5 rows x 144 columns]",
      "text/html": "<div>\n<style scoped>\n    .dataframe tbody tr th:only-of-type {\n        vertical-align: middle;\n    }\n\n    .dataframe tbody tr th {\n        vertical-align: top;\n    }\n\n    .dataframe thead th {\n        text-align: right;\n    }\n</style>\n<table border=\"1\" class=\"dataframe\">\n  <thead>\n    <tr style=\"text-align: right;\">\n      <th></th>\n      <th>R_fighter</th>\n      <th>B_fighter</th>\n      <th>Referee</th>\n      <th>date</th>\n      <th>location</th>\n      <th>title_bout</th>\n      <th>weight_class</th>\n      <th>B_avg_KD</th>\n      <th>B_avg_opp_KD</th>\n      <th>B_avg_SIG_STR_pct</th>\n      <th>...</th>\n      <th>R_win_by_KO/TKO</th>\n      <th>R_win_by_Submission</th>\n      <th>R_win_by_TKO_Doctor_Stoppage</th>\n      <th>R_Stance</th>\n      <th>R_Height_cms</th>\n      <th>R_Reach_cms</th>\n      <th>R_Weight_lbs</th>\n      <th>B_age</th>\n      <th>R_age</th>\n      <th>Winner</th>\n    </tr>\n  </thead>\n  <tbody>\n    <tr>\n      <th>0</th>\n      <td>Joe Riggs</td>\n      <td>Joe Doerksen</td>\n      <td>Steve Mazzagatti</td>\n      <td>2004-08-21</td>\n      <td>Las Vegas, Nevada, USA</td>\n      <td>False</td>\n      <td>Middleweight</td>\n      <td>NaN</td>\n      <td>NaN</td>\n      <td>NaN</td>\n      <td>...</td>\n      <td>0</td>\n      <td>0</td>\n      <td>0</td>\n      <td>Southpaw</td>\n      <td>182.88</td>\n      <td>177.80</td>\n      <td>185.0</td>\n      <td>26.0</td>\n      <td>21.0</td>\n      <td>Red</td>\n    </tr>\n    <tr>\n      <th>1</th>\n      <td>Jorge Masvidal</td>\n      <td>Al Iaquinta</td>\n      <td>Keith Peterson</td>\n      <td>2015-04-04</td>\n      <td>Fairfax, Virginia, USA</td>\n      <td>False</td>\n      <td>Lightweight</td>\n      <td>1.156250</td>\n      <td>0.000000</td>\n      <td>0.394141</td>\n      <td>...</td>\n      <td>0</td>\n      <td>1</td>\n      <td>0</td>\n      <td>Orthodox</td>\n      <td>180.34</td>\n      <td>187.96</td>\n      <td>170.0</td>\n      <td>27.0</td>\n      <td>30.0</td>\n      <td>Blue</td>\n    </tr>\n    <tr>\n      <th>2</th>\n      <td>Dan Stittgen</td>\n      <td>Stephen Thompson</td>\n      <td>Josh Rosenthal</td>\n      <td>2012-02-04</td>\n      <td>Las Vegas, Nevada, USA</td>\n      <td>False</td>\n      <td>Welterweight</td>\n      <td>NaN</td>\n      <td>NaN</td>\n      <td>NaN</td>\n      <td>...</td>\n      <td>0</td>\n      <td>0</td>\n      <td>0</td>\n      <td>Orthodox</td>\n      <td>185.42</td>\n      <td>NaN</td>\n      <td>170.0</td>\n      <td>28.0</td>\n      <td>31.0</td>\n      <td>Blue</td>\n    </tr>\n    <tr>\n      <th>3</th>\n      <td>Josh Koscheck</td>\n      <td>Johny Hendricks</td>\n      <td>Kevin Mulhall</td>\n      <td>2012-05-05</td>\n      <td>East Rutherford, New Jersey, USA</td>\n      <td>False</td>\n      <td>Welterweight</td>\n      <td>0.695312</td>\n      <td>0.000000</td>\n      <td>0.783359</td>\n      <td>...</td>\n      <td>6</td>\n      <td>3</td>\n      <td>0</td>\n      <td>Orthodox</td>\n      <td>177.80</td>\n      <td>185.42</td>\n      <td>170.0</td>\n      <td>28.0</td>\n      <td>34.0</td>\n      <td>Blue</td>\n    </tr>\n    <tr>\n      <th>4</th>\n      <td>John Dodson</td>\n      <td>Manvel Gamburyan</td>\n      <td>James Warring</td>\n      <td>2016-04-16</td>\n      <td>Tampa, Florida, USA</td>\n      <td>False</td>\n      <td>Bantamweight</td>\n      <td>0.500000</td>\n      <td>0.266602</td>\n      <td>0.381462</td>\n      <td>...</td>\n      <td>3</td>\n      <td>0</td>\n      <td>1</td>\n      <td>Orthodox</td>\n      <td>160.02</td>\n      <td>167.64</td>\n      <td>135.0</td>\n      <td>34.0</td>\n      <td>31.0</td>\n      <td>Red</td>\n    </tr>\n  </tbody>\n</table>\n<p>5 rows × 144 columns</p>\n</div>"
     },
     "execution_count": 72,
     "metadata": {},
     "output_type": "execute_result"
    }
   ],
   "source": [
    "df = pd.read_csv(\"../UFC_train.csv\")\n",
    "\n",
    "df.head()"
   ]
  },
  {
   "cell_type": "code",
   "execution_count": 73,
   "metadata": {
    "ExecuteTime": {
     "start_time": "2023-12-24T09:25:11.063888Z",
     "end_time": "2023-12-24T09:25:11.169015Z"
    },
    "collapsed": false
   },
   "outputs": [
    {
     "name": "stdout",
     "output_type": "stream",
     "text": [
      "Shape before dropping duplicate : (5410, 144)\n",
      "Shape after dropping duplicate : (5410, 144)\n"
     ]
    }
   ],
   "source": [
    "# Delete duplicate\n",
    "print(f\"Shape before dropping duplicate : {df.shape}\")\n",
    "df.drop_duplicates(inplace=True)\n",
    "print(f\"Shape after dropping duplicate : {df.shape}\")"
   ]
  },
  {
   "cell_type": "code",
   "execution_count": 74,
   "metadata": {
    "ExecuteTime": {
     "start_time": "2023-12-24T09:25:11.123430Z",
     "end_time": "2023-12-24T09:25:11.189912Z"
    },
    "collapsed": false
   },
   "outputs": [],
   "source": [
    "def check_null(df):\n",
    "    col_na = df.isnull().sum().sort_values(ascending=True)\n",
    "    percent = col_na / len(df)\n",
    "    missing_data = pd.concat([col_na, percent], axis=1, keys=['Total', 'Percent'])\n",
    "\n",
    "    if (missing_data[missing_data['Total'] > 0].shape[0] == 0):\n",
    "        print(\"Tidak ditemukan missing value pada dataset\")\n",
    "    else:\n",
    "        print(missing_data[missing_data['Total'] > 0])"
   ]
  },
  {
   "cell_type": "code",
   "execution_count": 75,
   "metadata": {
    "ExecuteTime": {
     "start_time": "2023-12-24T09:25:11.128521Z",
     "end_time": "2023-12-24T09:25:11.200879Z"
    },
    "collapsed": false
   },
   "outputs": [
    {
     "name": "stdout",
     "output_type": "stream",
     "text": [
      "                         Total   Percent\n",
      "R_Weight_lbs                 2  0.000370\n",
      "R_Height_cms                 4  0.000739\n",
      "B_Weight_lbs                 8  0.001479\n",
      "B_Height_cms                10  0.001848\n",
      "R_Stance                    27  0.004991\n",
      "...                        ...       ...\n",
      "B_avg_GROUND_landed       1293  0.239002\n",
      "B_avg_GROUND_att          1293  0.239002\n",
      "B_avg_opp_CLINCH_landed   1293  0.239002\n",
      "B_avg_TD_att              1293  0.239002\n",
      "B_avg_HEAD_landed         1293  0.239002\n",
      "\n",
      "[109 rows x 2 columns]\n"
     ]
    }
   ],
   "source": [
    "check_null(df)"
   ]
  },
  {
   "cell_type": "code",
   "execution_count": 76,
   "metadata": {
    "ExecuteTime": {
     "start_time": "2023-12-24T09:25:11.143629Z",
     "end_time": "2023-12-24T09:25:11.231139Z"
    },
    "collapsed": false
   },
   "outputs": [],
   "source": [
    "# Split string and number\n",
    "# Split dataframe into object type and number type\n",
    "df_object = df.select_dtypes(include='object')\n",
    "df_number = df.select_dtypes(include=np.number)"
   ]
  },
  {
   "cell_type": "code",
   "execution_count": 77,
   "metadata": {
    "ExecuteTime": {
     "start_time": "2023-12-24T09:25:11.204247Z",
     "end_time": "2023-12-24T09:27:20.462015Z"
    },
    "collapsed": false
   },
   "outputs": [
    {
     "name": "stderr",
     "output_type": "stream",
     "text": [
      "/Users/azka/opt/anaconda3/lib/python3.9/site-packages/sklearn/impute/_iterative.py:699: ConvergenceWarning: [IterativeImputer] Early stopping criterion not reached.\n",
      "  warnings.warn(\n"
     ]
    }
   ],
   "source": [
    "# Impute missing value using iterative imputer\n",
    "from sklearn.experimental import enable_iterative_imputer\n",
    "from sklearn.impute import IterativeImputer\n",
    "from sklearn.tree import ExtraTreeRegressor\n",
    "\n",
    "imputer = IterativeImputer(random_state=42, max_iter=15, initial_strategy='median', estimator=ExtraTreeRegressor())\n",
    "df_imputed_number = imputer.fit_transform(df_number)\n",
    "df_imputed_number = pd.DataFrame(df_imputed_number, columns=df_number.columns)"
   ]
  },
  {
   "cell_type": "code",
   "execution_count": 78,
   "metadata": {
    "ExecuteTime": {
     "start_time": "2023-12-24T09:27:20.465651Z",
     "end_time": "2023-12-24T09:27:20.472047Z"
    },
    "collapsed": false
   },
   "outputs": [],
   "source": [
    "# Drop R_fighter, B_fighter, Referee, location, date\n",
    "df_object = df_object.drop(['R_fighter', 'B_fighter', 'Referee', 'location', 'date'], axis=1)"
   ]
  },
  {
   "cell_type": "code",
   "execution_count": 79,
   "metadata": {
    "ExecuteTime": {
     "start_time": "2023-12-24T09:27:20.470294Z",
     "end_time": "2023-12-24T09:27:20.560128Z"
    },
    "collapsed": false
   },
   "outputs": [
    {
     "data": {
      "text/plain": "   weight_class  B_Stance  R_Stance Winner  B_avg_KD  B_avg_opp_KD  \\\n0  Middleweight  Orthodox  Southpaw    Red  0.000000      0.000000   \n1   Lightweight  Orthodox  Orthodox   Blue  1.156250      0.000000   \n2  Welterweight  Orthodox  Orthodox   Blue  0.000000      0.000000   \n3  Welterweight  Southpaw  Orthodox   Blue  0.695312      0.000000   \n4  Bantamweight  Orthodox  Orthodox    Red  0.500000      0.266602   \n\n   B_avg_SIG_STR_pct  B_avg_opp_SIG_STR_pct  B_avg_TD_pct  B_avg_opp_TD_pct  \\\n0           0.515000               0.373594      0.151250          0.375000   \n1           0.394141               0.352422      0.239219          0.011484   \n2           0.358125               0.490000      0.000000          0.540000   \n3           0.783359               0.185547      0.088281          0.104375   \n4           0.381462               0.456558      0.429614          0.469570   \n\n   ...  R_win_by_Decision_Split  R_win_by_Decision_Unanimous  R_win_by_KO/TKO  \\\n0  ...                      0.0                          0.0              0.0   \n1  ...                      0.0                          4.0              0.0   \n2  ...                      0.0                          0.0              0.0   \n3  ...                      1.0                          5.0              6.0   \n4  ...                      0.0                          2.0              3.0   \n\n   R_win_by_Submission  R_win_by_TKO_Doctor_Stoppage  R_Height_cms  \\\n0                  0.0                           0.0        182.88   \n1                  1.0                           0.0        180.34   \n2                  0.0                           0.0        185.42   \n3                  3.0                           0.0        177.80   \n4                  0.0                           1.0        160.02   \n\n   R_Reach_cms  R_Weight_lbs  B_age  R_age  \n0       177.80         185.0   26.0   21.0  \n1       187.96         170.0   27.0   30.0  \n2       193.04         170.0   28.0   31.0  \n3       185.42         170.0   28.0   34.0  \n4       167.64         135.0   34.0   31.0  \n\n[5 rows x 138 columns]",
      "text/html": "<div>\n<style scoped>\n    .dataframe tbody tr th:only-of-type {\n        vertical-align: middle;\n    }\n\n    .dataframe tbody tr th {\n        vertical-align: top;\n    }\n\n    .dataframe thead th {\n        text-align: right;\n    }\n</style>\n<table border=\"1\" class=\"dataframe\">\n  <thead>\n    <tr style=\"text-align: right;\">\n      <th></th>\n      <th>weight_class</th>\n      <th>B_Stance</th>\n      <th>R_Stance</th>\n      <th>Winner</th>\n      <th>B_avg_KD</th>\n      <th>B_avg_opp_KD</th>\n      <th>B_avg_SIG_STR_pct</th>\n      <th>B_avg_opp_SIG_STR_pct</th>\n      <th>B_avg_TD_pct</th>\n      <th>B_avg_opp_TD_pct</th>\n      <th>...</th>\n      <th>R_win_by_Decision_Split</th>\n      <th>R_win_by_Decision_Unanimous</th>\n      <th>R_win_by_KO/TKO</th>\n      <th>R_win_by_Submission</th>\n      <th>R_win_by_TKO_Doctor_Stoppage</th>\n      <th>R_Height_cms</th>\n      <th>R_Reach_cms</th>\n      <th>R_Weight_lbs</th>\n      <th>B_age</th>\n      <th>R_age</th>\n    </tr>\n  </thead>\n  <tbody>\n    <tr>\n      <th>0</th>\n      <td>Middleweight</td>\n      <td>Orthodox</td>\n      <td>Southpaw</td>\n      <td>Red</td>\n      <td>0.000000</td>\n      <td>0.000000</td>\n      <td>0.515000</td>\n      <td>0.373594</td>\n      <td>0.151250</td>\n      <td>0.375000</td>\n      <td>...</td>\n      <td>0.0</td>\n      <td>0.0</td>\n      <td>0.0</td>\n      <td>0.0</td>\n      <td>0.0</td>\n      <td>182.88</td>\n      <td>177.80</td>\n      <td>185.0</td>\n      <td>26.0</td>\n      <td>21.0</td>\n    </tr>\n    <tr>\n      <th>1</th>\n      <td>Lightweight</td>\n      <td>Orthodox</td>\n      <td>Orthodox</td>\n      <td>Blue</td>\n      <td>1.156250</td>\n      <td>0.000000</td>\n      <td>0.394141</td>\n      <td>0.352422</td>\n      <td>0.239219</td>\n      <td>0.011484</td>\n      <td>...</td>\n      <td>0.0</td>\n      <td>4.0</td>\n      <td>0.0</td>\n      <td>1.0</td>\n      <td>0.0</td>\n      <td>180.34</td>\n      <td>187.96</td>\n      <td>170.0</td>\n      <td>27.0</td>\n      <td>30.0</td>\n    </tr>\n    <tr>\n      <th>2</th>\n      <td>Welterweight</td>\n      <td>Orthodox</td>\n      <td>Orthodox</td>\n      <td>Blue</td>\n      <td>0.000000</td>\n      <td>0.000000</td>\n      <td>0.358125</td>\n      <td>0.490000</td>\n      <td>0.000000</td>\n      <td>0.540000</td>\n      <td>...</td>\n      <td>0.0</td>\n      <td>0.0</td>\n      <td>0.0</td>\n      <td>0.0</td>\n      <td>0.0</td>\n      <td>185.42</td>\n      <td>193.04</td>\n      <td>170.0</td>\n      <td>28.0</td>\n      <td>31.0</td>\n    </tr>\n    <tr>\n      <th>3</th>\n      <td>Welterweight</td>\n      <td>Southpaw</td>\n      <td>Orthodox</td>\n      <td>Blue</td>\n      <td>0.695312</td>\n      <td>0.000000</td>\n      <td>0.783359</td>\n      <td>0.185547</td>\n      <td>0.088281</td>\n      <td>0.104375</td>\n      <td>...</td>\n      <td>1.0</td>\n      <td>5.0</td>\n      <td>6.0</td>\n      <td>3.0</td>\n      <td>0.0</td>\n      <td>177.80</td>\n      <td>185.42</td>\n      <td>170.0</td>\n      <td>28.0</td>\n      <td>34.0</td>\n    </tr>\n    <tr>\n      <th>4</th>\n      <td>Bantamweight</td>\n      <td>Orthodox</td>\n      <td>Orthodox</td>\n      <td>Red</td>\n      <td>0.500000</td>\n      <td>0.266602</td>\n      <td>0.381462</td>\n      <td>0.456558</td>\n      <td>0.429614</td>\n      <td>0.469570</td>\n      <td>...</td>\n      <td>0.0</td>\n      <td>2.0</td>\n      <td>3.0</td>\n      <td>0.0</td>\n      <td>1.0</td>\n      <td>160.02</td>\n      <td>167.64</td>\n      <td>135.0</td>\n      <td>34.0</td>\n      <td>31.0</td>\n    </tr>\n  </tbody>\n</table>\n<p>5 rows × 138 columns</p>\n</div>"
     },
     "execution_count": 79,
     "metadata": {},
     "output_type": "execute_result"
    }
   ],
   "source": [
    "# Combine df_object and df_imputed_number\n",
    "df = pd.concat([df_object, df_imputed_number], axis=1)\n",
    "df.head()"
   ]
  },
  {
   "cell_type": "code",
   "execution_count": 80,
   "metadata": {
    "ExecuteTime": {
     "start_time": "2023-12-24T09:27:20.517903Z",
     "end_time": "2023-12-24T09:27:20.560463Z"
    },
    "collapsed": false
   },
   "outputs": [
    {
     "name": "stdout",
     "output_type": "stream",
     "text": [
      "          Total   Percent\n",
      "R_Stance     27  0.004991\n",
      "B_Stance     64  0.011830\n"
     ]
    }
   ],
   "source": [
    "check_null(df)"
   ]
  },
  {
   "cell_type": "code",
   "execution_count": 81,
   "metadata": {
    "ExecuteTime": {
     "start_time": "2023-12-24T09:27:20.545140Z",
     "end_time": "2023-12-24T09:27:20.560718Z"
    },
    "collapsed": false
   },
   "outputs": [],
   "source": [
    "# Impute missing R_stance and B_stance with mode\n",
    "df['R_Stance'].fillna(df['R_Stance'].mode()[0], inplace=True)\n",
    "df['B_Stance'].fillna(df['B_Stance'].mode()[0], inplace=True)"
   ]
  },
  {
   "cell_type": "code",
   "execution_count": 82,
   "metadata": {
    "ExecuteTime": {
     "start_time": "2023-12-24T09:27:20.554442Z",
     "end_time": "2023-12-24T09:27:20.561420Z"
    },
    "collapsed": false
   },
   "outputs": [
    {
     "name": "stdout",
     "output_type": "stream",
     "text": [
      "Tidak ditemukan missing value pada dataset\n"
     ]
    }
   ],
   "source": [
    "check_null(df)"
   ]
  },
  {
   "cell_type": "code",
   "execution_count": 83,
   "metadata": {
    "ExecuteTime": {
     "start_time": "2023-12-24T09:27:20.564037Z",
     "end_time": "2023-12-24T09:27:20.580761Z"
    },
    "collapsed": false
   },
   "outputs": [],
   "source": [
    "def check_outlier(df):\n",
    "    Q1 = df.quantile(0.25)\n",
    "    Q3 = df.quantile(0.75)\n",
    "\n",
    "    # Menghitung RUB dan RLB.\n",
    "    IQR = Q3 - Q1\n",
    "    lower_limit = Q1 - 1.5*IQR\n",
    "    upper_limit = Q3 + 1.5*IQR\n",
    "\n",
    "    # Menampilkan banyaknya outlier pada atribut.\n",
    "    outliers = (df < lower_limit) | (df > upper_limit)\n",
    "    print (\"Outlier pada tiap atribut:\")\n",
    "    print(outliers.sum())\n",
    "\n",
    "    return outliers"
   ]
  },
  {
   "cell_type": "code",
   "execution_count": 84,
   "metadata": {
    "ExecuteTime": {
     "start_time": "2023-12-24T09:27:20.574139Z",
     "end_time": "2023-12-24T09:27:20.623389Z"
    },
    "collapsed": false
   },
   "outputs": [],
   "source": [
    "# Split string and number\n",
    "# Split dataframe into object type and number type\n",
    "df_object = df.select_dtypes(include='object')\n",
    "df_number = df.select_dtypes(include=np.number)"
   ]
  },
  {
   "cell_type": "code",
   "execution_count": 85,
   "metadata": {
    "ExecuteTime": {
     "start_time": "2023-12-24T09:27:20.581291Z",
     "end_time": "2023-12-24T09:27:20.710102Z"
    },
    "collapsed": false
   },
   "outputs": [
    {
     "name": "stdout",
     "output_type": "stream",
     "text": [
      "Outlier pada tiap atribut:\n",
      "B_avg_KD                 564\n",
      "B_avg_opp_KD             678\n",
      "B_avg_SIG_STR_pct        164\n",
      "B_avg_opp_SIG_STR_pct    116\n",
      "B_avg_TD_pct               0\n",
      "                        ... \n",
      "R_Height_cms              19\n",
      "R_Reach_cms               78\n",
      "R_Weight_lbs             302\n",
      "B_age                     36\n",
      "R_age                     76\n",
      "Length: 134, dtype: int64\n",
      "\n",
      "\n",
      "percentage of outliers in each column:\n",
      "B_avg_KD = 10.425138632162662%\n",
      "B_avg_opp_KD = 12.532347504621072%\n",
      "B_avg_SIG_STR_pct = 3.031423290203327%\n",
      "B_avg_opp_SIG_STR_pct = 2.144177449168207%\n",
      "B_avg_TD_pct = 0.0%\n",
      "B_avg_opp_TD_pct = 0.0%\n",
      "B_avg_SUB_ATT = 7.33826247689464%\n",
      "B_avg_opp_SUB_ATT = 6.099815157116451%\n",
      "B_avg_REV = 9.88909426987061%\n",
      "B_avg_opp_REV = 17.892791127541592%\n",
      "B_avg_SIG_STR_att = 3.8632162661737524%\n",
      "B_avg_SIG_STR_landed = 3.216266173752311%\n",
      "B_avg_opp_SIG_STR_att = 3.3826247689463953%\n",
      "B_avg_opp_SIG_STR_landed = 2.957486136783734%\n",
      "B_avg_TOTAL_STR_att = 2.32902033271719%\n",
      "B_avg_TOTAL_STR_landed = 2.144177449168207%\n",
      "B_avg_opp_TOTAL_STR_att = 2.3475046210720887%\n",
      "B_avg_opp_TOTAL_STR_landed = 2.5508317929759707%\n",
      "B_avg_TD_att = 5.508317929759704%\n",
      "B_avg_TD_landed = 3.9371534195933457%\n",
      "B_avg_opp_TD_att = 4.380776340110906%\n",
      "B_avg_opp_TD_landed = 3.2902033271719042%\n",
      "B_avg_HEAD_att = 3.9741219963031424%\n",
      "B_avg_HEAD_landed = 3.512014787430684%\n",
      "B_avg_opp_HEAD_att = 3.6598890942698707%\n",
      "B_avg_opp_HEAD_landed = 2.902033271719039%\n",
      "B_avg_BODY_att = 4.269870609981516%\n",
      "B_avg_BODY_landed = 3.7523105360443623%\n",
      "B_avg_opp_BODY_att = 3.3271719038817005%\n",
      "B_avg_opp_BODY_landed = 3.1792975970425137%\n",
      "B_avg_LEG_att = 4.491682070240296%\n",
      "B_avg_LEG_landed = 4.787430683918669%\n",
      "B_avg_opp_LEG_att = 3.9371534195933457%\n",
      "B_avg_opp_LEG_landed = 3.7153419593345656%\n",
      "B_avg_DISTANCE_att = 4.417744916820703%\n",
      "B_avg_DISTANCE_landed = 4.251386321626617%\n",
      "B_avg_opp_DISTANCE_att = 3.5674676524953792%\n",
      "B_avg_opp_DISTANCE_landed = 4.011090573012939%\n",
      "B_avg_CLINCH_att = 4.066543438077634%\n",
      "B_avg_CLINCH_landed = 4.399260628465805%\n",
      "B_avg_opp_CLINCH_att = 5.027726432532347%\n",
      "B_avg_opp_CLINCH_landed = 4.399260628465805%\n",
      "B_avg_GROUND_att = 6.247689463955638%\n",
      "B_avg_GROUND_landed = 6.136783733826247%\n",
      "B_avg_opp_GROUND_att = 6.598890942698706%\n",
      "B_avg_opp_GROUND_landed = 7.966728280961183%\n",
      "B_avg_CTRL_time(seconds) = 3.1608133086876156%\n",
      "B_avg_opp_CTRL_time(seconds) = 3.475046210720887%\n",
      "B_total_time_fought(seconds) = 0.11090573012939%\n",
      "B_total_rounds_fought = 6.247689463955638%\n",
      "B_total_title_bouts = 12.865064695009243%\n",
      "B_current_win_streak = 12.791127541589647%\n",
      "B_current_lose_streak = 1.4972273567467653%\n",
      "B_longest_win_streak = 0.7763401109057301%\n",
      "B_wins = 3.6968576709796674%\n",
      "B_losses = 4.695009242144177%\n",
      "B_draw = 0.0%\n",
      "B_win_by_Decision_Majority = 1.6635859519408502%\n",
      "B_win_by_Decision_Split = 17.707948243992604%\n",
      "B_win_by_Decision_Unanimous = 10.499075785582255%\n",
      "B_win_by_KO/TKO = 11.571164510166358%\n",
      "B_win_by_Submission = 6.635859519408503%\n",
      "B_win_by_TKO_Doctor_Stoppage = 4.029574861367837%\n",
      "B_Height_cms = 0.3142329020332717%\n",
      "B_Reach_cms = 1.1275415896487986%\n",
      "B_Weight_lbs = 5.822550831792976%\n",
      "R_avg_KD = 7.578558225508318%\n",
      "R_avg_opp_KD = 7.8743068391866915%\n",
      "R_avg_SIG_STR_pct = 2.292051756007394%\n",
      "R_avg_opp_SIG_STR_pct = 2.5508317929759707%\n",
      "R_avg_TD_pct = 0.0%\n",
      "R_avg_opp_TD_pct = 0.0%\n",
      "R_avg_SUB_ATT = 5.268022181146026%\n",
      "R_avg_opp_SUB_ATT = 7.356746765249538%\n",
      "R_avg_REV = 16.617375231053604%\n",
      "R_avg_opp_REV = 17.20887245841035%\n",
      "R_avg_SIG_STR_att = 3.0683918669131236%\n",
      "R_avg_SIG_STR_landed = 3.364140480591497%\n",
      "R_avg_opp_SIG_STR_att = 2.6247689463955637%\n",
      "R_avg_opp_SIG_STR_landed = 3.1053604436229203%\n",
      "R_avg_TOTAL_STR_att = 2.0147874306839184%\n",
      "R_avg_TOTAL_STR_landed = 2.8835489833641406%\n",
      "R_avg_opp_TOTAL_STR_att = 1.8669131238447318%\n",
      "R_avg_opp_TOTAL_STR_landed = 2.532347504621072%\n",
      "R_avg_TD_att = 3.4380776340110906%\n",
      "R_avg_TD_landed = 3.3826247689463953%\n",
      "R_avg_opp_TD_att = 4.824399260628466%\n",
      "R_avg_opp_TD_landed = 5.304990757855823%\n",
      "R_avg_HEAD_att = 3.1792975970425137%\n",
      "R_avg_HEAD_landed = 3.5674676524953792%\n",
      "R_avg_opp_HEAD_att = 2.754158964879852%\n",
      "R_avg_opp_HEAD_landed = 3.2717190388170057%\n",
      "R_avg_BODY_att = 3.9186691312384476%\n",
      "R_avg_BODY_landed = 3.9741219963031424%\n",
      "R_avg_opp_BODY_att = 3.216266173752311%\n",
      "R_avg_opp_BODY_landed = 3.4380776340110906%\n",
      "R_avg_LEG_att = 5.138632162661738%\n",
      "R_avg_LEG_landed = 4.935304990757856%\n",
      "R_avg_opp_LEG_att = 5.009242144177449%\n",
      "R_avg_opp_LEG_landed = 5.341959334565619%\n",
      "R_avg_DISTANCE_att = 3.086876155268022%\n",
      "R_avg_DISTANCE_landed = 3.5674676524953792%\n",
      "R_avg_opp_DISTANCE_att = 2.865064695009242%\n",
      "R_avg_opp_DISTANCE_landed = 3.0499075785582255%\n",
      "R_avg_CLINCH_att = 4.731977818853974%\n",
      "R_avg_CLINCH_landed = 5.415896487985212%\n",
      "R_avg_opp_CLINCH_att = 5.231053604436229%\n",
      "R_avg_opp_CLINCH_landed = 6.044362292051756%\n",
      "R_avg_GROUND_att = 6.284658040665435%\n",
      "R_avg_GROUND_landed = 6.062846580406654%\n",
      "R_avg_opp_GROUND_att = 5.988909426987061%\n",
      "R_avg_opp_GROUND_landed = 6.081330868761552%\n",
      "R_avg_CTRL_time(seconds) = 2.7726432532347505%\n",
      "R_avg_opp_CTRL_time(seconds) = 3.6968576709796674%\n",
      "R_total_time_fought(seconds) = 0.2402957486136784%\n",
      "R_total_rounds_fought = 3.7338262476894637%\n",
      "R_total_title_bouts = 6.78373382624769%\n",
      "R_current_win_streak = 2.7911275415896486%\n",
      "R_current_lose_streak = 1.1275415896487986%\n",
      "R_longest_win_streak = 4.695009242144177%\n",
      "R_wins = 2.846580406654344%\n",
      "R_losses = 3.3826247689463953%\n",
      "R_draw = 0.0%\n",
      "R_win_by_Decision_Majority = 2.7356746765249538%\n",
      "R_win_by_Decision_Split = 23.752310536044362%\n",
      "R_win_by_Decision_Unanimous = 3.197781885397412%\n",
      "R_win_by_KO/TKO = 4.214417744916821%\n",
      "R_win_by_Submission = 9.593345656192238%\n",
      "R_win_by_TKO_Doctor_Stoppage = 6.303142329020332%\n",
      "R_Height_cms = 0.3512014787430684%\n",
      "R_Reach_cms = 1.4417744916820703%\n",
      "R_Weight_lbs = 5.582255083179297%\n",
      "B_age = 0.6654343807763401%\n",
      "R_age = 1.4048059149722736%\n"
     ]
    }
   ],
   "source": [
    "outliers = dict(check_outlier(df_number).sum())\n",
    "print(\"\\n\\npercentage of outliers in each column:\")\n",
    "for key in outliers.keys():\n",
    "    print(f\"{key} = {outliers[key]/df_number[key].shape[0] * 100}%\")"
   ]
  },
  {
   "cell_type": "code",
   "execution_count": 86,
   "metadata": {
    "ExecuteTime": {
     "start_time": "2023-12-24T09:27:20.638902Z",
     "end_time": "2023-12-24T09:27:20.765731Z"
    },
    "collapsed": false
   },
   "outputs": [],
   "source": [
    "# Add a constant value to make all values positive\n",
    "df_number_positive = df_number + abs(df_number.min()) + 1\n",
    "\n",
    "df_number_log = np.log(df_number_positive)\n"
   ]
  },
  {
   "cell_type": "code",
   "execution_count": 87,
   "metadata": {
    "ExecuteTime": {
     "start_time": "2023-12-24T09:27:20.669966Z",
     "end_time": "2023-12-24T09:27:20.777943Z"
    },
    "collapsed": false
   },
   "outputs": [
    {
     "data": {
      "text/plain": "   B_avg_KD  B_avg_opp_KD  B_avg_SIG_STR_pct  B_avg_opp_SIG_STR_pct  \\\n0  0.000000      0.000000           0.415415               0.317430   \n1  0.768371      0.000000           0.332278               0.301897   \n2  0.000000      0.000000           0.306105               0.398776   \n3  0.527867      0.000000           0.578499               0.170204   \n4  0.405465      0.236337           0.323143               0.376076   \n\n   B_avg_TD_pct  B_avg_opp_TD_pct  B_avg_SUB_ATT  B_avg_opp_SUB_ATT  \\\n0      0.140848          0.318454       0.000000           0.550647   \n1      0.214481          0.011419       0.145182           0.124703   \n2      0.000000          0.431782       0.000000           1.386294   \n3      0.084600          0.099280       0.089612           0.060625   \n4      0.357405          0.384970       0.866230           0.000244   \n\n   B_avg_REV  B_avg_opp_REV  ...  R_win_by_Decision_Split  \\\n0   0.405465       0.000000  ...                 0.000000   \n1   0.000000       0.000000  ...                 0.000000   \n2   0.000000       0.000000  ...                 0.000000   \n3   0.000000       0.000000  ...                 0.693147   \n4   0.117783       0.405465  ...                 0.000000   \n\n   R_win_by_Decision_Unanimous  R_win_by_KO/TKO  R_win_by_Submission  \\\n0                     0.000000         0.000000             0.000000   \n1                     1.609438         0.000000             0.693147   \n2                     0.000000         0.000000             0.000000   \n3                     1.791759         1.945910             1.386294   \n4                     1.098612         1.386294             0.000000   \n\n   R_win_by_TKO_Doctor_Stoppage  R_Height_cms  R_Reach_cms  R_Weight_lbs  \\\n0                      0.000000      5.817944     5.802722      5.707110   \n1                      0.000000      5.810362     5.832938      5.655992   \n2                      0.000000      5.825469     5.847710      5.655992   \n3                      0.000000      5.802722     5.825469      5.655992   \n4                      0.693147      5.747544     5.771566      5.525453   \n\n      B_age     R_age  \n0  3.806662  3.713572  \n1  3.828641  3.912023  \n2  3.850148  3.931826  \n3  3.850148  3.988984  \n4  3.970292  3.931826  \n\n[5 rows x 134 columns]",
      "text/html": "<div>\n<style scoped>\n    .dataframe tbody tr th:only-of-type {\n        vertical-align: middle;\n    }\n\n    .dataframe tbody tr th {\n        vertical-align: top;\n    }\n\n    .dataframe thead th {\n        text-align: right;\n    }\n</style>\n<table border=\"1\" class=\"dataframe\">\n  <thead>\n    <tr style=\"text-align: right;\">\n      <th></th>\n      <th>B_avg_KD</th>\n      <th>B_avg_opp_KD</th>\n      <th>B_avg_SIG_STR_pct</th>\n      <th>B_avg_opp_SIG_STR_pct</th>\n      <th>B_avg_TD_pct</th>\n      <th>B_avg_opp_TD_pct</th>\n      <th>B_avg_SUB_ATT</th>\n      <th>B_avg_opp_SUB_ATT</th>\n      <th>B_avg_REV</th>\n      <th>B_avg_opp_REV</th>\n      <th>...</th>\n      <th>R_win_by_Decision_Split</th>\n      <th>R_win_by_Decision_Unanimous</th>\n      <th>R_win_by_KO/TKO</th>\n      <th>R_win_by_Submission</th>\n      <th>R_win_by_TKO_Doctor_Stoppage</th>\n      <th>R_Height_cms</th>\n      <th>R_Reach_cms</th>\n      <th>R_Weight_lbs</th>\n      <th>B_age</th>\n      <th>R_age</th>\n    </tr>\n  </thead>\n  <tbody>\n    <tr>\n      <th>0</th>\n      <td>0.000000</td>\n      <td>0.000000</td>\n      <td>0.415415</td>\n      <td>0.317430</td>\n      <td>0.140848</td>\n      <td>0.318454</td>\n      <td>0.000000</td>\n      <td>0.550647</td>\n      <td>0.405465</td>\n      <td>0.000000</td>\n      <td>...</td>\n      <td>0.000000</td>\n      <td>0.000000</td>\n      <td>0.000000</td>\n      <td>0.000000</td>\n      <td>0.000000</td>\n      <td>5.817944</td>\n      <td>5.802722</td>\n      <td>5.707110</td>\n      <td>3.806662</td>\n      <td>3.713572</td>\n    </tr>\n    <tr>\n      <th>1</th>\n      <td>0.768371</td>\n      <td>0.000000</td>\n      <td>0.332278</td>\n      <td>0.301897</td>\n      <td>0.214481</td>\n      <td>0.011419</td>\n      <td>0.145182</td>\n      <td>0.124703</td>\n      <td>0.000000</td>\n      <td>0.000000</td>\n      <td>...</td>\n      <td>0.000000</td>\n      <td>1.609438</td>\n      <td>0.000000</td>\n      <td>0.693147</td>\n      <td>0.000000</td>\n      <td>5.810362</td>\n      <td>5.832938</td>\n      <td>5.655992</td>\n      <td>3.828641</td>\n      <td>3.912023</td>\n    </tr>\n    <tr>\n      <th>2</th>\n      <td>0.000000</td>\n      <td>0.000000</td>\n      <td>0.306105</td>\n      <td>0.398776</td>\n      <td>0.000000</td>\n      <td>0.431782</td>\n      <td>0.000000</td>\n      <td>1.386294</td>\n      <td>0.000000</td>\n      <td>0.000000</td>\n      <td>...</td>\n      <td>0.000000</td>\n      <td>0.000000</td>\n      <td>0.000000</td>\n      <td>0.000000</td>\n      <td>0.000000</td>\n      <td>5.825469</td>\n      <td>5.847710</td>\n      <td>5.655992</td>\n      <td>3.850148</td>\n      <td>3.931826</td>\n    </tr>\n    <tr>\n      <th>3</th>\n      <td>0.527867</td>\n      <td>0.000000</td>\n      <td>0.578499</td>\n      <td>0.170204</td>\n      <td>0.084600</td>\n      <td>0.099280</td>\n      <td>0.089612</td>\n      <td>0.060625</td>\n      <td>0.000000</td>\n      <td>0.000000</td>\n      <td>...</td>\n      <td>0.693147</td>\n      <td>1.791759</td>\n      <td>1.945910</td>\n      <td>1.386294</td>\n      <td>0.000000</td>\n      <td>5.802722</td>\n      <td>5.825469</td>\n      <td>5.655992</td>\n      <td>3.850148</td>\n      <td>3.988984</td>\n    </tr>\n    <tr>\n      <th>4</th>\n      <td>0.405465</td>\n      <td>0.236337</td>\n      <td>0.323143</td>\n      <td>0.376076</td>\n      <td>0.357405</td>\n      <td>0.384970</td>\n      <td>0.866230</td>\n      <td>0.000244</td>\n      <td>0.117783</td>\n      <td>0.405465</td>\n      <td>...</td>\n      <td>0.000000</td>\n      <td>1.098612</td>\n      <td>1.386294</td>\n      <td>0.000000</td>\n      <td>0.693147</td>\n      <td>5.747544</td>\n      <td>5.771566</td>\n      <td>5.525453</td>\n      <td>3.970292</td>\n      <td>3.931826</td>\n    </tr>\n  </tbody>\n</table>\n<p>5 rows × 134 columns</p>\n</div>"
     },
     "execution_count": 87,
     "metadata": {},
     "output_type": "execute_result"
    }
   ],
   "source": [
    "df_number_log.head()"
   ]
  },
  {
   "cell_type": "code",
   "execution_count": 88,
   "metadata": {
    "ExecuteTime": {
     "start_time": "2023-12-24T09:27:20.683938Z",
     "end_time": "2023-12-24T09:27:20.778367Z"
    },
    "collapsed": false
   },
   "outputs": [
    {
     "name": "stdout",
     "output_type": "stream",
     "text": [
      "Outlier pada tiap atribut:\n",
      "B_avg_KD                 564\n",
      "B_avg_opp_KD             678\n",
      "B_avg_SIG_STR_pct        164\n",
      "B_avg_opp_SIG_STR_pct    116\n",
      "B_avg_TD_pct               0\n",
      "                        ... \n",
      "R_Height_cms              19\n",
      "R_Reach_cms               78\n",
      "R_Weight_lbs             302\n",
      "B_age                     36\n",
      "R_age                     76\n",
      "Length: 134, dtype: int64\n",
      "\n",
      "\n",
      "percentage of outliers in each column:\n",
      "B_avg_KD = 10.425138632162662%\n",
      "B_avg_opp_KD = 12.532347504621072%\n",
      "B_avg_SIG_STR_pct = 3.031423290203327%\n",
      "B_avg_opp_SIG_STR_pct = 2.144177449168207%\n",
      "B_avg_TD_pct = 0.0%\n",
      "B_avg_opp_TD_pct = 0.0%\n",
      "B_avg_SUB_ATT = 7.33826247689464%\n",
      "B_avg_opp_SUB_ATT = 6.099815157116451%\n",
      "B_avg_REV = 9.88909426987061%\n",
      "B_avg_opp_REV = 17.892791127541592%\n",
      "B_avg_SIG_STR_att = 3.8632162661737524%\n",
      "B_avg_SIG_STR_landed = 3.216266173752311%\n",
      "B_avg_opp_SIG_STR_att = 3.3826247689463953%\n",
      "B_avg_opp_SIG_STR_landed = 2.957486136783734%\n",
      "B_avg_TOTAL_STR_att = 2.32902033271719%\n",
      "B_avg_TOTAL_STR_landed = 2.144177449168207%\n",
      "B_avg_opp_TOTAL_STR_att = 2.3475046210720887%\n",
      "B_avg_opp_TOTAL_STR_landed = 2.5508317929759707%\n",
      "B_avg_TD_att = 5.508317929759704%\n",
      "B_avg_TD_landed = 3.9371534195933457%\n",
      "B_avg_opp_TD_att = 4.380776340110906%\n",
      "B_avg_opp_TD_landed = 3.2902033271719042%\n",
      "B_avg_HEAD_att = 3.9741219963031424%\n",
      "B_avg_HEAD_landed = 3.512014787430684%\n",
      "B_avg_opp_HEAD_att = 3.6598890942698707%\n",
      "B_avg_opp_HEAD_landed = 2.902033271719039%\n",
      "B_avg_BODY_att = 4.269870609981516%\n",
      "B_avg_BODY_landed = 3.7523105360443623%\n",
      "B_avg_opp_BODY_att = 3.3271719038817005%\n",
      "B_avg_opp_BODY_landed = 3.1792975970425137%\n",
      "B_avg_LEG_att = 4.491682070240296%\n",
      "B_avg_LEG_landed = 4.787430683918669%\n",
      "B_avg_opp_LEG_att = 3.9371534195933457%\n",
      "B_avg_opp_LEG_landed = 3.7153419593345656%\n",
      "B_avg_DISTANCE_att = 4.417744916820703%\n",
      "B_avg_DISTANCE_landed = 4.251386321626617%\n",
      "B_avg_opp_DISTANCE_att = 3.5674676524953792%\n",
      "B_avg_opp_DISTANCE_landed = 4.011090573012939%\n",
      "B_avg_CLINCH_att = 4.066543438077634%\n",
      "B_avg_CLINCH_landed = 4.399260628465805%\n",
      "B_avg_opp_CLINCH_att = 5.027726432532347%\n",
      "B_avg_opp_CLINCH_landed = 4.399260628465805%\n",
      "B_avg_GROUND_att = 6.247689463955638%\n",
      "B_avg_GROUND_landed = 6.136783733826247%\n",
      "B_avg_opp_GROUND_att = 6.598890942698706%\n",
      "B_avg_opp_GROUND_landed = 7.966728280961183%\n",
      "B_avg_CTRL_time(seconds) = 3.1608133086876156%\n",
      "B_avg_opp_CTRL_time(seconds) = 3.475046210720887%\n",
      "B_total_time_fought(seconds) = 0.11090573012939%\n",
      "B_total_rounds_fought = 6.247689463955638%\n",
      "B_total_title_bouts = 12.865064695009243%\n",
      "B_current_win_streak = 12.791127541589647%\n",
      "B_current_lose_streak = 1.4972273567467653%\n",
      "B_longest_win_streak = 0.7763401109057301%\n",
      "B_wins = 3.6968576709796674%\n",
      "B_losses = 4.695009242144177%\n",
      "B_draw = 0.0%\n",
      "B_win_by_Decision_Majority = 1.6635859519408502%\n",
      "B_win_by_Decision_Split = 17.707948243992604%\n",
      "B_win_by_Decision_Unanimous = 10.499075785582255%\n",
      "B_win_by_KO/TKO = 11.571164510166358%\n",
      "B_win_by_Submission = 6.635859519408503%\n",
      "B_win_by_TKO_Doctor_Stoppage = 4.029574861367837%\n",
      "B_Height_cms = 0.3142329020332717%\n",
      "B_Reach_cms = 1.1275415896487986%\n",
      "B_Weight_lbs = 5.822550831792976%\n",
      "R_avg_KD = 7.578558225508318%\n",
      "R_avg_opp_KD = 7.8743068391866915%\n",
      "R_avg_SIG_STR_pct = 2.292051756007394%\n",
      "R_avg_opp_SIG_STR_pct = 2.5508317929759707%\n",
      "R_avg_TD_pct = 0.0%\n",
      "R_avg_opp_TD_pct = 0.0%\n",
      "R_avg_SUB_ATT = 5.268022181146026%\n",
      "R_avg_opp_SUB_ATT = 7.356746765249538%\n",
      "R_avg_REV = 16.617375231053604%\n",
      "R_avg_opp_REV = 17.20887245841035%\n",
      "R_avg_SIG_STR_att = 3.0683918669131236%\n",
      "R_avg_SIG_STR_landed = 3.364140480591497%\n",
      "R_avg_opp_SIG_STR_att = 2.6247689463955637%\n",
      "R_avg_opp_SIG_STR_landed = 3.1053604436229203%\n",
      "R_avg_TOTAL_STR_att = 2.0147874306839184%\n",
      "R_avg_TOTAL_STR_landed = 2.8835489833641406%\n",
      "R_avg_opp_TOTAL_STR_att = 1.8669131238447318%\n",
      "R_avg_opp_TOTAL_STR_landed = 2.532347504621072%\n",
      "R_avg_TD_att = 3.4380776340110906%\n",
      "R_avg_TD_landed = 3.3826247689463953%\n",
      "R_avg_opp_TD_att = 4.824399260628466%\n",
      "R_avg_opp_TD_landed = 5.304990757855823%\n",
      "R_avg_HEAD_att = 3.1792975970425137%\n",
      "R_avg_HEAD_landed = 3.5674676524953792%\n",
      "R_avg_opp_HEAD_att = 2.754158964879852%\n",
      "R_avg_opp_HEAD_landed = 3.2717190388170057%\n",
      "R_avg_BODY_att = 3.9186691312384476%\n",
      "R_avg_BODY_landed = 3.9741219963031424%\n",
      "R_avg_opp_BODY_att = 3.216266173752311%\n",
      "R_avg_opp_BODY_landed = 3.4380776340110906%\n",
      "R_avg_LEG_att = 5.138632162661738%\n",
      "R_avg_LEG_landed = 4.935304990757856%\n",
      "R_avg_opp_LEG_att = 5.009242144177449%\n",
      "R_avg_opp_LEG_landed = 5.341959334565619%\n",
      "R_avg_DISTANCE_att = 3.086876155268022%\n",
      "R_avg_DISTANCE_landed = 3.5674676524953792%\n",
      "R_avg_opp_DISTANCE_att = 2.865064695009242%\n",
      "R_avg_opp_DISTANCE_landed = 3.0499075785582255%\n",
      "R_avg_CLINCH_att = 4.731977818853974%\n",
      "R_avg_CLINCH_landed = 5.415896487985212%\n",
      "R_avg_opp_CLINCH_att = 5.231053604436229%\n",
      "R_avg_opp_CLINCH_landed = 6.044362292051756%\n",
      "R_avg_GROUND_att = 6.284658040665435%\n",
      "R_avg_GROUND_landed = 6.062846580406654%\n",
      "R_avg_opp_GROUND_att = 5.988909426987061%\n",
      "R_avg_opp_GROUND_landed = 6.081330868761552%\n",
      "R_avg_CTRL_time(seconds) = 2.7726432532347505%\n",
      "R_avg_opp_CTRL_time(seconds) = 3.6968576709796674%\n",
      "R_total_time_fought(seconds) = 0.2402957486136784%\n",
      "R_total_rounds_fought = 3.7338262476894637%\n",
      "R_total_title_bouts = 6.78373382624769%\n",
      "R_current_win_streak = 2.7911275415896486%\n",
      "R_current_lose_streak = 1.1275415896487986%\n",
      "R_longest_win_streak = 4.695009242144177%\n",
      "R_wins = 2.846580406654344%\n",
      "R_losses = 3.3826247689463953%\n",
      "R_draw = 0.0%\n",
      "R_win_by_Decision_Majority = 2.7356746765249538%\n",
      "R_win_by_Decision_Split = 23.752310536044362%\n",
      "R_win_by_Decision_Unanimous = 3.197781885397412%\n",
      "R_win_by_KO/TKO = 4.214417744916821%\n",
      "R_win_by_Submission = 9.593345656192238%\n",
      "R_win_by_TKO_Doctor_Stoppage = 6.303142329020332%\n",
      "R_Height_cms = 0.3512014787430684%\n",
      "R_Reach_cms = 1.4417744916820703%\n",
      "R_Weight_lbs = 5.582255083179297%\n",
      "B_age = 0.6654343807763401%\n",
      "R_age = 1.4048059149722736%\n"
     ]
    }
   ],
   "source": [
    "outliers = dict(check_outlier(df_number).sum())\n",
    "print(\"\\n\\npercentage of outliers in each column:\")\n",
    "for key in outliers.keys():\n",
    "    print(f\"{key} = {outliers[key]/df_number[key].shape[0] * 100}%\")"
   ]
  },
  {
   "cell_type": "code",
   "execution_count": 89,
   "metadata": {
    "ExecuteTime": {
     "start_time": "2023-12-24T09:27:20.723711Z",
     "end_time": "2023-12-24T09:27:20.778626Z"
    },
    "collapsed": false
   },
   "outputs": [],
   "source": [
    "df['gender'] = df['weight_class'].apply(lambda x: 'women' if 'women' in x.lower() else 'male')"
   ]
  },
  {
   "cell_type": "code",
   "execution_count": 90,
   "metadata": {
    "ExecuteTime": {
     "start_time": "2023-12-24T09:27:20.742474Z",
     "end_time": "2023-12-24T09:27:20.779284Z"
    },
    "collapsed": false
   },
   "outputs": [
    {
     "data": {
      "text/plain": "   weight_class  B_Stance  R_Stance Winner  B_avg_KD  B_avg_opp_KD  \\\n0  Middleweight  Orthodox  Southpaw    Red  0.000000      0.000000   \n1   Lightweight  Orthodox  Orthodox   Blue  1.156250      0.000000   \n2  Welterweight  Orthodox  Orthodox   Blue  0.000000      0.000000   \n3  Welterweight  Southpaw  Orthodox   Blue  0.695312      0.000000   \n4  Bantamweight  Orthodox  Orthodox    Red  0.500000      0.266602   \n\n   B_avg_SIG_STR_pct  B_avg_opp_SIG_STR_pct  B_avg_TD_pct  B_avg_opp_TD_pct  \\\n0           0.515000               0.373594      0.151250          0.375000   \n1           0.394141               0.352422      0.239219          0.011484   \n2           0.358125               0.490000      0.000000          0.540000   \n3           0.783359               0.185547      0.088281          0.104375   \n4           0.381462               0.456558      0.429614          0.469570   \n\n   ...  R_win_by_Decision_Unanimous  R_win_by_KO/TKO  R_win_by_Submission  \\\n0  ...                          0.0              0.0                  0.0   \n1  ...                          4.0              0.0                  1.0   \n2  ...                          0.0              0.0                  0.0   \n3  ...                          5.0              6.0                  3.0   \n4  ...                          2.0              3.0                  0.0   \n\n   R_win_by_TKO_Doctor_Stoppage  R_Height_cms  R_Reach_cms  R_Weight_lbs  \\\n0                           0.0        182.88       177.80         185.0   \n1                           0.0        180.34       187.96         170.0   \n2                           0.0        185.42       193.04         170.0   \n3                           0.0        177.80       185.42         170.0   \n4                           1.0        160.02       167.64         135.0   \n\n   B_age  R_age  gender  \n0   26.0   21.0    male  \n1   27.0   30.0    male  \n2   28.0   31.0    male  \n3   28.0   34.0    male  \n4   34.0   31.0    male  \n\n[5 rows x 139 columns]",
      "text/html": "<div>\n<style scoped>\n    .dataframe tbody tr th:only-of-type {\n        vertical-align: middle;\n    }\n\n    .dataframe tbody tr th {\n        vertical-align: top;\n    }\n\n    .dataframe thead th {\n        text-align: right;\n    }\n</style>\n<table border=\"1\" class=\"dataframe\">\n  <thead>\n    <tr style=\"text-align: right;\">\n      <th></th>\n      <th>weight_class</th>\n      <th>B_Stance</th>\n      <th>R_Stance</th>\n      <th>Winner</th>\n      <th>B_avg_KD</th>\n      <th>B_avg_opp_KD</th>\n      <th>B_avg_SIG_STR_pct</th>\n      <th>B_avg_opp_SIG_STR_pct</th>\n      <th>B_avg_TD_pct</th>\n      <th>B_avg_opp_TD_pct</th>\n      <th>...</th>\n      <th>R_win_by_Decision_Unanimous</th>\n      <th>R_win_by_KO/TKO</th>\n      <th>R_win_by_Submission</th>\n      <th>R_win_by_TKO_Doctor_Stoppage</th>\n      <th>R_Height_cms</th>\n      <th>R_Reach_cms</th>\n      <th>R_Weight_lbs</th>\n      <th>B_age</th>\n      <th>R_age</th>\n      <th>gender</th>\n    </tr>\n  </thead>\n  <tbody>\n    <tr>\n      <th>0</th>\n      <td>Middleweight</td>\n      <td>Orthodox</td>\n      <td>Southpaw</td>\n      <td>Red</td>\n      <td>0.000000</td>\n      <td>0.000000</td>\n      <td>0.515000</td>\n      <td>0.373594</td>\n      <td>0.151250</td>\n      <td>0.375000</td>\n      <td>...</td>\n      <td>0.0</td>\n      <td>0.0</td>\n      <td>0.0</td>\n      <td>0.0</td>\n      <td>182.88</td>\n      <td>177.80</td>\n      <td>185.0</td>\n      <td>26.0</td>\n      <td>21.0</td>\n      <td>male</td>\n    </tr>\n    <tr>\n      <th>1</th>\n      <td>Lightweight</td>\n      <td>Orthodox</td>\n      <td>Orthodox</td>\n      <td>Blue</td>\n      <td>1.156250</td>\n      <td>0.000000</td>\n      <td>0.394141</td>\n      <td>0.352422</td>\n      <td>0.239219</td>\n      <td>0.011484</td>\n      <td>...</td>\n      <td>4.0</td>\n      <td>0.0</td>\n      <td>1.0</td>\n      <td>0.0</td>\n      <td>180.34</td>\n      <td>187.96</td>\n      <td>170.0</td>\n      <td>27.0</td>\n      <td>30.0</td>\n      <td>male</td>\n    </tr>\n    <tr>\n      <th>2</th>\n      <td>Welterweight</td>\n      <td>Orthodox</td>\n      <td>Orthodox</td>\n      <td>Blue</td>\n      <td>0.000000</td>\n      <td>0.000000</td>\n      <td>0.358125</td>\n      <td>0.490000</td>\n      <td>0.000000</td>\n      <td>0.540000</td>\n      <td>...</td>\n      <td>0.0</td>\n      <td>0.0</td>\n      <td>0.0</td>\n      <td>0.0</td>\n      <td>185.42</td>\n      <td>193.04</td>\n      <td>170.0</td>\n      <td>28.0</td>\n      <td>31.0</td>\n      <td>male</td>\n    </tr>\n    <tr>\n      <th>3</th>\n      <td>Welterweight</td>\n      <td>Southpaw</td>\n      <td>Orthodox</td>\n      <td>Blue</td>\n      <td>0.695312</td>\n      <td>0.000000</td>\n      <td>0.783359</td>\n      <td>0.185547</td>\n      <td>0.088281</td>\n      <td>0.104375</td>\n      <td>...</td>\n      <td>5.0</td>\n      <td>6.0</td>\n      <td>3.0</td>\n      <td>0.0</td>\n      <td>177.80</td>\n      <td>185.42</td>\n      <td>170.0</td>\n      <td>28.0</td>\n      <td>34.0</td>\n      <td>male</td>\n    </tr>\n    <tr>\n      <th>4</th>\n      <td>Bantamweight</td>\n      <td>Orthodox</td>\n      <td>Orthodox</td>\n      <td>Red</td>\n      <td>0.500000</td>\n      <td>0.266602</td>\n      <td>0.381462</td>\n      <td>0.456558</td>\n      <td>0.429614</td>\n      <td>0.469570</td>\n      <td>...</td>\n      <td>2.0</td>\n      <td>3.0</td>\n      <td>0.0</td>\n      <td>1.0</td>\n      <td>160.02</td>\n      <td>167.64</td>\n      <td>135.0</td>\n      <td>34.0</td>\n      <td>31.0</td>\n      <td>male</td>\n    </tr>\n  </tbody>\n</table>\n<p>5 rows × 139 columns</p>\n</div>"
     },
     "execution_count": 90,
     "metadata": {},
     "output_type": "execute_result"
    }
   ],
   "source": [
    "df.head()"
   ]
  },
  {
   "cell_type": "code",
   "execution_count": 91,
   "metadata": {
    "ExecuteTime": {
     "start_time": "2023-12-24T09:27:20.754340Z",
     "end_time": "2023-12-24T09:27:20.779695Z"
    },
    "collapsed": false
   },
   "outputs": [],
   "source": [
    "df['weight_class'] = df['weight_class'].str.replace('Women', '')"
   ]
  },
  {
   "cell_type": "code",
   "execution_count": 92,
   "metadata": {
    "ExecuteTime": {
     "start_time": "2023-12-24T09:27:20.757008Z",
     "end_time": "2023-12-24T09:27:20.779809Z"
    },
    "collapsed": false
   },
   "outputs": [
    {
     "data": {
      "text/plain": "array(['Middleweight', 'Lightweight', 'Welterweight', 'Bantamweight',\n       'Flyweight', 'LightHeavyweight', 'Strawweight', 'Featherweight',\n       'OpenWeight', 'Heavyweight', 'CatchWeight'], dtype=object)"
     },
     "execution_count": 92,
     "metadata": {},
     "output_type": "execute_result"
    }
   ],
   "source": [
    "# Get all weight_class values\n",
    "weight_class = df['weight_class'].unique()\n",
    "weight_class"
   ]
  },
  {
   "cell_type": "code",
   "execution_count": 93,
   "metadata": {
    "ExecuteTime": {
     "start_time": "2023-12-24T09:27:20.764660Z",
     "end_time": "2023-12-24T09:27:20.779913Z"
    },
    "collapsed": false
   },
   "outputs": [],
   "source": [
    "# Create a dictionary to map weight_class values to numbers\n",
    "weight_class_dict = {\n",
    "    'CatchWeight' : 0,\n",
    "    'Strawweight' : 1,\n",
    "    'Flyweight' : 2,\n",
    "    'Bantamweight' : 3,\n",
    "    'Featherweight' : 4,\n",
    "    'Lightweight' : 5,\n",
    "    'Welterweight' : 6,\n",
    "    'Middleweight' : 7,\n",
    "    'LightHeavyweight' : 8,\n",
    "    'Heavyweight' : 9,\n",
    "    'OpenWeight' : 10,\n",
    "}\n",
    "\n",
    "gender_dict = {\n",
    "    'male' : 1,\n",
    "    'women' : 0\n",
    "}"
   ]
  },
  {
   "cell_type": "code",
   "execution_count": 94,
   "metadata": {
    "ExecuteTime": {
     "start_time": "2023-12-24T09:27:20.769799Z",
     "end_time": "2023-12-24T09:27:20.779955Z"
    },
    "collapsed": false
   },
   "outputs": [],
   "source": [
    "# Map each weight_class value to the correct number\n",
    "df['weight_class'] = df['weight_class'].map(weight_class_dict)"
   ]
  },
  {
   "cell_type": "code",
   "execution_count": 95,
   "metadata": {
    "ExecuteTime": {
     "start_time": "2023-12-24T09:27:20.774967Z",
     "end_time": "2023-12-24T09:27:20.779993Z"
    },
    "collapsed": false
   },
   "outputs": [],
   "source": [
    "# Map each gender value to the correct number\n",
    "df['gender'] = df['gender'].map(gender_dict)"
   ]
  },
  {
   "cell_type": "code",
   "execution_count": 96,
   "metadata": {
    "ExecuteTime": {
     "start_time": "2023-12-24T09:27:20.791406Z",
     "end_time": "2023-12-24T09:27:20.836307Z"
    },
    "collapsed": false
   },
   "outputs": [
    {
     "data": {
      "text/plain": "   weight_class  B_Stance  R_Stance Winner  B_avg_KD  B_avg_opp_KD  \\\n0             7  Orthodox  Southpaw    Red  0.000000      0.000000   \n1             5  Orthodox  Orthodox   Blue  1.156250      0.000000   \n2             6  Orthodox  Orthodox   Blue  0.000000      0.000000   \n3             6  Southpaw  Orthodox   Blue  0.695312      0.000000   \n4             3  Orthodox  Orthodox    Red  0.500000      0.266602   \n\n   B_avg_SIG_STR_pct  B_avg_opp_SIG_STR_pct  B_avg_TD_pct  B_avg_opp_TD_pct  \\\n0           0.515000               0.373594      0.151250          0.375000   \n1           0.394141               0.352422      0.239219          0.011484   \n2           0.358125               0.490000      0.000000          0.540000   \n3           0.783359               0.185547      0.088281          0.104375   \n4           0.381462               0.456558      0.429614          0.469570   \n\n   ...  R_win_by_Decision_Unanimous  R_win_by_KO/TKO  R_win_by_Submission  \\\n0  ...                          0.0              0.0                  0.0   \n1  ...                          4.0              0.0                  1.0   \n2  ...                          0.0              0.0                  0.0   \n3  ...                          5.0              6.0                  3.0   \n4  ...                          2.0              3.0                  0.0   \n\n   R_win_by_TKO_Doctor_Stoppage  R_Height_cms  R_Reach_cms  R_Weight_lbs  \\\n0                           0.0        182.88       177.80         185.0   \n1                           0.0        180.34       187.96         170.0   \n2                           0.0        185.42       193.04         170.0   \n3                           0.0        177.80       185.42         170.0   \n4                           1.0        160.02       167.64         135.0   \n\n   B_age  R_age  gender  \n0   26.0   21.0       1  \n1   27.0   30.0       1  \n2   28.0   31.0       1  \n3   28.0   34.0       1  \n4   34.0   31.0       1  \n\n[5 rows x 139 columns]",
      "text/html": "<div>\n<style scoped>\n    .dataframe tbody tr th:only-of-type {\n        vertical-align: middle;\n    }\n\n    .dataframe tbody tr th {\n        vertical-align: top;\n    }\n\n    .dataframe thead th {\n        text-align: right;\n    }\n</style>\n<table border=\"1\" class=\"dataframe\">\n  <thead>\n    <tr style=\"text-align: right;\">\n      <th></th>\n      <th>weight_class</th>\n      <th>B_Stance</th>\n      <th>R_Stance</th>\n      <th>Winner</th>\n      <th>B_avg_KD</th>\n      <th>B_avg_opp_KD</th>\n      <th>B_avg_SIG_STR_pct</th>\n      <th>B_avg_opp_SIG_STR_pct</th>\n      <th>B_avg_TD_pct</th>\n      <th>B_avg_opp_TD_pct</th>\n      <th>...</th>\n      <th>R_win_by_Decision_Unanimous</th>\n      <th>R_win_by_KO/TKO</th>\n      <th>R_win_by_Submission</th>\n      <th>R_win_by_TKO_Doctor_Stoppage</th>\n      <th>R_Height_cms</th>\n      <th>R_Reach_cms</th>\n      <th>R_Weight_lbs</th>\n      <th>B_age</th>\n      <th>R_age</th>\n      <th>gender</th>\n    </tr>\n  </thead>\n  <tbody>\n    <tr>\n      <th>0</th>\n      <td>7</td>\n      <td>Orthodox</td>\n      <td>Southpaw</td>\n      <td>Red</td>\n      <td>0.000000</td>\n      <td>0.000000</td>\n      <td>0.515000</td>\n      <td>0.373594</td>\n      <td>0.151250</td>\n      <td>0.375000</td>\n      <td>...</td>\n      <td>0.0</td>\n      <td>0.0</td>\n      <td>0.0</td>\n      <td>0.0</td>\n      <td>182.88</td>\n      <td>177.80</td>\n      <td>185.0</td>\n      <td>26.0</td>\n      <td>21.0</td>\n      <td>1</td>\n    </tr>\n    <tr>\n      <th>1</th>\n      <td>5</td>\n      <td>Orthodox</td>\n      <td>Orthodox</td>\n      <td>Blue</td>\n      <td>1.156250</td>\n      <td>0.000000</td>\n      <td>0.394141</td>\n      <td>0.352422</td>\n      <td>0.239219</td>\n      <td>0.011484</td>\n      <td>...</td>\n      <td>4.0</td>\n      <td>0.0</td>\n      <td>1.0</td>\n      <td>0.0</td>\n      <td>180.34</td>\n      <td>187.96</td>\n      <td>170.0</td>\n      <td>27.0</td>\n      <td>30.0</td>\n      <td>1</td>\n    </tr>\n    <tr>\n      <th>2</th>\n      <td>6</td>\n      <td>Orthodox</td>\n      <td>Orthodox</td>\n      <td>Blue</td>\n      <td>0.000000</td>\n      <td>0.000000</td>\n      <td>0.358125</td>\n      <td>0.490000</td>\n      <td>0.000000</td>\n      <td>0.540000</td>\n      <td>...</td>\n      <td>0.0</td>\n      <td>0.0</td>\n      <td>0.0</td>\n      <td>0.0</td>\n      <td>185.42</td>\n      <td>193.04</td>\n      <td>170.0</td>\n      <td>28.0</td>\n      <td>31.0</td>\n      <td>1</td>\n    </tr>\n    <tr>\n      <th>3</th>\n      <td>6</td>\n      <td>Southpaw</td>\n      <td>Orthodox</td>\n      <td>Blue</td>\n      <td>0.695312</td>\n      <td>0.000000</td>\n      <td>0.783359</td>\n      <td>0.185547</td>\n      <td>0.088281</td>\n      <td>0.104375</td>\n      <td>...</td>\n      <td>5.0</td>\n      <td>6.0</td>\n      <td>3.0</td>\n      <td>0.0</td>\n      <td>177.80</td>\n      <td>185.42</td>\n      <td>170.0</td>\n      <td>28.0</td>\n      <td>34.0</td>\n      <td>1</td>\n    </tr>\n    <tr>\n      <th>4</th>\n      <td>3</td>\n      <td>Orthodox</td>\n      <td>Orthodox</td>\n      <td>Red</td>\n      <td>0.500000</td>\n      <td>0.266602</td>\n      <td>0.381462</td>\n      <td>0.456558</td>\n      <td>0.429614</td>\n      <td>0.469570</td>\n      <td>...</td>\n      <td>2.0</td>\n      <td>3.0</td>\n      <td>0.0</td>\n      <td>1.0</td>\n      <td>160.02</td>\n      <td>167.64</td>\n      <td>135.0</td>\n      <td>34.0</td>\n      <td>31.0</td>\n      <td>1</td>\n    </tr>\n  </tbody>\n</table>\n<p>5 rows × 139 columns</p>\n</div>"
     },
     "execution_count": 96,
     "metadata": {},
     "output_type": "execute_result"
    }
   ],
   "source": [
    "df.head()"
   ]
  },
  {
   "cell_type": "code",
   "execution_count": 97,
   "metadata": {
    "ExecuteTime": {
     "start_time": "2023-12-24T09:27:20.798057Z",
     "end_time": "2023-12-24T09:27:20.837277Z"
    },
    "collapsed": false
   },
   "outputs": [
    {
     "data": {
      "text/plain": "   weight_class  B_avg_KD  B_avg_opp_KD  B_avg_SIG_STR_pct  \\\n0             7  0.000000      0.000000           0.515000   \n1             5  1.156250      0.000000           0.394141   \n2             6  0.000000      0.000000           0.358125   \n3             6  0.695312      0.000000           0.783359   \n4             3  0.500000      0.266602           0.381462   \n\n   B_avg_opp_SIG_STR_pct  B_avg_TD_pct  B_avg_opp_TD_pct  B_avg_SUB_ATT  \\\n0               0.373594      0.151250          0.375000        0.00000   \n1               0.352422      0.239219          0.011484        0.15625   \n2               0.490000      0.000000          0.540000        0.00000   \n3               0.185547      0.088281          0.104375        0.09375   \n4               0.456558      0.429614          0.469570        1.37793   \n\n   B_avg_opp_SUB_ATT  B_avg_REV  ...  B_Stance_Southpaw  B_Stance_Switch  \\\n0           0.734375      0.500  ...                  0                0   \n1           0.132812      0.000  ...                  0                0   \n2           3.000000      0.000  ...                  0                0   \n3           0.062500      0.000  ...                  1                0   \n4           0.000244      0.125  ...                  0                0   \n\n   R_Stance_Open Stance  R_Stance_Orthodox  R_Stance_Sideways  \\\n0                     0                  0                  0   \n1                     0                  1                  0   \n2                     0                  1                  0   \n3                     0                  1                  0   \n4                     0                  1                  0   \n\n   R_Stance_Southpaw  R_Stance_Switch  Winner_Blue  Winner_Draw  Winner_Red  \n0                  1                0            0            0           1  \n1                  0                0            1            0           0  \n2                  0                0            1            0           0  \n3                  0                0            1            0           0  \n4                  0                0            0            0           1  \n\n[5 rows x 149 columns]",
      "text/html": "<div>\n<style scoped>\n    .dataframe tbody tr th:only-of-type {\n        vertical-align: middle;\n    }\n\n    .dataframe tbody tr th {\n        vertical-align: top;\n    }\n\n    .dataframe thead th {\n        text-align: right;\n    }\n</style>\n<table border=\"1\" class=\"dataframe\">\n  <thead>\n    <tr style=\"text-align: right;\">\n      <th></th>\n      <th>weight_class</th>\n      <th>B_avg_KD</th>\n      <th>B_avg_opp_KD</th>\n      <th>B_avg_SIG_STR_pct</th>\n      <th>B_avg_opp_SIG_STR_pct</th>\n      <th>B_avg_TD_pct</th>\n      <th>B_avg_opp_TD_pct</th>\n      <th>B_avg_SUB_ATT</th>\n      <th>B_avg_opp_SUB_ATT</th>\n      <th>B_avg_REV</th>\n      <th>...</th>\n      <th>B_Stance_Southpaw</th>\n      <th>B_Stance_Switch</th>\n      <th>R_Stance_Open Stance</th>\n      <th>R_Stance_Orthodox</th>\n      <th>R_Stance_Sideways</th>\n      <th>R_Stance_Southpaw</th>\n      <th>R_Stance_Switch</th>\n      <th>Winner_Blue</th>\n      <th>Winner_Draw</th>\n      <th>Winner_Red</th>\n    </tr>\n  </thead>\n  <tbody>\n    <tr>\n      <th>0</th>\n      <td>7</td>\n      <td>0.000000</td>\n      <td>0.000000</td>\n      <td>0.515000</td>\n      <td>0.373594</td>\n      <td>0.151250</td>\n      <td>0.375000</td>\n      <td>0.00000</td>\n      <td>0.734375</td>\n      <td>0.500</td>\n      <td>...</td>\n      <td>0</td>\n      <td>0</td>\n      <td>0</td>\n      <td>0</td>\n      <td>0</td>\n      <td>1</td>\n      <td>0</td>\n      <td>0</td>\n      <td>0</td>\n      <td>1</td>\n    </tr>\n    <tr>\n      <th>1</th>\n      <td>5</td>\n      <td>1.156250</td>\n      <td>0.000000</td>\n      <td>0.394141</td>\n      <td>0.352422</td>\n      <td>0.239219</td>\n      <td>0.011484</td>\n      <td>0.15625</td>\n      <td>0.132812</td>\n      <td>0.000</td>\n      <td>...</td>\n      <td>0</td>\n      <td>0</td>\n      <td>0</td>\n      <td>1</td>\n      <td>0</td>\n      <td>0</td>\n      <td>0</td>\n      <td>1</td>\n      <td>0</td>\n      <td>0</td>\n    </tr>\n    <tr>\n      <th>2</th>\n      <td>6</td>\n      <td>0.000000</td>\n      <td>0.000000</td>\n      <td>0.358125</td>\n      <td>0.490000</td>\n      <td>0.000000</td>\n      <td>0.540000</td>\n      <td>0.00000</td>\n      <td>3.000000</td>\n      <td>0.000</td>\n      <td>...</td>\n      <td>0</td>\n      <td>0</td>\n      <td>0</td>\n      <td>1</td>\n      <td>0</td>\n      <td>0</td>\n      <td>0</td>\n      <td>1</td>\n      <td>0</td>\n      <td>0</td>\n    </tr>\n    <tr>\n      <th>3</th>\n      <td>6</td>\n      <td>0.695312</td>\n      <td>0.000000</td>\n      <td>0.783359</td>\n      <td>0.185547</td>\n      <td>0.088281</td>\n      <td>0.104375</td>\n      <td>0.09375</td>\n      <td>0.062500</td>\n      <td>0.000</td>\n      <td>...</td>\n      <td>1</td>\n      <td>0</td>\n      <td>0</td>\n      <td>1</td>\n      <td>0</td>\n      <td>0</td>\n      <td>0</td>\n      <td>1</td>\n      <td>0</td>\n      <td>0</td>\n    </tr>\n    <tr>\n      <th>4</th>\n      <td>3</td>\n      <td>0.500000</td>\n      <td>0.266602</td>\n      <td>0.381462</td>\n      <td>0.456558</td>\n      <td>0.429614</td>\n      <td>0.469570</td>\n      <td>1.37793</td>\n      <td>0.000244</td>\n      <td>0.125</td>\n      <td>...</td>\n      <td>0</td>\n      <td>0</td>\n      <td>0</td>\n      <td>1</td>\n      <td>0</td>\n      <td>0</td>\n      <td>0</td>\n      <td>0</td>\n      <td>0</td>\n      <td>1</td>\n    </tr>\n  </tbody>\n</table>\n<p>5 rows × 149 columns</p>\n</div>"
     },
     "execution_count": 97,
     "metadata": {},
     "output_type": "execute_result"
    }
   ],
   "source": [
    "# Get the remaining object columns\n",
    "df_object = df.select_dtypes(include='object')\n",
    "\n",
    "# Perform one-hot encoding\n",
    "df_encoded = pd.get_dummies(df_object)\n",
    "\n",
    "# Combine the encoded columns with the original dataframe\n",
    "df = pd.concat([df, df_encoded], axis=1)\n",
    "\n",
    "# Drop the original object columns\n",
    "df.drop(df_object.columns, axis=1, inplace=True)\n",
    "\n",
    "df.head()\n"
   ]
  },
  {
   "cell_type": "code",
   "execution_count": 98,
   "metadata": {
    "ExecuteTime": {
     "start_time": "2023-12-24T09:27:20.823546Z",
     "end_time": "2023-12-24T09:27:21.165007Z"
    },
    "collapsed": false
   },
   "outputs": [
    {
     "data": {
      "text/plain": "DecisionTreeRegressor()"
     },
     "execution_count": 98,
     "metadata": {},
     "output_type": "execute_result"
    }
   ],
   "source": [
    "from sklearn.tree import DecisionTreeRegressor\n",
    "\n",
    "# Feature selection with Decision Tree\n",
    "X = df.drop('B_Reach_cms', axis=1)\n",
    "y = df['B_Reach_cms']\n",
    "\n",
    "# Splitting data into training and testing data\n",
    "X_train, X_test, y_train, y_test = train_test_split(X, y, test_size=0.2, random_state=2020)\n",
    "\n",
    "model = DecisionTreeRegressor()\n",
    "model.fit(X_train, y_train)"
   ]
  },
  {
   "cell_type": "code",
   "execution_count": 99,
   "metadata": {
    "ExecuteTime": {
     "start_time": "2023-12-24T09:27:21.166414Z",
     "end_time": "2023-12-24T09:27:21.168250Z"
    },
    "collapsed": false
   },
   "outputs": [],
   "source": [
    "feature_importances = model.feature_importances_"
   ]
  },
  {
   "cell_type": "code",
   "execution_count": 100,
   "metadata": {
    "ExecuteTime": {
     "start_time": "2023-12-24T09:27:21.169711Z",
     "end_time": "2023-12-24T09:27:21.171452Z"
    },
    "collapsed": false
   },
   "outputs": [],
   "source": [
    "top_n = 20\n",
    "top_features_indices = feature_importances.argsort()[-top_n:][::-1]"
   ]
  },
  {
   "cell_type": "code",
   "execution_count": 101,
   "metadata": {
    "ExecuteTime": {
     "start_time": "2023-12-24T09:27:21.173076Z",
     "end_time": "2023-12-24T09:27:21.176751Z"
    },
    "collapsed": false
   },
   "outputs": [
    {
     "data": {
      "text/plain": "array([ 64,  65, 132,  40, 134,  20,  62,  63,  17,  32,   4,   1,  26,\n        45,  10, 130,  11,  88,  12,  27])"
     },
     "execution_count": 101,
     "metadata": {},
     "output_type": "execute_result"
    }
   ],
   "source": [
    "top_features_indices"
   ]
  },
  {
   "cell_type": "code",
   "execution_count": 102,
   "metadata": {
    "ExecuteTime": {
     "start_time": "2023-12-24T09:27:21.178453Z",
     "end_time": "2023-12-24T09:27:21.182394Z"
    },
    "collapsed": false
   },
   "outputs": [
    {
     "data": {
      "text/plain": "Index(['B_Height_cms', 'B_Weight_lbs', 'B_age', 'B_avg_CLINCH_landed',\n       'gender', 'B_avg_TD_landed', 'B_win_by_Submission',\n       'B_win_by_TKO_Doctor_Stoppage', 'B_avg_opp_TOTAL_STR_att',\n       'B_avg_LEG_landed', 'B_avg_opp_SIG_STR_pct', 'B_avg_KD',\n       'B_avg_opp_HEAD_landed', 'B_avg_opp_GROUND_att', 'B_avg_opp_REV',\n       'R_Reach_cms', 'B_avg_SIG_STR_att', 'R_avg_HEAD_att',\n       'B_avg_SIG_STR_landed', 'B_avg_BODY_att'],\n      dtype='object')"
     },
     "execution_count": 102,
     "metadata": {},
     "output_type": "execute_result"
    }
   ],
   "source": [
    "# Get the names of the top features\n",
    "top_features = X.columns[top_features_indices]\n",
    "top_features"
   ]
  },
  {
   "cell_type": "code",
   "execution_count": 103,
   "metadata": {
    "ExecuteTime": {
     "start_time": "2023-12-24T09:27:21.182579Z",
     "end_time": "2023-12-24T09:27:21.224059Z"
    },
    "collapsed": false
   },
   "outputs": [
    {
     "name": "stderr",
     "output_type": "stream",
     "text": [
      "/var/folders/53/kv053qr13vxg2_y_1lg6hjg80000gn/T/ipykernel_25333/3681793381.py:3: SettingWithCopyWarning: \n",
      "A value is trying to be set on a copy of a slice from a DataFrame.\n",
      "Try using .loc[row_indexer,col_indexer] = value instead\n",
      "\n",
      "See the caveats in the documentation: https://pandas.pydata.org/pandas-docs/stable/user_guide/indexing.html#returning-a-view-versus-a-copy\n",
      "  df_top_features['B_Reach_cms'] = df['B_Reach_cms']\n"
     ]
    },
    {
     "data": {
      "text/plain": "   B_Height_cms  B_Weight_lbs  B_age  B_avg_CLINCH_landed  gender  \\\n0        182.88         185.0   26.0             3.000000       1   \n1        177.80         155.0   27.0             3.679688       1   \n2        182.88         170.0   28.0             4.459656       1   \n3        175.26         185.0   28.0             8.617188       1   \n4        165.10         135.0   34.0             6.316650       1   \n\n   B_avg_TD_landed  B_win_by_Submission  B_win_by_TKO_Doctor_Stoppage  \\\n0         1.250000                  0.0                           0.0   \n1         0.625000                  0.0                           0.0   \n2         0.000000                  0.0                           0.0   \n3         0.804688                  0.0                           0.0   \n4         3.588867                  3.0                           0.0   \n\n   B_avg_opp_TOTAL_STR_att  B_avg_LEG_landed  ...  B_avg_KD  \\\n0               115.750000          7.500000  ...  0.000000   \n1                91.882812          5.492188  ...  1.156250   \n2               103.500000          5.747070  ...  0.000000   \n3                52.046875          2.664062  ...  0.695312   \n4               125.859863          5.882080  ...  0.500000   \n\n   B_avg_opp_HEAD_landed  B_avg_opp_GROUND_att  B_avg_opp_REV  R_Reach_cms  \\\n0              35.187500              1.000000            0.0       177.80   \n1              27.132812              0.546875            0.0       187.96   \n2              29.500000              4.000000            0.0       193.04   \n3               8.367188              0.812500            0.0       185.42   \n4              26.925781              5.803955            0.5       167.64   \n\n   B_avg_SIG_STR_att  R_avg_HEAD_att  B_avg_SIG_STR_landed  B_avg_BODY_att  \\\n0          72.000000       82.125000             30.500000       11.437500   \n1         137.460938       93.468750             53.234375       13.625000   \n2          81.500000       82.127930             32.500000        6.000000   \n3          39.218750       72.988626             19.015625        5.429688   \n4          74.522461       68.460938             29.986572        8.149902   \n\n   B_Reach_cms  \n0       190.50  \n1       177.80  \n2       190.50  \n3       175.26  \n4       170.18  \n\n[5 rows x 21 columns]",
      "text/html": "<div>\n<style scoped>\n    .dataframe tbody tr th:only-of-type {\n        vertical-align: middle;\n    }\n\n    .dataframe tbody tr th {\n        vertical-align: top;\n    }\n\n    .dataframe thead th {\n        text-align: right;\n    }\n</style>\n<table border=\"1\" class=\"dataframe\">\n  <thead>\n    <tr style=\"text-align: right;\">\n      <th></th>\n      <th>B_Height_cms</th>\n      <th>B_Weight_lbs</th>\n      <th>B_age</th>\n      <th>B_avg_CLINCH_landed</th>\n      <th>gender</th>\n      <th>B_avg_TD_landed</th>\n      <th>B_win_by_Submission</th>\n      <th>B_win_by_TKO_Doctor_Stoppage</th>\n      <th>B_avg_opp_TOTAL_STR_att</th>\n      <th>B_avg_LEG_landed</th>\n      <th>...</th>\n      <th>B_avg_KD</th>\n      <th>B_avg_opp_HEAD_landed</th>\n      <th>B_avg_opp_GROUND_att</th>\n      <th>B_avg_opp_REV</th>\n      <th>R_Reach_cms</th>\n      <th>B_avg_SIG_STR_att</th>\n      <th>R_avg_HEAD_att</th>\n      <th>B_avg_SIG_STR_landed</th>\n      <th>B_avg_BODY_att</th>\n      <th>B_Reach_cms</th>\n    </tr>\n  </thead>\n  <tbody>\n    <tr>\n      <th>0</th>\n      <td>182.88</td>\n      <td>185.0</td>\n      <td>26.0</td>\n      <td>3.000000</td>\n      <td>1</td>\n      <td>1.250000</td>\n      <td>0.0</td>\n      <td>0.0</td>\n      <td>115.750000</td>\n      <td>7.500000</td>\n      <td>...</td>\n      <td>0.000000</td>\n      <td>35.187500</td>\n      <td>1.000000</td>\n      <td>0.0</td>\n      <td>177.80</td>\n      <td>72.000000</td>\n      <td>82.125000</td>\n      <td>30.500000</td>\n      <td>11.437500</td>\n      <td>190.50</td>\n    </tr>\n    <tr>\n      <th>1</th>\n      <td>177.80</td>\n      <td>155.0</td>\n      <td>27.0</td>\n      <td>3.679688</td>\n      <td>1</td>\n      <td>0.625000</td>\n      <td>0.0</td>\n      <td>0.0</td>\n      <td>91.882812</td>\n      <td>5.492188</td>\n      <td>...</td>\n      <td>1.156250</td>\n      <td>27.132812</td>\n      <td>0.546875</td>\n      <td>0.0</td>\n      <td>187.96</td>\n      <td>137.460938</td>\n      <td>93.468750</td>\n      <td>53.234375</td>\n      <td>13.625000</td>\n      <td>177.80</td>\n    </tr>\n    <tr>\n      <th>2</th>\n      <td>182.88</td>\n      <td>170.0</td>\n      <td>28.0</td>\n      <td>4.459656</td>\n      <td>1</td>\n      <td>0.000000</td>\n      <td>0.0</td>\n      <td>0.0</td>\n      <td>103.500000</td>\n      <td>5.747070</td>\n      <td>...</td>\n      <td>0.000000</td>\n      <td>29.500000</td>\n      <td>4.000000</td>\n      <td>0.0</td>\n      <td>193.04</td>\n      <td>81.500000</td>\n      <td>82.127930</td>\n      <td>32.500000</td>\n      <td>6.000000</td>\n      <td>190.50</td>\n    </tr>\n    <tr>\n      <th>3</th>\n      <td>175.26</td>\n      <td>185.0</td>\n      <td>28.0</td>\n      <td>8.617188</td>\n      <td>1</td>\n      <td>0.804688</td>\n      <td>0.0</td>\n      <td>0.0</td>\n      <td>52.046875</td>\n      <td>2.664062</td>\n      <td>...</td>\n      <td>0.695312</td>\n      <td>8.367188</td>\n      <td>0.812500</td>\n      <td>0.0</td>\n      <td>185.42</td>\n      <td>39.218750</td>\n      <td>72.988626</td>\n      <td>19.015625</td>\n      <td>5.429688</td>\n      <td>175.26</td>\n    </tr>\n    <tr>\n      <th>4</th>\n      <td>165.10</td>\n      <td>135.0</td>\n      <td>34.0</td>\n      <td>6.316650</td>\n      <td>1</td>\n      <td>3.588867</td>\n      <td>3.0</td>\n      <td>0.0</td>\n      <td>125.859863</td>\n      <td>5.882080</td>\n      <td>...</td>\n      <td>0.500000</td>\n      <td>26.925781</td>\n      <td>5.803955</td>\n      <td>0.5</td>\n      <td>167.64</td>\n      <td>74.522461</td>\n      <td>68.460938</td>\n      <td>29.986572</td>\n      <td>8.149902</td>\n      <td>170.18</td>\n    </tr>\n  </tbody>\n</table>\n<p>5 rows × 21 columns</p>\n</div>"
     },
     "execution_count": 103,
     "metadata": {},
     "output_type": "execute_result"
    }
   ],
   "source": [
    "# Create a dataframe with only the top features\n",
    "df_top_features = df[top_features]\n",
    "df_top_features['B_Reach_cms'] = df['B_Reach_cms']\n",
    "df_top_features.head()"
   ]
  },
  {
   "cell_type": "code",
   "execution_count": 104,
   "metadata": {
    "ExecuteTime": {
     "start_time": "2023-12-24T09:27:21.197935Z",
     "end_time": "2023-12-24T09:27:21.224182Z"
    }
   },
   "outputs": [
    {
     "name": "stderr",
     "output_type": "stream",
     "text": [
      "/var/folders/53/kv053qr13vxg2_y_1lg6hjg80000gn/T/ipykernel_25333/2085615569.py:1: SettingWithCopyWarning: \n",
      "A value is trying to be set on a copy of a slice from a DataFrame.\n",
      "Try using .loc[row_indexer,col_indexer] = value instead\n",
      "\n",
      "See the caveats in the documentation: https://pandas.pydata.org/pandas-docs/stable/user_guide/indexing.html#returning-a-view-versus-a-copy\n",
      "  df_top_features['B_Reach_cms'] = y\n"
     ]
    }
   ],
   "source": [
    "df_top_features['B_Reach_cms'] = y"
   ]
  },
  {
   "cell_type": "code",
   "execution_count": 105,
   "metadata": {
    "ExecuteTime": {
     "start_time": "2023-12-24T09:27:21.202426Z",
     "end_time": "2023-12-24T09:27:21.303786Z"
    },
    "collapsed": false
   },
   "outputs": [],
   "source": [
    "# Export to CSV\n",
    "df_top_features.to_csv('../Punya Andi/UFC_kombinasi5.csv', index=False)\n"
   ]
  },
  {
   "cell_type": "code",
   "execution_count": 105,
   "metadata": {
    "ExecuteTime": {
     "start_time": "2023-12-24T09:27:21.296835Z",
     "end_time": "2023-12-24T09:27:21.303935Z"
    },
    "collapsed": false
   },
   "outputs": [],
   "source": []
  }
 ],
 "metadata": {
  "kernelspec": {
   "display_name": "Python 3",
   "language": "python",
   "name": "python3"
  },
  "language_info": {
   "codemirror_mode": {
    "name": "ipython",
    "version": 3
   },
   "file_extension": ".py",
   "mimetype": "text/x-python",
   "name": "python",
   "nbconvert_exporter": "python",
   "pygments_lexer": "ipython3",
   "version": "3.12.0"
  }
 },
 "nbformat": 4,
 "nbformat_minor": 0
}
