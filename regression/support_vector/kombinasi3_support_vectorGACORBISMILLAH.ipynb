{
 "cells": [
  {
   "cell_type": "code",
   "execution_count": 1,
   "metadata": {},
   "outputs": [],
   "source": [
    "# import library\n",
    "import pandas as pd\n",
    "import numpy as np\n",
    "import matplotlib.pyplot as plt\n",
    "import seaborn as sns\n",
    "from sklearn.feature_selection import SelectKBest, chi2\n",
    "from sklearn.preprocessing import LabelEncoder\n",
    "from sklearn.preprocessing import StandardScaler\n",
    "from sklearn.model_selection import train_test_split\n",
    "from sklearn.linear_model import LogisticRegression"
   ]
  },
  {
   "cell_type": "markdown",
   "metadata": {},
   "source": [
    "## Kombinasi 3 :\n",
    "- Delete duplicate\n",
    "- Impute missing value using iterative imputer\n",
    "- Outlier capping with winsorization\n",
    "- Encoding\n",
    "- Standard Scaler\n",
    "- Feature selection with Decision Tree"
   ]
  },
  {
   "cell_type": "code",
   "execution_count": 2,
   "metadata": {},
   "outputs": [],
   "source": [
    "df = pd.read_csv('../../Without Feature Selection/UFC_kombinasi9_all_features.csv')"
   ]
  },
  {
   "cell_type": "code",
   "execution_count": 3,
   "metadata": {},
   "outputs": [],
   "source": [
    "X = df.drop(['B_Reach_cms'], axis=1)\n",
    "y = df['B_Reach_cms']"
   ]
  },
  {
   "cell_type": "code",
   "execution_count": 4,
   "metadata": {},
   "outputs": [],
   "source": [
    "df_test = pd.read_csv('../../regression_kaggle/UFC_kombinasi9_all_features.csv')\n",
    "df_test = df_test.drop(['B_Reach_cms'], axis=1, errors='ignore')\n",
    "df_test_id = df_test['id']\n",
    "df_test = df_test.drop(['id'], axis=1, errors='ignore')\n",
    "# Get the common columns between df and df_test\n",
    "common_columns = list(set(X.columns) & set(df_test.columns))\n",
    "# Update df_test to only include the common columns\n",
    "df_test = df_test[common_columns]\n",
    "X = X[common_columns]"
   ]
  },
  {
   "cell_type": "code",
   "execution_count": 5,
   "metadata": {},
   "outputs": [
    {
     "name": "stdout",
     "output_type": "stream",
     "text": [
      "[ 0.         -0.          0.11707767 ...  0.02283567  0.\n",
      " -0.04792495]\n"
     ]
    }
   ],
   "source": [
    "# Read lasso pickle\n",
    "import joblib\n",
    "lasso = joblib.load('../lasso_regression/Lasso2.pkl')\n",
    "\n",
    "lasso_coef = lasso.coef_\n",
    "\n",
    "print(lasso_coef)"
   ]
  },
  {
   "cell_type": "code",
   "execution_count": 6,
   "metadata": {},
   "outputs": [
    {
     "name": "stdout",
     "output_type": "stream",
     "text": [
      "[   2    4    8   13   15   26   32   33   39   44   47   48   53   57\n",
      "   58   65   70   72   74   78   82   85   89   97  109  110  111  112\n",
      "  113  115  118  120  125  127  136  142  143  145  146  151  159  167\n",
      "  173  174  177  182  187  190  193  199  207  208  212  213  219  248\n",
      "  252  256  264  267  271  273  278  283  291  292  296  301  304  307\n",
      "  308  312  316  320  321  323  326  327  333  334  344  347  350  354\n",
      "  375  386  388  391  407  421  428  437  440  441  447  451  454  455\n",
      "  457  468  472  478  481  485  496  505  507  511  515  519  529  530\n",
      "  545  546  549  556  557  560  562  565  567  572  579  580  583  585\n",
      "  587  588  593  599  600  612  614  618  621  622  623  626  627  646\n",
      "  656  659  662  665  666  668  673  678  679  687  691  692  697  700\n",
      "  706  708  709  712  713  724  731  741  742  760  761  764  765  775\n",
      "  777  782  785  787  792  803  805  814  828  831  834  837  839  848\n",
      "  849  850  854  864  866  870  879  881  888  898  904  908  911  914\n",
      "  918  920  923  924  933  935  945  955  958  962  965  966  968  970\n",
      "  976  978  981  986  996 1002 1005 1008 1011 1012 1027 1037 1039]\n"
     ]
    }
   ],
   "source": [
    "# Non-zero indices\n",
    "non_zero_indices = np.where(lasso_coef != 0)[0]\n",
    "\n",
    "print(non_zero_indices)"
   ]
  },
  {
   "cell_type": "code",
   "execution_count": 7,
   "metadata": {},
   "outputs": [
    {
     "data": {
      "text/html": [
       "<div>\n",
       "<style scoped>\n",
       "    .dataframe tbody tr th:only-of-type {\n",
       "        vertical-align: middle;\n",
       "    }\n",
       "\n",
       "    .dataframe tbody tr th {\n",
       "        vertical-align: top;\n",
       "    }\n",
       "\n",
       "    .dataframe thead th {\n",
       "        text-align: right;\n",
       "    }\n",
       "</style>\n",
       "<table border=\"1\" class=\"dataframe\">\n",
       "  <thead>\n",
       "    <tr style=\"text-align: right;\">\n",
       "      <th></th>\n",
       "      <th>B_fighter_Ryan Hall</th>\n",
       "      <th>R_fighter_Jessica Eye</th>\n",
       "      <th>location_Jaragua do Sul, Santa Catarina, Brazil</th>\n",
       "      <th>B_fighter_Robbie Lawler</th>\n",
       "      <th>Referee_Jimmy Neely</th>\n",
       "      <th>R_fighter_Viscardi Andrade</th>\n",
       "      <th>B_avg_REV</th>\n",
       "      <th>R_fighter_Yan Cabral</th>\n",
       "      <th>R_fighter_Erik Koch</th>\n",
       "      <th>B_fighter_John Cholish</th>\n",
       "      <th>...</th>\n",
       "      <th>B_fighter_Edwin Figueroa</th>\n",
       "      <th>R_fighter_Evan Dunham</th>\n",
       "      <th>R_fighter_Brandon Vera</th>\n",
       "      <th>Referee_Jason McCoy</th>\n",
       "      <th>B_fighter_Tony Sims</th>\n",
       "      <th>B_win_by_TKO_Doctor_Stoppage</th>\n",
       "      <th>R_fighter_Daniel Omielanczuk</th>\n",
       "      <th>B_fighter_Amanda Lemos</th>\n",
       "      <th>Referee_Steve Rita</th>\n",
       "      <th>R_avg_HEAD_att</th>\n",
       "    </tr>\n",
       "  </thead>\n",
       "  <tbody>\n",
       "    <tr>\n",
       "      <th>0</th>\n",
       "      <td>False</td>\n",
       "      <td>False</td>\n",
       "      <td>False</td>\n",
       "      <td>False</td>\n",
       "      <td>False</td>\n",
       "      <td>False</td>\n",
       "      <td>0.000</td>\n",
       "      <td>False</td>\n",
       "      <td>False</td>\n",
       "      <td>False</td>\n",
       "      <td>...</td>\n",
       "      <td>False</td>\n",
       "      <td>False</td>\n",
       "      <td>False</td>\n",
       "      <td>False</td>\n",
       "      <td>False</td>\n",
       "      <td>0</td>\n",
       "      <td>False</td>\n",
       "      <td>False</td>\n",
       "      <td>False</td>\n",
       "      <td>93.468750</td>\n",
       "    </tr>\n",
       "    <tr>\n",
       "      <th>1</th>\n",
       "      <td>False</td>\n",
       "      <td>False</td>\n",
       "      <td>False</td>\n",
       "      <td>False</td>\n",
       "      <td>False</td>\n",
       "      <td>False</td>\n",
       "      <td>0.000</td>\n",
       "      <td>False</td>\n",
       "      <td>False</td>\n",
       "      <td>False</td>\n",
       "      <td>...</td>\n",
       "      <td>False</td>\n",
       "      <td>False</td>\n",
       "      <td>False</td>\n",
       "      <td>False</td>\n",
       "      <td>False</td>\n",
       "      <td>0</td>\n",
       "      <td>False</td>\n",
       "      <td>False</td>\n",
       "      <td>False</td>\n",
       "      <td>72.988626</td>\n",
       "    </tr>\n",
       "    <tr>\n",
       "      <th>2</th>\n",
       "      <td>False</td>\n",
       "      <td>False</td>\n",
       "      <td>False</td>\n",
       "      <td>False</td>\n",
       "      <td>False</td>\n",
       "      <td>False</td>\n",
       "      <td>0.125</td>\n",
       "      <td>False</td>\n",
       "      <td>False</td>\n",
       "      <td>False</td>\n",
       "      <td>...</td>\n",
       "      <td>False</td>\n",
       "      <td>False</td>\n",
       "      <td>False</td>\n",
       "      <td>False</td>\n",
       "      <td>False</td>\n",
       "      <td>0</td>\n",
       "      <td>False</td>\n",
       "      <td>False</td>\n",
       "      <td>False</td>\n",
       "      <td>68.460938</td>\n",
       "    </tr>\n",
       "    <tr>\n",
       "      <th>3</th>\n",
       "      <td>False</td>\n",
       "      <td>False</td>\n",
       "      <td>False</td>\n",
       "      <td>False</td>\n",
       "      <td>False</td>\n",
       "      <td>False</td>\n",
       "      <td>0.000</td>\n",
       "      <td>False</td>\n",
       "      <td>False</td>\n",
       "      <td>False</td>\n",
       "      <td>...</td>\n",
       "      <td>False</td>\n",
       "      <td>False</td>\n",
       "      <td>False</td>\n",
       "      <td>False</td>\n",
       "      <td>False</td>\n",
       "      <td>0</td>\n",
       "      <td>False</td>\n",
       "      <td>False</td>\n",
       "      <td>False</td>\n",
       "      <td>73.312500</td>\n",
       "    </tr>\n",
       "    <tr>\n",
       "      <th>4</th>\n",
       "      <td>False</td>\n",
       "      <td>False</td>\n",
       "      <td>False</td>\n",
       "      <td>False</td>\n",
       "      <td>False</td>\n",
       "      <td>False</td>\n",
       "      <td>0.000</td>\n",
       "      <td>False</td>\n",
       "      <td>False</td>\n",
       "      <td>False</td>\n",
       "      <td>...</td>\n",
       "      <td>False</td>\n",
       "      <td>False</td>\n",
       "      <td>False</td>\n",
       "      <td>False</td>\n",
       "      <td>False</td>\n",
       "      <td>0</td>\n",
       "      <td>False</td>\n",
       "      <td>False</td>\n",
       "      <td>False</td>\n",
       "      <td>86.625000</td>\n",
       "    </tr>\n",
       "  </tbody>\n",
       "</table>\n",
       "<p>5 rows × 223 columns</p>\n",
       "</div>"
      ],
      "text/plain": [
       "   B_fighter_Ryan Hall  R_fighter_Jessica Eye  \\\n",
       "0                False                  False   \n",
       "1                False                  False   \n",
       "2                False                  False   \n",
       "3                False                  False   \n",
       "4                False                  False   \n",
       "\n",
       "   location_Jaragua do Sul, Santa Catarina, Brazil  B_fighter_Robbie Lawler  \\\n",
       "0                                            False                    False   \n",
       "1                                            False                    False   \n",
       "2                                            False                    False   \n",
       "3                                            False                    False   \n",
       "4                                            False                    False   \n",
       "\n",
       "   Referee_Jimmy Neely  R_fighter_Viscardi Andrade  B_avg_REV  \\\n",
       "0                False                       False      0.000   \n",
       "1                False                       False      0.000   \n",
       "2                False                       False      0.125   \n",
       "3                False                       False      0.000   \n",
       "4                False                       False      0.000   \n",
       "\n",
       "   R_fighter_Yan Cabral  R_fighter_Erik Koch  B_fighter_John Cholish  ...  \\\n",
       "0                 False                False                   False  ...   \n",
       "1                 False                False                   False  ...   \n",
       "2                 False                False                   False  ...   \n",
       "3                 False                False                   False  ...   \n",
       "4                 False                False                   False  ...   \n",
       "\n",
       "   B_fighter_Edwin Figueroa  R_fighter_Evan Dunham  R_fighter_Brandon Vera  \\\n",
       "0                     False                  False                   False   \n",
       "1                     False                  False                   False   \n",
       "2                     False                  False                   False   \n",
       "3                     False                  False                   False   \n",
       "4                     False                  False                   False   \n",
       "\n",
       "   Referee_Jason McCoy  B_fighter_Tony Sims  B_win_by_TKO_Doctor_Stoppage  \\\n",
       "0                False                False                             0   \n",
       "1                False                False                             0   \n",
       "2                False                False                             0   \n",
       "3                False                False                             0   \n",
       "4                False                False                             0   \n",
       "\n",
       "   R_fighter_Daniel Omielanczuk  B_fighter_Amanda Lemos  Referee_Steve Rita  \\\n",
       "0                         False                   False               False   \n",
       "1                         False                   False               False   \n",
       "2                         False                   False               False   \n",
       "3                         False                   False               False   \n",
       "4                         False                   False               False   \n",
       "\n",
       "   R_avg_HEAD_att  \n",
       "0       93.468750  \n",
       "1       72.988626  \n",
       "2       68.460938  \n",
       "3       73.312500  \n",
       "4       86.625000  \n",
       "\n",
       "[5 rows x 223 columns]"
      ]
     },
     "execution_count": 7,
     "metadata": {},
     "output_type": "execute_result"
    }
   ],
   "source": [
    "# Feature selection\n",
    "X = X.iloc[:, non_zero_indices]\n",
    "\n",
    "df_test = df_test.iloc[:, non_zero_indices]\n",
    "\n",
    "X.head()"
   ]
  },
  {
   "cell_type": "code",
   "execution_count": 8,
   "metadata": {},
   "outputs": [],
   "source": [
    "scaler = StandardScaler()\n",
    "X = scaler.fit_transform(X)"
   ]
  },
  {
   "cell_type": "code",
   "execution_count": 9,
   "metadata": {},
   "outputs": [
    {
     "name": "stdout",
     "output_type": "stream",
     "text": [
      "Best Parameters: {'C': 0.1, 'gamma': 'scale', 'kernel': 'linear'}\n",
      "Best R-squared Score: 0.7856096525330604\n"
     ]
    }
   ],
   "source": [
    "from sklearn.svm import SVR\n",
    "from sklearn.model_selection import GridSearchCV\n",
    "\n",
    "# Define the parameter grid\n",
    "param_grid = {\n",
    "    'C': [0.1, 1, 10, 100],\n",
    "    'gamma': ['scale', 'auto', 0.1, 1, 10],\n",
    "    'kernel': ['linear', 'poly', 'rbf', 'sigmoid']\n",
    "}\n",
    "\n",
    "# Create the KNN model\n",
    "svr = SVR()\n",
    "\n",
    "# Create the GridSearchCV object\n",
    "grid_search = GridSearchCV(svr, param_grid, cv=5, scoring='r2', n_jobs=-1)\n",
    "\n",
    "# Fit the data to perform grid search\n",
    "grid_search.fit(X, y)\n",
    "\n",
    "# Print the best parameters and best score\n",
    "print(\"Best Parameters:\", grid_search.best_params_)\n",
    "print(\"Best R-squared Score:\", grid_search.best_score_)"
   ]
  },
  {
   "cell_type": "code",
   "execution_count": 10,
   "metadata": {},
   "outputs": [
    {
     "name": "stdout",
     "output_type": "stream",
     "text": [
      "Mean R-squared: 0.7856096525330604\n"
     ]
    }
   ],
   "source": [
    "from sklearn.model_selection import cross_val_score\n",
    "from sklearn.metrics import mean_squared_error\n",
    "\n",
    "# Evaluate the best model using 5-fold cross-validation\n",
    "cv_scores = cross_val_score(grid_search.best_estimator_, X, y, cv=5, scoring='r2')\n",
    "\n",
    "# Calculate the mean R-squared\n",
    "mean_r2 = cv_scores.mean()\n",
    "print(\"Mean R-squared:\", mean_r2)"
   ]
  },
  {
   "cell_type": "code",
   "execution_count": 11,
   "metadata": {},
   "outputs": [
    {
     "name": "stdout",
     "output_type": "stream",
     "text": [
      "Mean RMSE: 4.328437712000643\n"
     ]
    }
   ],
   "source": [
    "# Calculate the RMSE using 5-fold cross-validation\n",
    "cv_rmse = np.sqrt(np.abs(cross_val_score(grid_search.best_estimator_, X, y, cv=5, scoring='neg_mean_squared_error')))\n",
    "\n",
    "# Calculate the mean RMSE\n",
    "mean_rmse = cv_rmse.mean()\n",
    "print(\"Mean RMSE:\", mean_rmse)"
   ]
  },
  {
   "cell_type": "code",
   "execution_count": 12,
   "metadata": {},
   "outputs": [],
   "source": [
    "df_test = scaler.transform(df_test)\n",
    "y_pred = grid_search.best_estimator_.predict(df_test)\n",
    "submission = pd.DataFrame({'id': df_test_id, 'B_Reach_cms': y_pred})\n",
    "submission.to_csv('pred_kombinasi3_support_vector.csv', index=False)"
   ]
  }
 ],
 "metadata": {
  "kernelspec": {
   "display_name": "Python 3 (ipykernel)",
   "language": "python",
   "name": "python3"
  },
  "language_info": {
   "codemirror_mode": {
    "name": "ipython",
    "version": 3
   },
   "file_extension": ".py",
   "mimetype": "text/x-python",
   "name": "python",
   "nbconvert_exporter": "python",
   "pygments_lexer": "ipython3",
   "version": "3.11.4"
  }
 },
 "nbformat": 4,
 "nbformat_minor": 2
}
