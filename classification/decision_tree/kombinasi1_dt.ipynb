{
 "cells": [
  {
   "cell_type": "code",
   "execution_count": 2,
   "metadata": {},
   "outputs": [],
   "source": [
    "# import library\n",
    "import pandas as pd\n",
    "import numpy as np\n",
    "import matplotlib.pyplot as plt\n",
    "import seaborn as sns\n",
    "from sklearn.feature_selection import SelectKBest, chi2\n",
    "from sklearn.preprocessing import LabelEncoder\n",
    "from sklearn.preprocessing import StandardScaler\n",
    "from sklearn.model_selection import train_test_split\n",
    "from sklearn.linear_model import LogisticRegression"
   ]
  },
  {
   "cell_type": "code",
   "execution_count": 3,
   "metadata": {},
   "outputs": [
    {
     "data": {
      "text/html": [
       "<div>\n",
       "<style scoped>\n",
       "    .dataframe tbody tr th:only-of-type {\n",
       "        vertical-align: middle;\n",
       "    }\n",
       "\n",
       "    .dataframe tbody tr th {\n",
       "        vertical-align: top;\n",
       "    }\n",
       "\n",
       "    .dataframe thead th {\n",
       "        text-align: right;\n",
       "    }\n",
       "</style>\n",
       "<table border=\"1\" class=\"dataframe\">\n",
       "  <thead>\n",
       "    <tr style=\"text-align: right;\">\n",
       "      <th></th>\n",
       "      <th>B_avg_SIG_STR_att</th>\n",
       "      <th>B_avg_SIG_STR_landed</th>\n",
       "      <th>B_avg_HEAD_att</th>\n",
       "      <th>B_avg_HEAD_landed</th>\n",
       "      <th>B_avg_BODY_att</th>\n",
       "      <th>B_avg_BODY_landed</th>\n",
       "      <th>B_avg_DISTANCE_att</th>\n",
       "      <th>B_avg_DISTANCE_landed</th>\n",
       "      <th>B_avg_opp_DISTANCE_att</th>\n",
       "      <th>R_avg_opp_SIG_STR_att</th>\n",
       "      <th>...</th>\n",
       "      <th>R_avg_opp_HEAD_landed</th>\n",
       "      <th>R_avg_opp_BODY_att</th>\n",
       "      <th>R_avg_opp_BODY_landed</th>\n",
       "      <th>R_avg_opp_DISTANCE_att</th>\n",
       "      <th>R_avg_opp_DISTANCE_landed</th>\n",
       "      <th>R_total_rounds_fought</th>\n",
       "      <th>R_losses</th>\n",
       "      <th>R_win_by_Decision_Split</th>\n",
       "      <th>R_age</th>\n",
       "      <th>Winner</th>\n",
       "    </tr>\n",
       "  </thead>\n",
       "  <tbody>\n",
       "    <tr>\n",
       "      <th>0</th>\n",
       "      <td>33.500000</td>\n",
       "      <td>11.000000</td>\n",
       "      <td>25.062500</td>\n",
       "      <td>5.744141</td>\n",
       "      <td>0.000000</td>\n",
       "      <td>0.000000</td>\n",
       "      <td>24.125000</td>\n",
       "      <td>11.000000</td>\n",
       "      <td>71.000000</td>\n",
       "      <td>78.000000</td>\n",
       "      <td>...</td>\n",
       "      <td>19.543213</td>\n",
       "      <td>5.000000</td>\n",
       "      <td>4.000000</td>\n",
       "      <td>54.875000</td>\n",
       "      <td>18.339844</td>\n",
       "      <td>0.0</td>\n",
       "      <td>0.0</td>\n",
       "      <td>0.0</td>\n",
       "      <td>21.0</td>\n",
       "      <td>Red</td>\n",
       "    </tr>\n",
       "    <tr>\n",
       "      <th>1</th>\n",
       "      <td>135.625000</td>\n",
       "      <td>53.234375</td>\n",
       "      <td>109.000000</td>\n",
       "      <td>39.976562</td>\n",
       "      <td>13.625000</td>\n",
       "      <td>7.765625</td>\n",
       "      <td>117.500000</td>\n",
       "      <td>45.500000</td>\n",
       "      <td>88.695312</td>\n",
       "      <td>117.812500</td>\n",
       "      <td>...</td>\n",
       "      <td>27.656250</td>\n",
       "      <td>17.593750</td>\n",
       "      <td>8.312500</td>\n",
       "      <td>110.250000</td>\n",
       "      <td>38.406250</td>\n",
       "      <td>17.0</td>\n",
       "      <td>1.0</td>\n",
       "      <td>0.0</td>\n",
       "      <td>30.0</td>\n",
       "      <td>Blue</td>\n",
       "    </tr>\n",
       "    <tr>\n",
       "      <th>2</th>\n",
       "      <td>66.000000</td>\n",
       "      <td>22.112305</td>\n",
       "      <td>55.000000</td>\n",
       "      <td>16.000000</td>\n",
       "      <td>5.125000</td>\n",
       "      <td>2.000000</td>\n",
       "      <td>60.000000</td>\n",
       "      <td>16.211914</td>\n",
       "      <td>64.500000</td>\n",
       "      <td>91.625000</td>\n",
       "      <td>...</td>\n",
       "      <td>26.000000</td>\n",
       "      <td>2.968750</td>\n",
       "      <td>1.000000</td>\n",
       "      <td>82.229492</td>\n",
       "      <td>24.000000</td>\n",
       "      <td>0.0</td>\n",
       "      <td>0.0</td>\n",
       "      <td>0.0</td>\n",
       "      <td>31.0</td>\n",
       "      <td>Blue</td>\n",
       "    </tr>\n",
       "    <tr>\n",
       "      <th>3</th>\n",
       "      <td>39.218750</td>\n",
       "      <td>19.015625</td>\n",
       "      <td>30.367188</td>\n",
       "      <td>11.804688</td>\n",
       "      <td>5.429688</td>\n",
       "      <td>4.546875</td>\n",
       "      <td>25.703125</td>\n",
       "      <td>8.875000</td>\n",
       "      <td>24.234375</td>\n",
       "      <td>109.998363</td>\n",
       "      <td>...</td>\n",
       "      <td>27.688076</td>\n",
       "      <td>8.554874</td>\n",
       "      <td>4.713242</td>\n",
       "      <td>102.755116</td>\n",
       "      <td>33.409025</td>\n",
       "      <td>33.0</td>\n",
       "      <td>5.0</td>\n",
       "      <td>1.0</td>\n",
       "      <td>34.0</td>\n",
       "      <td>Blue</td>\n",
       "    </tr>\n",
       "    <tr>\n",
       "      <th>4</th>\n",
       "      <td>74.522461</td>\n",
       "      <td>29.986572</td>\n",
       "      <td>58.093994</td>\n",
       "      <td>18.651855</td>\n",
       "      <td>8.149902</td>\n",
       "      <td>5.452637</td>\n",
       "      <td>56.636475</td>\n",
       "      <td>20.501221</td>\n",
       "      <td>69.770264</td>\n",
       "      <td>126.031250</td>\n",
       "      <td>...</td>\n",
       "      <td>35.625000</td>\n",
       "      <td>19.159180</td>\n",
       "      <td>13.152161</td>\n",
       "      <td>102.640625</td>\n",
       "      <td>43.398438</td>\n",
       "      <td>22.0</td>\n",
       "      <td>2.0</td>\n",
       "      <td>0.0</td>\n",
       "      <td>31.0</td>\n",
       "      <td>Red</td>\n",
       "    </tr>\n",
       "  </tbody>\n",
       "</table>\n",
       "<p>5 rows × 21 columns</p>\n",
       "</div>"
      ],
      "text/plain": [
       "   B_avg_SIG_STR_att  B_avg_SIG_STR_landed  B_avg_HEAD_att  B_avg_HEAD_landed  \\\n",
       "0          33.500000             11.000000       25.062500           5.744141   \n",
       "1         135.625000             53.234375      109.000000          39.976562   \n",
       "2          66.000000             22.112305       55.000000          16.000000   \n",
       "3          39.218750             19.015625       30.367188          11.804688   \n",
       "4          74.522461             29.986572       58.093994          18.651855   \n",
       "\n",
       "   B_avg_BODY_att  B_avg_BODY_landed  B_avg_DISTANCE_att  \\\n",
       "0        0.000000           0.000000           24.125000   \n",
       "1       13.625000           7.765625          117.500000   \n",
       "2        5.125000           2.000000           60.000000   \n",
       "3        5.429688           4.546875           25.703125   \n",
       "4        8.149902           5.452637           56.636475   \n",
       "\n",
       "   B_avg_DISTANCE_landed  B_avg_opp_DISTANCE_att  R_avg_opp_SIG_STR_att  ...  \\\n",
       "0              11.000000               71.000000              78.000000  ...   \n",
       "1              45.500000               88.695312             117.812500  ...   \n",
       "2              16.211914               64.500000              91.625000  ...   \n",
       "3               8.875000               24.234375             109.998363  ...   \n",
       "4              20.501221               69.770264             126.031250  ...   \n",
       "\n",
       "   R_avg_opp_HEAD_landed  R_avg_opp_BODY_att  R_avg_opp_BODY_landed  \\\n",
       "0              19.543213            5.000000               4.000000   \n",
       "1              27.656250           17.593750               8.312500   \n",
       "2              26.000000            2.968750               1.000000   \n",
       "3              27.688076            8.554874               4.713242   \n",
       "4              35.625000           19.159180              13.152161   \n",
       "\n",
       "   R_avg_opp_DISTANCE_att  R_avg_opp_DISTANCE_landed  R_total_rounds_fought  \\\n",
       "0               54.875000                  18.339844                    0.0   \n",
       "1              110.250000                  38.406250                   17.0   \n",
       "2               82.229492                  24.000000                    0.0   \n",
       "3              102.755116                  33.409025                   33.0   \n",
       "4              102.640625                  43.398438                   22.0   \n",
       "\n",
       "   R_losses  R_win_by_Decision_Split  R_age  Winner  \n",
       "0       0.0                      0.0   21.0     Red  \n",
       "1       1.0                      0.0   30.0    Blue  \n",
       "2       0.0                      0.0   31.0    Blue  \n",
       "3       5.0                      1.0   34.0    Blue  \n",
       "4       2.0                      0.0   31.0     Red  \n",
       "\n",
       "[5 rows x 21 columns]"
      ]
     },
     "execution_count": 3,
     "metadata": {},
     "output_type": "execute_result"
    }
   ],
   "source": [
    "df = pd.read_csv('../dataframe/UFC_kombinasi2.csv')\n",
    "df.head()"
   ]
  },
  {
   "cell_type": "code",
   "execution_count": 4,
   "metadata": {},
   "outputs": [
    {
     "data": {
      "text/plain": [
       "array([[ 33.5       ,  11.        ,  25.0625    , ...,   0.        ,\n",
       "          0.        ,  21.        ],\n",
       "       [135.625     ,  53.234375  , 109.        , ...,   1.        ,\n",
       "          0.        ,  30.        ],\n",
       "       [ 66.        ,  22.11230469,  55.        , ...,   0.        ,\n",
       "          0.        ,  31.        ],\n",
       "       ...,\n",
       "       [ 44.75      ,  16.75      ,  31.        , ...,   0.        ,\n",
       "          0.        ,  30.        ],\n",
       "       [ 75.3125    ,  38.421875  ,  39.171875  , ...,   2.        ,\n",
       "          1.        ,  34.        ],\n",
       "       [ 40.25      ,  14.5       ,  36.        , ...,   3.        ,\n",
       "          0.        ,  31.        ]])"
      ]
     },
     "execution_count": 4,
     "metadata": {},
     "output_type": "execute_result"
    }
   ],
   "source": [
    "X = df.drop('Winner', axis=1).values\n",
    "X"
   ]
  },
  {
   "cell_type": "code",
   "execution_count": 6,
   "metadata": {},
   "outputs": [
    {
     "data": {
      "text/plain": [
       "array(['Red', 'Blue', 'Blue', ..., 'Red', 'Blue', 'Red'], dtype=object)"
      ]
     },
     "execution_count": 6,
     "metadata": {},
     "output_type": "execute_result"
    }
   ],
   "source": [
    "y = df['Winner'].values\n",
    "y"
   ]
  },
  {
   "cell_type": "code",
   "execution_count": 7,
   "metadata": {},
   "outputs": [
    {
     "name": "stdout",
     "output_type": "stream",
     "text": [
      "Counter({'Red': 3581, 'Blue': 1730, 'Draw': 99})\n"
     ]
    }
   ],
   "source": [
    "from collections import Counter\n",
    "\n",
    "counter_y = Counter(y)\n",
    "print(counter_y)"
   ]
  },
  {
   "cell_type": "code",
   "execution_count": 8,
   "metadata": {},
   "outputs": [],
   "source": [
    "from imblearn.over_sampling import RandomOverSampler, SMOTE, BorderlineSMOTE, SVMSMOTE, ADASYN\n",
    "from imblearn.under_sampling import RandomUnderSampler, NearMiss, TomekLinks\n",
    "\n",
    "# Over Sampling\n",
    "adasyn = ADASYN()\n",
    "randomOver = RandomOverSampler()\n",
    "smote = SMOTE()\n",
    "borderSmote = BorderlineSMOTE()\n",
    "svmSmote = SVMSMOTE()\n",
    "\n",
    "# Melakukan resampling\n",
    "X_adasyn, y_adasyn = adasyn.fit_resample(X, y)\n",
    "X_randomOver, y_randomOver = randomOver.fit_resample(X, y)\n",
    "X_smote, y_smote = smote.fit_resample(X, y)\n",
    "X_borderSmote, y_borderSmote = borderSmote.fit_resample(X, y)\n",
    "X_svmSmote, y_svmSmote = svmSmote.fit_resample(X, y)\n",
    "\n",
    "\n",
    "# Under Sampling\n",
    "rand_under = RandomUnderSampler(sampling_strategy='majority')\n",
    "nearmiss = NearMiss()\n",
    "nearmiss2 = NearMiss(version=2)\n",
    "nearmiss3 = NearMiss(version=3)\n",
    "tomek = TomekLinks()\n",
    "\n",
    "# Melakukan resampling\n",
    "X_rand_under, y_rand_under = rand_under.fit_resample(X, y)\n",
    "X_nearmiss, y_nearmiss = nearmiss.fit_resample(X, y)\n",
    "X_nearmiss2, y_nearmiss2 = nearmiss2.fit_resample(X, y)\n",
    "X_nearmiss3, y_nearmiss3 = nearmiss3.fit_resample(X, y)\n",
    "X_tomek, y_tomek = tomek.fit_resample(X, y)\n"
   ]
  },
  {
   "cell_type": "code",
   "execution_count": 9,
   "metadata": {},
   "outputs": [],
   "source": [
    "from sklearn.model_selection import StratifiedKFold, cross_val_score, GridSearchCV\n",
    "\n",
    "def evaluate_classification(classifier):\n",
    "  cv = StratifiedKFold(n_splits=5, shuffle=True, random_state=42)\n",
    "\n",
    "  scoring = ['f1_micro', 'f1_macro', 'precision_micro', 'precision_macro', 'recall_micro', 'recall_macro']\n",
    "  print(\"ADASYN OverSampling\")\n",
    "  for i in range(len(scoring)):\n",
    "    score = cross_val_score(classifier, X_adasyn, y_adasyn, scoring=scoring[i], cv=cv, n_jobs=-1)\n",
    "    print(f\"{scoring[i]} score: {np.mean(score)}\")\n",
    "\n",
    "  print()\n",
    "\n",
    "  print(\"Random OverSampling\")\n",
    "  for i in range(len(scoring)):\n",
    "    score = cross_val_score(classifier, X_randomOver, y_randomOver, scoring=scoring[i], cv=cv, n_jobs=-1)\n",
    "    print(f\"{scoring[i]} score: {np.mean(score)}\")\n",
    "\n",
    "  print()\n",
    "\n",
    "  print(\"SMOTE OverSampling\")\n",
    "  for i in range(len(scoring)):\n",
    "    score = cross_val_score(classifier, X_smote, y_smote, scoring=scoring[i], cv=cv, n_jobs=-1)\n",
    "    print(f\"{scoring[i]} score: {np.mean(score)}\")\n",
    "\n",
    "  print()\n",
    "\n",
    "  print(\"Borderline SMOTE OverSampling\")\n",
    "  for i in range(len(scoring)):\n",
    "    score = cross_val_score(classifier, X_borderSmote, y_borderSmote, scoring=scoring[i], cv=cv, n_jobs=-1)\n",
    "    print(f\"{scoring[i]} score: {np.mean(score)}\")\n",
    "\n",
    "  print()\n",
    "\n",
    "  print(\"SVM SMOTE OverSampling\")\n",
    "  for i in range(len(scoring)):\n",
    "    score = cross_val_score(classifier, X_svmSmote, y_svmSmote, scoring=scoring[i], cv=cv, n_jobs=-1)\n",
    "    print(f\"{scoring[i]} score: {np.mean(score)}\")\n",
    "\n",
    "  print()\n",
    "\n",
    "  print(\"Random Undersampling\")\n",
    "  for i in range(len(scoring)):\n",
    "    score = cross_val_score(classifier, X_rand_under, y_rand_under , scoring=scoring[i], cv=cv, n_jobs=-1)\n",
    "    print(f\"{scoring[i]} score: {np.mean(score)}\")\n",
    "\n",
    "  print()\n",
    "\n",
    "  print(\"Near Miss 1 Undersampling\")\n",
    "  for i in range(len(scoring)):\n",
    "    score = cross_val_score(classifier, X_nearmiss, y_nearmiss, scoring=scoring[i], cv=cv, n_jobs=-1)\n",
    "    print(f\"{scoring[i]} score: {np.mean(score)}\")\n",
    "\n",
    "  print()\n",
    "\n",
    "  print(\"Near Miss 2 Undersampling\")\n",
    "  for i in range(len(scoring)):\n",
    "    score = cross_val_score(classifier, X_nearmiss2, y_nearmiss2, scoring=scoring[i], cv=cv, n_jobs=-1)\n",
    "    print(f\"{scoring[i]} score: {np.mean(score)}\")\n",
    "\n",
    "  print()\n",
    "\n",
    "  print(\"Near Miss 3 Undersampling\")\n",
    "  for i in range(len(scoring)):\n",
    "    score = cross_val_score(classifier, X_nearmiss3, y_nearmiss3, scoring=scoring[i], cv=cv, n_jobs=-1)\n",
    "    print(f\"{scoring[i]} score: {np.mean(score)}\")\n",
    "\n",
    "  print()\n",
    "\n",
    "  print(\"Tomek Links Undersampling\")\n",
    "  for i in range(len(scoring)):\n",
    "    score = cross_val_score(classifier, X_tomek, y_tomek, scoring=scoring[i], cv=cv, n_jobs=-1)\n",
    "    print(f\"{scoring[i]} score: {np.mean(score)}\")"
   ]
  },
  {
   "cell_type": "code",
   "execution_count": 10,
   "metadata": {},
   "outputs": [
    {
     "data": {
      "text/html": [
       "<style>#sk-container-id-1 {color: black;}#sk-container-id-1 pre{padding: 0;}#sk-container-id-1 div.sk-toggleable {background-color: white;}#sk-container-id-1 label.sk-toggleable__label {cursor: pointer;display: block;width: 100%;margin-bottom: 0;padding: 0.3em;box-sizing: border-box;text-align: center;}#sk-container-id-1 label.sk-toggleable__label-arrow:before {content: \"▸\";float: left;margin-right: 0.25em;color: #696969;}#sk-container-id-1 label.sk-toggleable__label-arrow:hover:before {color: black;}#sk-container-id-1 div.sk-estimator:hover label.sk-toggleable__label-arrow:before {color: black;}#sk-container-id-1 div.sk-toggleable__content {max-height: 0;max-width: 0;overflow: hidden;text-align: left;background-color: #f0f8ff;}#sk-container-id-1 div.sk-toggleable__content pre {margin: 0.2em;color: black;border-radius: 0.25em;background-color: #f0f8ff;}#sk-container-id-1 input.sk-toggleable__control:checked~div.sk-toggleable__content {max-height: 200px;max-width: 100%;overflow: auto;}#sk-container-id-1 input.sk-toggleable__control:checked~label.sk-toggleable__label-arrow:before {content: \"▾\";}#sk-container-id-1 div.sk-estimator input.sk-toggleable__control:checked~label.sk-toggleable__label {background-color: #d4ebff;}#sk-container-id-1 div.sk-label input.sk-toggleable__control:checked~label.sk-toggleable__label {background-color: #d4ebff;}#sk-container-id-1 input.sk-hidden--visually {border: 0;clip: rect(1px 1px 1px 1px);clip: rect(1px, 1px, 1px, 1px);height: 1px;margin: -1px;overflow: hidden;padding: 0;position: absolute;width: 1px;}#sk-container-id-1 div.sk-estimator {font-family: monospace;background-color: #f0f8ff;border: 1px dotted black;border-radius: 0.25em;box-sizing: border-box;margin-bottom: 0.5em;}#sk-container-id-1 div.sk-estimator:hover {background-color: #d4ebff;}#sk-container-id-1 div.sk-parallel-item::after {content: \"\";width: 100%;border-bottom: 1px solid gray;flex-grow: 1;}#sk-container-id-1 div.sk-label:hover label.sk-toggleable__label {background-color: #d4ebff;}#sk-container-id-1 div.sk-serial::before {content: \"\";position: absolute;border-left: 1px solid gray;box-sizing: border-box;top: 0;bottom: 0;left: 50%;z-index: 0;}#sk-container-id-1 div.sk-serial {display: flex;flex-direction: column;align-items: center;background-color: white;padding-right: 0.2em;padding-left: 0.2em;position: relative;}#sk-container-id-1 div.sk-item {position: relative;z-index: 1;}#sk-container-id-1 div.sk-parallel {display: flex;align-items: stretch;justify-content: center;background-color: white;position: relative;}#sk-container-id-1 div.sk-item::before, #sk-container-id-1 div.sk-parallel-item::before {content: \"\";position: absolute;border-left: 1px solid gray;box-sizing: border-box;top: 0;bottom: 0;left: 50%;z-index: -1;}#sk-container-id-1 div.sk-parallel-item {display: flex;flex-direction: column;z-index: 1;position: relative;background-color: white;}#sk-container-id-1 div.sk-parallel-item:first-child::after {align-self: flex-end;width: 50%;}#sk-container-id-1 div.sk-parallel-item:last-child::after {align-self: flex-start;width: 50%;}#sk-container-id-1 div.sk-parallel-item:only-child::after {width: 0;}#sk-container-id-1 div.sk-dashed-wrapped {border: 1px dashed gray;margin: 0 0.4em 0.5em 0.4em;box-sizing: border-box;padding-bottom: 0.4em;background-color: white;}#sk-container-id-1 div.sk-label label {font-family: monospace;font-weight: bold;display: inline-block;line-height: 1.2em;}#sk-container-id-1 div.sk-label-container {text-align: center;}#sk-container-id-1 div.sk-container {/* jupyter's `normalize.less` sets `[hidden] { display: none; }` but bootstrap.min.css set `[hidden] { display: none !important; }` so we also need the `!important` here to be able to override the default hidden behavior on the sphinx rendered scikit-learn.org. See: https://github.com/scikit-learn/scikit-learn/issues/21755 */display: inline-block !important;position: relative;}#sk-container-id-1 div.sk-text-repr-fallback {display: none;}</style><div id=\"sk-container-id-1\" class=\"sk-top-container\"><div class=\"sk-text-repr-fallback\"><pre>DecisionTreeClassifier()</pre><b>In a Jupyter environment, please rerun this cell to show the HTML representation or trust the notebook. <br />On GitHub, the HTML representation is unable to render, please try loading this page with nbviewer.org.</b></div><div class=\"sk-container\" hidden><div class=\"sk-item\"><div class=\"sk-estimator sk-toggleable\"><input class=\"sk-toggleable__control sk-hidden--visually\" id=\"sk-estimator-id-1\" type=\"checkbox\" checked><label for=\"sk-estimator-id-1\" class=\"sk-toggleable__label sk-toggleable__label-arrow\">DecisionTreeClassifier</label><div class=\"sk-toggleable__content\"><pre>DecisionTreeClassifier()</pre></div></div></div></div></div>"
      ],
      "text/plain": [
       "DecisionTreeClassifier()"
      ]
     },
     "execution_count": 10,
     "metadata": {},
     "output_type": "execute_result"
    }
   ],
   "source": [
    "from sklearn.tree import DecisionTreeClassifier\n",
    "\n",
    "dt = DecisionTreeClassifier()\n",
    "dt"
   ]
  },
  {
   "cell_type": "code",
   "execution_count": 11,
   "metadata": {},
   "outputs": [
    {
     "name": "stdout",
     "output_type": "stream",
     "text": [
      "ADASYN OverSampling\n",
      "f1_micro score: 0.7292982354094363\n",
      "f1_macro score: 0.7249997201367104\n",
      "precision_micro score: 0.7313390077705751\n",
      "precision_macro score: 0.7243952644260222\n",
      "recall_micro score: 0.7298548645265809\n",
      "recall_macro score: 0.7287194784457581\n",
      "\n",
      "Random OverSampling\n",
      "f1_micro score: 0.8326347276850434\n",
      "f1_macro score: 0.8264645411189153\n",
      "precision_micro score: 0.8342166856005955\n",
      "precision_macro score: 0.8389985728442955\n",
      "recall_micro score: 0.8323550947866272\n",
      "recall_macro score: 0.8294680400697091\n",
      "\n",
      "SMOTE OverSampling\n",
      "f1_micro score: 0.7252173935648905\n",
      "f1_macro score: 0.723130718591313\n",
      "precision_micro score: 0.7280095198234335\n",
      "precision_macro score: 0.7253549587061264\n",
      "recall_micro score: 0.7266135650118326\n",
      "recall_macro score: 0.7279185463952065\n",
      "\n",
      "Borderline SMOTE OverSampling\n",
      "f1_micro score: 0.75928486074247\n",
      "f1_macro score: 0.7593464737500603\n",
      "precision_micro score: 0.7577030328081227\n",
      "precision_macro score: 0.7538227944361461\n",
      "recall_micro score: 0.7582614753906585\n",
      "recall_macro score: 0.7609604731072206\n",
      "\n",
      "SVM SMOTE OverSampling\n",
      "f1_micro score: 0.6721044673783788\n",
      "f1_macro score: 0.7095992810256031\n",
      "precision_micro score: 0.6742946186209132\n",
      "precision_macro score: 0.7037760157484264\n",
      "recall_micro score: 0.6723484427779579\n",
      "recall_macro score: 0.7145036657044146\n",
      "\n",
      "Random Undersampling\n",
      "f1_micro score: 0.7972007267344056\n",
      "f1_macro score: 0.3469793743579391\n",
      "precision_micro score: 0.7914810578023013\n",
      "precision_macro score: 0.3485693079551216\n",
      "recall_micro score: 0.7888984590538994\n",
      "recall_macro score: 0.34821214886928303\n",
      "\n",
      "Near Miss 1 Undersampling\n",
      "f1_micro score: 0.5219774011299434\n",
      "f1_macro score: 0.5203930089183451\n",
      "precision_micro score: 0.5219774011299434\n",
      "precision_macro score: 0.5620485329599194\n",
      "recall_micro score: 0.535593220338983\n",
      "recall_macro score: 0.5421052631578948\n",
      "\n",
      "Near Miss 2 Undersampling\n",
      "f1_micro score: 0.619774011299435\n",
      "f1_macro score: 0.6140793690793691\n",
      "precision_micro score: 0.6027118644067797\n",
      "precision_macro score: 0.6206966297251573\n",
      "recall_micro score: 0.6094915254237289\n",
      "recall_macro score: 0.6298245614035087\n",
      "\n",
      "Near Miss 3 Undersampling\n",
      "f1_micro score: 0.39039548022598874\n",
      "f1_macro score: 0.3753754269762747\n",
      "precision_micro score: 0.35338983050847456\n",
      "precision_macro score: 0.387486369942241\n",
      "recall_micro score: 0.3703389830508475\n",
      "recall_macro score: 0.3596491228070175\n",
      "\n",
      "Tomek Links Undersampling\n",
      "f1_micro score: 0.5907994405956363\n",
      "f1_macro score: 0.35882865656288426\n",
      "precision_micro score: 0.59883216873706\n",
      "precision_macro score: 0.35762930741330845\n",
      "recall_micro score: 0.5892389313584966\n",
      "recall_macro score: 0.3600196223716086\n"
     ]
    }
   ],
   "source": [
    "evaluate_classification(dt)"
   ]
  },
  {
   "cell_type": "markdown",
   "metadata": {},
   "source": [
    "Karena Random Oversampling menghasilkan score terbaik maka akan digunakan Random Oversampling"
   ]
  },
  {
   "cell_type": "code",
   "execution_count": 12,
   "metadata": {},
   "outputs": [
    {
     "name": "stdout",
     "output_type": "stream",
     "text": [
      "Random OverSampling\n",
      "f1_micro score: 0.8329137973315724\n",
      "f1_macro score: 0.8294110661888034\n",
      "precision_micro score: 0.8322620282440493\n",
      "precision_macro score: 0.8351664621729938\n",
      "recall_micro score: 0.8302147376156075\n",
      "recall_macro score: 0.8304001776489564\n"
     ]
    }
   ],
   "source": [
    "cv = StratifiedKFold(n_splits=5, shuffle=True, random_state=42)\n",
    "scoring = ['f1_micro', 'f1_macro', 'precision_micro', 'precision_macro', 'recall_micro', 'recall_macro']\n",
    "print(\"Random OverSampling\")\n",
    "for i in range(len(scoring)):\n",
    "    score = cross_val_score(dt, X_randomOver, y_randomOver, scoring=scoring[i], cv=cv, n_jobs=-1)\n",
    "    print(f\"{scoring[i]} score: {np.mean(score)}\")"
   ]
  },
  {
   "cell_type": "markdown",
   "metadata": {},
   "source": [
    "Hyperparameter Tuning"
   ]
  },
  {
   "cell_type": "code",
   "execution_count": 21,
   "metadata": {},
   "outputs": [
    {
     "data": {
      "text/html": [
       "<style>#sk-container-id-7 {color: black;}#sk-container-id-7 pre{padding: 0;}#sk-container-id-7 div.sk-toggleable {background-color: white;}#sk-container-id-7 label.sk-toggleable__label {cursor: pointer;display: block;width: 100%;margin-bottom: 0;padding: 0.3em;box-sizing: border-box;text-align: center;}#sk-container-id-7 label.sk-toggleable__label-arrow:before {content: \"▸\";float: left;margin-right: 0.25em;color: #696969;}#sk-container-id-7 label.sk-toggleable__label-arrow:hover:before {color: black;}#sk-container-id-7 div.sk-estimator:hover label.sk-toggleable__label-arrow:before {color: black;}#sk-container-id-7 div.sk-toggleable__content {max-height: 0;max-width: 0;overflow: hidden;text-align: left;background-color: #f0f8ff;}#sk-container-id-7 div.sk-toggleable__content pre {margin: 0.2em;color: black;border-radius: 0.25em;background-color: #f0f8ff;}#sk-container-id-7 input.sk-toggleable__control:checked~div.sk-toggleable__content {max-height: 200px;max-width: 100%;overflow: auto;}#sk-container-id-7 input.sk-toggleable__control:checked~label.sk-toggleable__label-arrow:before {content: \"▾\";}#sk-container-id-7 div.sk-estimator input.sk-toggleable__control:checked~label.sk-toggleable__label {background-color: #d4ebff;}#sk-container-id-7 div.sk-label input.sk-toggleable__control:checked~label.sk-toggleable__label {background-color: #d4ebff;}#sk-container-id-7 input.sk-hidden--visually {border: 0;clip: rect(1px 1px 1px 1px);clip: rect(1px, 1px, 1px, 1px);height: 1px;margin: -1px;overflow: hidden;padding: 0;position: absolute;width: 1px;}#sk-container-id-7 div.sk-estimator {font-family: monospace;background-color: #f0f8ff;border: 1px dotted black;border-radius: 0.25em;box-sizing: border-box;margin-bottom: 0.5em;}#sk-container-id-7 div.sk-estimator:hover {background-color: #d4ebff;}#sk-container-id-7 div.sk-parallel-item::after {content: \"\";width: 100%;border-bottom: 1px solid gray;flex-grow: 1;}#sk-container-id-7 div.sk-label:hover label.sk-toggleable__label {background-color: #d4ebff;}#sk-container-id-7 div.sk-serial::before {content: \"\";position: absolute;border-left: 1px solid gray;box-sizing: border-box;top: 0;bottom: 0;left: 50%;z-index: 0;}#sk-container-id-7 div.sk-serial {display: flex;flex-direction: column;align-items: center;background-color: white;padding-right: 0.2em;padding-left: 0.2em;position: relative;}#sk-container-id-7 div.sk-item {position: relative;z-index: 1;}#sk-container-id-7 div.sk-parallel {display: flex;align-items: stretch;justify-content: center;background-color: white;position: relative;}#sk-container-id-7 div.sk-item::before, #sk-container-id-7 div.sk-parallel-item::before {content: \"\";position: absolute;border-left: 1px solid gray;box-sizing: border-box;top: 0;bottom: 0;left: 50%;z-index: -1;}#sk-container-id-7 div.sk-parallel-item {display: flex;flex-direction: column;z-index: 1;position: relative;background-color: white;}#sk-container-id-7 div.sk-parallel-item:first-child::after {align-self: flex-end;width: 50%;}#sk-container-id-7 div.sk-parallel-item:last-child::after {align-self: flex-start;width: 50%;}#sk-container-id-7 div.sk-parallel-item:only-child::after {width: 0;}#sk-container-id-7 div.sk-dashed-wrapped {border: 1px dashed gray;margin: 0 0.4em 0.5em 0.4em;box-sizing: border-box;padding-bottom: 0.4em;background-color: white;}#sk-container-id-7 div.sk-label label {font-family: monospace;font-weight: bold;display: inline-block;line-height: 1.2em;}#sk-container-id-7 div.sk-label-container {text-align: center;}#sk-container-id-7 div.sk-container {/* jupyter's `normalize.less` sets `[hidden] { display: none; }` but bootstrap.min.css set `[hidden] { display: none !important; }` so we also need the `!important` here to be able to override the default hidden behavior on the sphinx rendered scikit-learn.org. See: https://github.com/scikit-learn/scikit-learn/issues/21755 */display: inline-block !important;position: relative;}#sk-container-id-7 div.sk-text-repr-fallback {display: none;}</style><div id=\"sk-container-id-7\" class=\"sk-top-container\"><div class=\"sk-text-repr-fallback\"><pre>GridSearchCV(cv=5, estimator=DecisionTreeClassifier(),\n",
       "             param_grid={&#x27;criterion&#x27;: [&#x27;gini&#x27;, &#x27;entropy&#x27;],\n",
       "                         &#x27;max_depth&#x27;: [None, 10, 20, 30],\n",
       "                         &#x27;min_samples_leaf&#x27;: [1, 2, 4],\n",
       "                         &#x27;min_samples_split&#x27;: [2, 5, 10]})</pre><b>In a Jupyter environment, please rerun this cell to show the HTML representation or trust the notebook. <br />On GitHub, the HTML representation is unable to render, please try loading this page with nbviewer.org.</b></div><div class=\"sk-container\" hidden><div class=\"sk-item sk-dashed-wrapped\"><div class=\"sk-label-container\"><div class=\"sk-label sk-toggleable\"><input class=\"sk-toggleable__control sk-hidden--visually\" id=\"sk-estimator-id-15\" type=\"checkbox\" ><label for=\"sk-estimator-id-15\" class=\"sk-toggleable__label sk-toggleable__label-arrow\">GridSearchCV</label><div class=\"sk-toggleable__content\"><pre>GridSearchCV(cv=5, estimator=DecisionTreeClassifier(),\n",
       "             param_grid={&#x27;criterion&#x27;: [&#x27;gini&#x27;, &#x27;entropy&#x27;],\n",
       "                         &#x27;max_depth&#x27;: [None, 10, 20, 30],\n",
       "                         &#x27;min_samples_leaf&#x27;: [1, 2, 4],\n",
       "                         &#x27;min_samples_split&#x27;: [2, 5, 10]})</pre></div></div></div><div class=\"sk-parallel\"><div class=\"sk-parallel-item\"><div class=\"sk-item\"><div class=\"sk-label-container\"><div class=\"sk-label sk-toggleable\"><input class=\"sk-toggleable__control sk-hidden--visually\" id=\"sk-estimator-id-16\" type=\"checkbox\" ><label for=\"sk-estimator-id-16\" class=\"sk-toggleable__label sk-toggleable__label-arrow\">estimator: DecisionTreeClassifier</label><div class=\"sk-toggleable__content\"><pre>DecisionTreeClassifier()</pre></div></div></div><div class=\"sk-serial\"><div class=\"sk-item\"><div class=\"sk-estimator sk-toggleable\"><input class=\"sk-toggleable__control sk-hidden--visually\" id=\"sk-estimator-id-17\" type=\"checkbox\" ><label for=\"sk-estimator-id-17\" class=\"sk-toggleable__label sk-toggleable__label-arrow\">DecisionTreeClassifier</label><div class=\"sk-toggleable__content\"><pre>DecisionTreeClassifier()</pre></div></div></div></div></div></div></div></div></div></div>"
      ],
      "text/plain": [
       "GridSearchCV(cv=5, estimator=DecisionTreeClassifier(),\n",
       "             param_grid={'criterion': ['gini', 'entropy'],\n",
       "                         'max_depth': [None, 10, 20, 30],\n",
       "                         'min_samples_leaf': [1, 2, 4],\n",
       "                         'min_samples_split': [2, 5, 10]})"
      ]
     },
     "execution_count": 21,
     "metadata": {},
     "output_type": "execute_result"
    }
   ],
   "source": [
    "from sklearn.model_selection import GridSearchCV\n",
    "\n",
    "param_grid_c = {'criterion': ['gini', 'entropy'],\n",
    "               'min_samples_split': [2, 5, 10],\n",
    "               'max_depth' : [None, 10, 20, 30],\n",
    "               'min_samples_leaf': [1, 2, 4]\n",
    "               }\n",
    "\n",
    "clf_dtc = GridSearchCV(estimator= DecisionTreeClassifier(), param_grid=param_grid_c, cv= 5)\n",
    "clf_dtc.fit(X_randomOver, y_randomOver)"
   ]
  },
  {
   "cell_type": "code",
   "execution_count": 22,
   "metadata": {},
   "outputs": [
    {
     "name": "stdout",
     "output_type": "stream",
     "text": [
      "Hyperparameter terbaik untuk Decision Tree Classifier\n",
      "{'criterion': 'gini', 'max_depth': None, 'min_samples_leaf': 1, 'min_samples_split': 2}\n"
     ]
    }
   ],
   "source": [
    "print(\"Hyperparameter terbaik untuk Decision Tree Classifier\")\n",
    "print(clf_dtc.best_params_)"
   ]
  },
  {
   "cell_type": "code",
   "execution_count": 23,
   "metadata": {},
   "outputs": [
    {
     "data": {
      "text/html": [
       "<style>#sk-container-id-8 {color: black;}#sk-container-id-8 pre{padding: 0;}#sk-container-id-8 div.sk-toggleable {background-color: white;}#sk-container-id-8 label.sk-toggleable__label {cursor: pointer;display: block;width: 100%;margin-bottom: 0;padding: 0.3em;box-sizing: border-box;text-align: center;}#sk-container-id-8 label.sk-toggleable__label-arrow:before {content: \"▸\";float: left;margin-right: 0.25em;color: #696969;}#sk-container-id-8 label.sk-toggleable__label-arrow:hover:before {color: black;}#sk-container-id-8 div.sk-estimator:hover label.sk-toggleable__label-arrow:before {color: black;}#sk-container-id-8 div.sk-toggleable__content {max-height: 0;max-width: 0;overflow: hidden;text-align: left;background-color: #f0f8ff;}#sk-container-id-8 div.sk-toggleable__content pre {margin: 0.2em;color: black;border-radius: 0.25em;background-color: #f0f8ff;}#sk-container-id-8 input.sk-toggleable__control:checked~div.sk-toggleable__content {max-height: 200px;max-width: 100%;overflow: auto;}#sk-container-id-8 input.sk-toggleable__control:checked~label.sk-toggleable__label-arrow:before {content: \"▾\";}#sk-container-id-8 div.sk-estimator input.sk-toggleable__control:checked~label.sk-toggleable__label {background-color: #d4ebff;}#sk-container-id-8 div.sk-label input.sk-toggleable__control:checked~label.sk-toggleable__label {background-color: #d4ebff;}#sk-container-id-8 input.sk-hidden--visually {border: 0;clip: rect(1px 1px 1px 1px);clip: rect(1px, 1px, 1px, 1px);height: 1px;margin: -1px;overflow: hidden;padding: 0;position: absolute;width: 1px;}#sk-container-id-8 div.sk-estimator {font-family: monospace;background-color: #f0f8ff;border: 1px dotted black;border-radius: 0.25em;box-sizing: border-box;margin-bottom: 0.5em;}#sk-container-id-8 div.sk-estimator:hover {background-color: #d4ebff;}#sk-container-id-8 div.sk-parallel-item::after {content: \"\";width: 100%;border-bottom: 1px solid gray;flex-grow: 1;}#sk-container-id-8 div.sk-label:hover label.sk-toggleable__label {background-color: #d4ebff;}#sk-container-id-8 div.sk-serial::before {content: \"\";position: absolute;border-left: 1px solid gray;box-sizing: border-box;top: 0;bottom: 0;left: 50%;z-index: 0;}#sk-container-id-8 div.sk-serial {display: flex;flex-direction: column;align-items: center;background-color: white;padding-right: 0.2em;padding-left: 0.2em;position: relative;}#sk-container-id-8 div.sk-item {position: relative;z-index: 1;}#sk-container-id-8 div.sk-parallel {display: flex;align-items: stretch;justify-content: center;background-color: white;position: relative;}#sk-container-id-8 div.sk-item::before, #sk-container-id-8 div.sk-parallel-item::before {content: \"\";position: absolute;border-left: 1px solid gray;box-sizing: border-box;top: 0;bottom: 0;left: 50%;z-index: -1;}#sk-container-id-8 div.sk-parallel-item {display: flex;flex-direction: column;z-index: 1;position: relative;background-color: white;}#sk-container-id-8 div.sk-parallel-item:first-child::after {align-self: flex-end;width: 50%;}#sk-container-id-8 div.sk-parallel-item:last-child::after {align-self: flex-start;width: 50%;}#sk-container-id-8 div.sk-parallel-item:only-child::after {width: 0;}#sk-container-id-8 div.sk-dashed-wrapped {border: 1px dashed gray;margin: 0 0.4em 0.5em 0.4em;box-sizing: border-box;padding-bottom: 0.4em;background-color: white;}#sk-container-id-8 div.sk-label label {font-family: monospace;font-weight: bold;display: inline-block;line-height: 1.2em;}#sk-container-id-8 div.sk-label-container {text-align: center;}#sk-container-id-8 div.sk-container {/* jupyter's `normalize.less` sets `[hidden] { display: none; }` but bootstrap.min.css set `[hidden] { display: none !important; }` so we also need the `!important` here to be able to override the default hidden behavior on the sphinx rendered scikit-learn.org. See: https://github.com/scikit-learn/scikit-learn/issues/21755 */display: inline-block !important;position: relative;}#sk-container-id-8 div.sk-text-repr-fallback {display: none;}</style><div id=\"sk-container-id-8\" class=\"sk-top-container\"><div class=\"sk-text-repr-fallback\"><pre>DecisionTreeClassifier()</pre><b>In a Jupyter environment, please rerun this cell to show the HTML representation or trust the notebook. <br />On GitHub, the HTML representation is unable to render, please try loading this page with nbviewer.org.</b></div><div class=\"sk-container\" hidden><div class=\"sk-item\"><div class=\"sk-estimator sk-toggleable\"><input class=\"sk-toggleable__control sk-hidden--visually\" id=\"sk-estimator-id-18\" type=\"checkbox\" checked><label for=\"sk-estimator-id-18\" class=\"sk-toggleable__label sk-toggleable__label-arrow\">DecisionTreeClassifier</label><div class=\"sk-toggleable__content\"><pre>DecisionTreeClassifier()</pre></div></div></div></div></div>"
      ],
      "text/plain": [
       "DecisionTreeClassifier()"
      ]
     },
     "execution_count": 23,
     "metadata": {},
     "output_type": "execute_result"
    }
   ],
   "source": [
    "best_hypeparam_dtc = DecisionTreeClassifier(**clf_dtc.best_params_)\n",
    "best_hypeparam_dtc.fit(X_randomOver, y_randomOver)"
   ]
  },
  {
   "cell_type": "code",
   "execution_count": 24,
   "metadata": {},
   "outputs": [
    {
     "name": "stdout",
     "output_type": "stream",
     "text": [
      "Random OverSampling\n",
      "f1_micro score: 0.832448507945751\n",
      "f1_macro score: 0.8285250941983012\n",
      "precision_micro score: 0.8311455330225914\n",
      "precision_macro score: 0.8374684219724461\n",
      "recall_micro score: 0.8291900524517489\n",
      "recall_macro score: 0.8318890265408581\n"
     ]
    }
   ],
   "source": [
    "cv = StratifiedKFold(n_splits=5, shuffle=True, random_state=42)\n",
    "scoring = ['f1_micro', 'f1_macro', 'precision_micro', 'precision_macro', 'recall_micro', 'recall_macro']\n",
    "print(\"Random OverSampling\")\n",
    "for i in range(len(scoring)):\n",
    "    score = cross_val_score(best_hypeparam_dtc, X_randomOver, y_randomOver, scoring=scoring[i], cv=cv, n_jobs=-1)\n",
    "    print(f\"{scoring[i]} score: {np.mean(score)}\")"
   ]
  }
 ],
 "metadata": {
  "kernelspec": {
   "display_name": "Python 3",
   "language": "python",
   "name": "python3"
  },
  "language_info": {
   "codemirror_mode": {
    "name": "ipython",
    "version": 3
   },
   "file_extension": ".py",
   "mimetype": "text/x-python",
   "name": "python",
   "nbconvert_exporter": "python",
   "pygments_lexer": "ipython3",
   "version": "3.11.0"
  }
 },
 "nbformat": 4,
 "nbformat_minor": 2
}
