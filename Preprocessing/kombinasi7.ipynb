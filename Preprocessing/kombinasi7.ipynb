{
 "cells": [
  {
   "cell_type": "markdown",
   "metadata": {
    "collapsed": false
   },
   "source": [
    "## Kombinasi 7 :\n",
    "- Delete duplicate\n",
    "- Impute missing value using iterative imputer\n",
    "- Outlier handling with winsorization\n",
    "- Encoding\n",
    "- Standard Scaler\n",
    "- Feature selection with Decision Tree"
   ]
  },
  {
   "cell_type": "code",
   "execution_count": 1,
   "metadata": {
    "ExecuteTime": {
     "start_time": "2023-12-23T22:22:27.989426Z",
     "end_time": "2023-12-23T22:22:28.242474Z"
    },
    "collapsed": true
   },
   "outputs": [],
   "source": [
    "# import library\n",
    "import pandas as pd\n",
    "import numpy as np\n",
    "import matplotlib.pyplot as plt\n",
    "import seaborn as sns\n",
    "from sklearn.feature_selection import SelectKBest, chi2\n",
    "from sklearn.preprocessing import LabelEncoder\n",
    "from sklearn.preprocessing import StandardScaler\n",
    "from sklearn.model_selection import train_test_split\n",
    "from sklearn.linear_model import LogisticRegression"
   ]
  },
  {
   "cell_type": "code",
   "execution_count": 2,
   "metadata": {
    "ExecuteTime": {
     "start_time": "2023-12-23T22:22:28.243231Z",
     "end_time": "2023-12-23T22:22:28.428192Z"
    },
    "collapsed": false
   },
   "outputs": [
    {
     "data": {
      "text/plain": "        R_fighter         B_fighter           Referee        date  \\\n0       Joe Riggs      Joe Doerksen  Steve Mazzagatti  2004-08-21   \n1  Jorge Masvidal       Al Iaquinta    Keith Peterson  2015-04-04   \n2    Dan Stittgen  Stephen Thompson    Josh Rosenthal  2012-02-04   \n3   Josh Koscheck   Johny Hendricks     Kevin Mulhall  2012-05-05   \n4     John Dodson  Manvel Gamburyan     James Warring  2016-04-16   \n\n                           location  title_bout  weight_class  B_avg_KD  \\\n0            Las Vegas, Nevada, USA       False  Middleweight       NaN   \n1            Fairfax, Virginia, USA       False   Lightweight  1.156250   \n2            Las Vegas, Nevada, USA       False  Welterweight       NaN   \n3  East Rutherford, New Jersey, USA       False  Welterweight  0.695312   \n4               Tampa, Florida, USA       False  Bantamweight  0.500000   \n\n   B_avg_opp_KD  B_avg_SIG_STR_pct  ...  R_win_by_KO/TKO  R_win_by_Submission  \\\n0           NaN                NaN  ...                0                    0   \n1      0.000000           0.394141  ...                0                    1   \n2           NaN                NaN  ...                0                    0   \n3      0.000000           0.783359  ...                6                    3   \n4      0.266602           0.381462  ...                3                    0   \n\n   R_win_by_TKO_Doctor_Stoppage  R_Stance  R_Height_cms  R_Reach_cms  \\\n0                             0  Southpaw        182.88       177.80   \n1                             0  Orthodox        180.34       187.96   \n2                             0  Orthodox        185.42          NaN   \n3                             0  Orthodox        177.80       185.42   \n4                             1  Orthodox        160.02       167.64   \n\n   R_Weight_lbs  B_age  R_age  Winner  \n0         185.0   26.0   21.0     Red  \n1         170.0   27.0   30.0    Blue  \n2         170.0   28.0   31.0    Blue  \n3         170.0   28.0   34.0    Blue  \n4         135.0   34.0   31.0     Red  \n\n[5 rows x 144 columns]",
      "text/html": "<div>\n<style scoped>\n    .dataframe tbody tr th:only-of-type {\n        vertical-align: middle;\n    }\n\n    .dataframe tbody tr th {\n        vertical-align: top;\n    }\n\n    .dataframe thead th {\n        text-align: right;\n    }\n</style>\n<table border=\"1\" class=\"dataframe\">\n  <thead>\n    <tr style=\"text-align: right;\">\n      <th></th>\n      <th>R_fighter</th>\n      <th>B_fighter</th>\n      <th>Referee</th>\n      <th>date</th>\n      <th>location</th>\n      <th>title_bout</th>\n      <th>weight_class</th>\n      <th>B_avg_KD</th>\n      <th>B_avg_opp_KD</th>\n      <th>B_avg_SIG_STR_pct</th>\n      <th>...</th>\n      <th>R_win_by_KO/TKO</th>\n      <th>R_win_by_Submission</th>\n      <th>R_win_by_TKO_Doctor_Stoppage</th>\n      <th>R_Stance</th>\n      <th>R_Height_cms</th>\n      <th>R_Reach_cms</th>\n      <th>R_Weight_lbs</th>\n      <th>B_age</th>\n      <th>R_age</th>\n      <th>Winner</th>\n    </tr>\n  </thead>\n  <tbody>\n    <tr>\n      <th>0</th>\n      <td>Joe Riggs</td>\n      <td>Joe Doerksen</td>\n      <td>Steve Mazzagatti</td>\n      <td>2004-08-21</td>\n      <td>Las Vegas, Nevada, USA</td>\n      <td>False</td>\n      <td>Middleweight</td>\n      <td>NaN</td>\n      <td>NaN</td>\n      <td>NaN</td>\n      <td>...</td>\n      <td>0</td>\n      <td>0</td>\n      <td>0</td>\n      <td>Southpaw</td>\n      <td>182.88</td>\n      <td>177.80</td>\n      <td>185.0</td>\n      <td>26.0</td>\n      <td>21.0</td>\n      <td>Red</td>\n    </tr>\n    <tr>\n      <th>1</th>\n      <td>Jorge Masvidal</td>\n      <td>Al Iaquinta</td>\n      <td>Keith Peterson</td>\n      <td>2015-04-04</td>\n      <td>Fairfax, Virginia, USA</td>\n      <td>False</td>\n      <td>Lightweight</td>\n      <td>1.156250</td>\n      <td>0.000000</td>\n      <td>0.394141</td>\n      <td>...</td>\n      <td>0</td>\n      <td>1</td>\n      <td>0</td>\n      <td>Orthodox</td>\n      <td>180.34</td>\n      <td>187.96</td>\n      <td>170.0</td>\n      <td>27.0</td>\n      <td>30.0</td>\n      <td>Blue</td>\n    </tr>\n    <tr>\n      <th>2</th>\n      <td>Dan Stittgen</td>\n      <td>Stephen Thompson</td>\n      <td>Josh Rosenthal</td>\n      <td>2012-02-04</td>\n      <td>Las Vegas, Nevada, USA</td>\n      <td>False</td>\n      <td>Welterweight</td>\n      <td>NaN</td>\n      <td>NaN</td>\n      <td>NaN</td>\n      <td>...</td>\n      <td>0</td>\n      <td>0</td>\n      <td>0</td>\n      <td>Orthodox</td>\n      <td>185.42</td>\n      <td>NaN</td>\n      <td>170.0</td>\n      <td>28.0</td>\n      <td>31.0</td>\n      <td>Blue</td>\n    </tr>\n    <tr>\n      <th>3</th>\n      <td>Josh Koscheck</td>\n      <td>Johny Hendricks</td>\n      <td>Kevin Mulhall</td>\n      <td>2012-05-05</td>\n      <td>East Rutherford, New Jersey, USA</td>\n      <td>False</td>\n      <td>Welterweight</td>\n      <td>0.695312</td>\n      <td>0.000000</td>\n      <td>0.783359</td>\n      <td>...</td>\n      <td>6</td>\n      <td>3</td>\n      <td>0</td>\n      <td>Orthodox</td>\n      <td>177.80</td>\n      <td>185.42</td>\n      <td>170.0</td>\n      <td>28.0</td>\n      <td>34.0</td>\n      <td>Blue</td>\n    </tr>\n    <tr>\n      <th>4</th>\n      <td>John Dodson</td>\n      <td>Manvel Gamburyan</td>\n      <td>James Warring</td>\n      <td>2016-04-16</td>\n      <td>Tampa, Florida, USA</td>\n      <td>False</td>\n      <td>Bantamweight</td>\n      <td>0.500000</td>\n      <td>0.266602</td>\n      <td>0.381462</td>\n      <td>...</td>\n      <td>3</td>\n      <td>0</td>\n      <td>1</td>\n      <td>Orthodox</td>\n      <td>160.02</td>\n      <td>167.64</td>\n      <td>135.0</td>\n      <td>34.0</td>\n      <td>31.0</td>\n      <td>Red</td>\n    </tr>\n  </tbody>\n</table>\n<p>5 rows × 144 columns</p>\n</div>"
     },
     "execution_count": 2,
     "metadata": {},
     "output_type": "execute_result"
    }
   ],
   "source": [
    "df = pd.read_csv(\"../UFC_train.csv\")\n",
    "\n",
    "df.head()"
   ]
  },
  {
   "cell_type": "code",
   "execution_count": 3,
   "metadata": {
    "ExecuteTime": {
     "start_time": "2023-12-23T22:22:28.425235Z",
     "end_time": "2023-12-23T22:22:28.575225Z"
    },
    "collapsed": false
   },
   "outputs": [
    {
     "name": "stdout",
     "output_type": "stream",
     "text": [
      "Shape before dropping duplicate : (5410, 144)\n",
      "Shape after dropping duplicate : (5410, 144)\n"
     ]
    }
   ],
   "source": [
    "# Delete duplicate\n",
    "print(f\"Shape before dropping duplicate : {df.shape}\")\n",
    "df.drop_duplicates(inplace=True)\n",
    "print(f\"Shape after dropping duplicate : {df.shape}\")"
   ]
  },
  {
   "cell_type": "code",
   "execution_count": 4,
   "metadata": {
    "ExecuteTime": {
     "start_time": "2023-12-23T22:22:28.492173Z",
     "end_time": "2023-12-23T22:22:28.575478Z"
    },
    "collapsed": false
   },
   "outputs": [],
   "source": [
    "def check_null(df):\n",
    "    col_na = df.isnull().sum().sort_values(ascending=True)\n",
    "    percent = col_na / len(df)\n",
    "    missing_data = pd.concat([col_na, percent], axis=1, keys=['Total', 'Percent'])\n",
    "\n",
    "    if (missing_data[missing_data['Total'] > 0].shape[0] == 0):\n",
    "        print(\"Tidak ditemukan missing value pada dataset\")\n",
    "    else:\n",
    "        print(missing_data[missing_data['Total'] > 0])"
   ]
  },
  {
   "cell_type": "code",
   "execution_count": 5,
   "metadata": {
    "ExecuteTime": {
     "start_time": "2023-12-23T22:22:28.495944Z",
     "end_time": "2023-12-23T22:22:28.575724Z"
    },
    "collapsed": false
   },
   "outputs": [
    {
     "name": "stdout",
     "output_type": "stream",
     "text": [
      "                         Total   Percent\n",
      "R_Weight_lbs                 2  0.000370\n",
      "R_Height_cms                 4  0.000739\n",
      "B_Weight_lbs                 8  0.001479\n",
      "B_Height_cms                10  0.001848\n",
      "R_Stance                    27  0.004991\n",
      "...                        ...       ...\n",
      "B_avg_GROUND_landed       1293  0.239002\n",
      "B_avg_GROUND_att          1293  0.239002\n",
      "B_avg_opp_CLINCH_landed   1293  0.239002\n",
      "B_avg_TD_att              1293  0.239002\n",
      "B_avg_HEAD_landed         1293  0.239002\n",
      "\n",
      "[109 rows x 2 columns]\n"
     ]
    }
   ],
   "source": [
    "check_null(df)"
   ]
  },
  {
   "cell_type": "code",
   "execution_count": 6,
   "metadata": {
    "ExecuteTime": {
     "start_time": "2023-12-23T22:22:28.521016Z",
     "end_time": "2023-12-23T22:22:28.604843Z"
    },
    "collapsed": false
   },
   "outputs": [],
   "source": [
    "# Split string and number\n",
    "# Split dataframe into object type and number type\n",
    "df_object = df.select_dtypes(include='object')\n",
    "df_number = df.select_dtypes(include=np.number)"
   ]
  },
  {
   "cell_type": "code",
   "execution_count": 7,
   "metadata": {
    "ExecuteTime": {
     "start_time": "2023-12-23T22:22:28.525867Z",
     "end_time": "2023-12-23T22:23:44.161046Z"
    },
    "collapsed": false
   },
   "outputs": [
    {
     "name": "stderr",
     "output_type": "stream",
     "text": [
      "/Users/azka/opt/anaconda3/lib/python3.9/site-packages/sklearn/impute/_iterative.py:699: ConvergenceWarning: [IterativeImputer] Early stopping criterion not reached.\n",
      "  warnings.warn(\n"
     ]
    }
   ],
   "source": [
    "# Impute missing value using iterative imputer\n",
    "from sklearn.experimental import enable_iterative_imputer\n",
    "from sklearn.impute import IterativeImputer\n",
    "\n",
    "imputer = IterativeImputer(random_state=42)\n",
    "df_imputed_number = imputer.fit_transform(df_number)\n",
    "df_imputed_number = pd.DataFrame(df_imputed_number, columns=df_number.columns)"
   ]
  },
  {
   "cell_type": "code",
   "execution_count": 8,
   "metadata": {
    "ExecuteTime": {
     "start_time": "2023-12-23T22:23:44.158355Z",
     "end_time": "2023-12-23T22:23:44.169129Z"
    },
    "collapsed": false
   },
   "outputs": [],
   "source": [
    "# Drop R_fighter, B_fighter, Referee, location, date\n",
    "df_object = df_object.drop(['R_fighter', 'B_fighter', 'Referee', 'location', 'date'], axis=1)"
   ]
  },
  {
   "cell_type": "code",
   "execution_count": 9,
   "metadata": {
    "ExecuteTime": {
     "start_time": "2023-12-23T22:23:44.166592Z",
     "end_time": "2023-12-23T22:23:44.294893Z"
    },
    "collapsed": false
   },
   "outputs": [
    {
     "data": {
      "text/plain": "   weight_class  B_Stance  R_Stance Winner  B_avg_KD  B_avg_opp_KD  \\\n0  Middleweight  Orthodox  Southpaw    Red  0.186013      0.182146   \n1   Lightweight  Orthodox  Orthodox   Blue  1.156250      0.000000   \n2  Welterweight  Orthodox  Orthodox   Blue  0.211328      0.193034   \n3  Welterweight  Southpaw  Orthodox   Blue  0.695312      0.000000   \n4  Bantamweight  Orthodox  Orthodox    Red  0.500000      0.266602   \n\n   B_avg_SIG_STR_pct  B_avg_opp_SIG_STR_pct  B_avg_TD_pct  B_avg_opp_TD_pct  \\\n0           0.451630               0.434716      0.325559          0.299475   \n1           0.394141               0.352422      0.239219          0.011484   \n2           0.451822               0.445884      0.299806          0.279493   \n3           0.783359               0.185547      0.088281          0.104375   \n4           0.381462               0.456558      0.429614          0.469570   \n\n   ...  R_win_by_Decision_Split  R_win_by_Decision_Unanimous  R_win_by_KO/TKO  \\\n0  ...                      0.0                          0.0              0.0   \n1  ...                      0.0                          4.0              0.0   \n2  ...                      0.0                          0.0              0.0   \n3  ...                      1.0                          5.0              6.0   \n4  ...                      0.0                          2.0              3.0   \n\n   R_win_by_Submission  R_win_by_TKO_Doctor_Stoppage  R_Height_cms  \\\n0                  0.0                           0.0        182.88   \n1                  1.0                           0.0        180.34   \n2                  0.0                           0.0        185.42   \n3                  3.0                           0.0        177.80   \n4                  0.0                           1.0        160.02   \n\n   R_Reach_cms  R_Weight_lbs  B_age  R_age  \n0   177.800000         185.0   26.0   21.0  \n1   187.960000         170.0   27.0   30.0  \n2   189.230788         170.0   28.0   31.0  \n3   185.420000         170.0   28.0   34.0  \n4   167.640000         135.0   34.0   31.0  \n\n[5 rows x 138 columns]",
      "text/html": "<div>\n<style scoped>\n    .dataframe tbody tr th:only-of-type {\n        vertical-align: middle;\n    }\n\n    .dataframe tbody tr th {\n        vertical-align: top;\n    }\n\n    .dataframe thead th {\n        text-align: right;\n    }\n</style>\n<table border=\"1\" class=\"dataframe\">\n  <thead>\n    <tr style=\"text-align: right;\">\n      <th></th>\n      <th>weight_class</th>\n      <th>B_Stance</th>\n      <th>R_Stance</th>\n      <th>Winner</th>\n      <th>B_avg_KD</th>\n      <th>B_avg_opp_KD</th>\n      <th>B_avg_SIG_STR_pct</th>\n      <th>B_avg_opp_SIG_STR_pct</th>\n      <th>B_avg_TD_pct</th>\n      <th>B_avg_opp_TD_pct</th>\n      <th>...</th>\n      <th>R_win_by_Decision_Split</th>\n      <th>R_win_by_Decision_Unanimous</th>\n      <th>R_win_by_KO/TKO</th>\n      <th>R_win_by_Submission</th>\n      <th>R_win_by_TKO_Doctor_Stoppage</th>\n      <th>R_Height_cms</th>\n      <th>R_Reach_cms</th>\n      <th>R_Weight_lbs</th>\n      <th>B_age</th>\n      <th>R_age</th>\n    </tr>\n  </thead>\n  <tbody>\n    <tr>\n      <th>0</th>\n      <td>Middleweight</td>\n      <td>Orthodox</td>\n      <td>Southpaw</td>\n      <td>Red</td>\n      <td>0.186013</td>\n      <td>0.182146</td>\n      <td>0.451630</td>\n      <td>0.434716</td>\n      <td>0.325559</td>\n      <td>0.299475</td>\n      <td>...</td>\n      <td>0.0</td>\n      <td>0.0</td>\n      <td>0.0</td>\n      <td>0.0</td>\n      <td>0.0</td>\n      <td>182.88</td>\n      <td>177.800000</td>\n      <td>185.0</td>\n      <td>26.0</td>\n      <td>21.0</td>\n    </tr>\n    <tr>\n      <th>1</th>\n      <td>Lightweight</td>\n      <td>Orthodox</td>\n      <td>Orthodox</td>\n      <td>Blue</td>\n      <td>1.156250</td>\n      <td>0.000000</td>\n      <td>0.394141</td>\n      <td>0.352422</td>\n      <td>0.239219</td>\n      <td>0.011484</td>\n      <td>...</td>\n      <td>0.0</td>\n      <td>4.0</td>\n      <td>0.0</td>\n      <td>1.0</td>\n      <td>0.0</td>\n      <td>180.34</td>\n      <td>187.960000</td>\n      <td>170.0</td>\n      <td>27.0</td>\n      <td>30.0</td>\n    </tr>\n    <tr>\n      <th>2</th>\n      <td>Welterweight</td>\n      <td>Orthodox</td>\n      <td>Orthodox</td>\n      <td>Blue</td>\n      <td>0.211328</td>\n      <td>0.193034</td>\n      <td>0.451822</td>\n      <td>0.445884</td>\n      <td>0.299806</td>\n      <td>0.279493</td>\n      <td>...</td>\n      <td>0.0</td>\n      <td>0.0</td>\n      <td>0.0</td>\n      <td>0.0</td>\n      <td>0.0</td>\n      <td>185.42</td>\n      <td>189.230788</td>\n      <td>170.0</td>\n      <td>28.0</td>\n      <td>31.0</td>\n    </tr>\n    <tr>\n      <th>3</th>\n      <td>Welterweight</td>\n      <td>Southpaw</td>\n      <td>Orthodox</td>\n      <td>Blue</td>\n      <td>0.695312</td>\n      <td>0.000000</td>\n      <td>0.783359</td>\n      <td>0.185547</td>\n      <td>0.088281</td>\n      <td>0.104375</td>\n      <td>...</td>\n      <td>1.0</td>\n      <td>5.0</td>\n      <td>6.0</td>\n      <td>3.0</td>\n      <td>0.0</td>\n      <td>177.80</td>\n      <td>185.420000</td>\n      <td>170.0</td>\n      <td>28.0</td>\n      <td>34.0</td>\n    </tr>\n    <tr>\n      <th>4</th>\n      <td>Bantamweight</td>\n      <td>Orthodox</td>\n      <td>Orthodox</td>\n      <td>Red</td>\n      <td>0.500000</td>\n      <td>0.266602</td>\n      <td>0.381462</td>\n      <td>0.456558</td>\n      <td>0.429614</td>\n      <td>0.469570</td>\n      <td>...</td>\n      <td>0.0</td>\n      <td>2.0</td>\n      <td>3.0</td>\n      <td>0.0</td>\n      <td>1.0</td>\n      <td>160.02</td>\n      <td>167.640000</td>\n      <td>135.0</td>\n      <td>34.0</td>\n      <td>31.0</td>\n    </tr>\n  </tbody>\n</table>\n<p>5 rows × 138 columns</p>\n</div>"
     },
     "execution_count": 9,
     "metadata": {},
     "output_type": "execute_result"
    }
   ],
   "source": [
    "# Combine df_object and df_imputed_number\n",
    "df = pd.concat([df_object, df_imputed_number], axis=1)\n",
    "df.head()"
   ]
  },
  {
   "cell_type": "code",
   "execution_count": 10,
   "metadata": {
    "ExecuteTime": {
     "start_time": "2023-12-23T22:23:44.195423Z",
     "end_time": "2023-12-23T22:23:44.296500Z"
    },
    "collapsed": false
   },
   "outputs": [
    {
     "name": "stdout",
     "output_type": "stream",
     "text": [
      "          Total   Percent\n",
      "R_Stance     27  0.004991\n",
      "B_Stance     64  0.011830\n"
     ]
    }
   ],
   "source": [
    "check_null(df)"
   ]
  },
  {
   "cell_type": "code",
   "execution_count": 11,
   "metadata": {
    "ExecuteTime": {
     "start_time": "2023-12-23T22:23:44.203288Z",
     "end_time": "2023-12-23T22:23:44.296696Z"
    },
    "collapsed": false
   },
   "outputs": [],
   "source": [
    "# Impute missing R_stance and B_stance with mode\n",
    "df['R_Stance'].fillna(df['R_Stance'].mode()[0], inplace=True)\n",
    "df['B_Stance'].fillna(df['B_Stance'].mode()[0], inplace=True)"
   ]
  },
  {
   "cell_type": "code",
   "execution_count": 12,
   "metadata": {
    "ExecuteTime": {
     "start_time": "2023-12-23T22:23:44.212403Z",
     "end_time": "2023-12-23T22:23:44.296843Z"
    },
    "collapsed": false
   },
   "outputs": [
    {
     "name": "stdout",
     "output_type": "stream",
     "text": [
      "Tidak ditemukan missing value pada dataset\n"
     ]
    }
   ],
   "source": [
    "check_null(df)"
   ]
  },
  {
   "cell_type": "code",
   "execution_count": 13,
   "metadata": {
    "ExecuteTime": {
     "start_time": "2023-12-23T22:23:44.230827Z",
     "end_time": "2023-12-23T22:23:44.296923Z"
    },
    "collapsed": false
   },
   "outputs": [],
   "source": [
    "def check_outlier(df):\n",
    "    Q1 = df.quantile(0.25)\n",
    "    Q3 = df.quantile(0.75)\n",
    "\n",
    "    # Menghitung RUB dan RLB.\n",
    "    IQR = Q3 - Q1\n",
    "    lower_limit = Q1 - 1.5*IQR\n",
    "    upper_limit = Q3 + 1.5*IQR\n",
    "\n",
    "    # Menampilkan banyaknya outlier pada atribut.\n",
    "    outliers = (df < lower_limit) | (df > upper_limit)\n",
    "    print (\"Outlier pada tiap atribut:\")\n",
    "    print(outliers.sum())\n",
    "\n",
    "    return outliers"
   ]
  },
  {
   "cell_type": "code",
   "execution_count": 14,
   "metadata": {
    "ExecuteTime": {
     "start_time": "2023-12-23T22:23:44.236460Z",
     "end_time": "2023-12-23T22:23:44.297289Z"
    },
    "collapsed": false
   },
   "outputs": [],
   "source": [
    "# Split string and number\n",
    "# Split dataframe into object type and number type\n",
    "df_object = df.select_dtypes(include='object')\n",
    "df_number = df.select_dtypes(include=np.number)"
   ]
  },
  {
   "cell_type": "code",
   "execution_count": 15,
   "metadata": {
    "ExecuteTime": {
     "start_time": "2023-12-23T22:23:44.243840Z",
     "end_time": "2023-12-23T22:23:44.299477Z"
    },
    "collapsed": false
   },
   "outputs": [
    {
     "name": "stdout",
     "output_type": "stream",
     "text": [
      "Outlier pada tiap atribut:\n",
      "B_avg_KD                 532\n",
      "B_avg_opp_KD             461\n",
      "B_avg_SIG_STR_pct        448\n",
      "B_avg_opp_SIG_STR_pct    425\n",
      "B_avg_TD_pct             186\n",
      "                        ... \n",
      "R_Height_cms              19\n",
      "R_Reach_cms               81\n",
      "R_Weight_lbs             301\n",
      "B_age                     31\n",
      "R_age                     75\n",
      "Length: 134, dtype: int64\n",
      "\n",
      "\n",
      "percentage of outliers in each column:\n",
      "B_avg_KD = 9.833641404805915%\n",
      "B_avg_opp_KD = 8.521256931608132%\n",
      "B_avg_SIG_STR_pct = 8.280961182994455%\n",
      "B_avg_opp_SIG_STR_pct = 7.8558225508317925%\n",
      "B_avg_TD_pct = 3.4380776340110906%\n",
      "B_avg_opp_TD_pct = 5.619223659889094%\n",
      "B_avg_SUB_ATT = 5.508317929759704%\n",
      "B_avg_opp_SUB_ATT = 5.878003696857672%\n",
      "B_avg_REV = 6.913123844731977%\n",
      "B_avg_opp_REV = 11.090573012939002%\n",
      "B_avg_SIG_STR_att = 6.358595194085027%\n",
      "B_avg_SIG_STR_landed = 5.582255083179297%\n",
      "B_avg_opp_SIG_STR_att = 6.22920517560074%\n",
      "B_avg_opp_SIG_STR_landed = 6.598890942698706%\n",
      "B_avg_TOTAL_STR_att = 4.787430683918669%\n",
      "B_avg_TOTAL_STR_landed = 5.175600739371535%\n",
      "B_avg_opp_TOTAL_STR_att = 4.473197781885398%\n",
      "B_avg_opp_TOTAL_STR_landed = 5.231053604436229%\n",
      "B_avg_TD_att = 7.578558225508318%\n",
      "B_avg_TD_landed = 7.449168207024029%\n",
      "B_avg_opp_TD_att = 6.7467652495378925%\n",
      "B_avg_opp_TD_landed = 7.707948243992606%\n",
      "B_avg_HEAD_att = 6.247689463955638%\n",
      "B_avg_HEAD_landed = 7.1349353049907585%\n",
      "B_avg_opp_HEAD_att = 6.432532347504622%\n",
      "B_avg_opp_HEAD_landed = 6.931608133086876%\n",
      "B_avg_BODY_att = 7.449168207024029%\n",
      "B_avg_BODY_landed = 7.393715341959335%\n",
      "B_avg_opp_BODY_att = 7.09796672828096%\n",
      "B_avg_opp_BODY_landed = 7.966728280961183%\n",
      "B_avg_LEG_att = 8.299445471349355%\n",
      "B_avg_LEG_landed = 7.818853974121996%\n",
      "B_avg_opp_LEG_att = 8.151571164510166%\n",
      "B_avg_opp_LEG_landed = 7.837338262476895%\n",
      "B_avg_DISTANCE_att = 6.765249537892791%\n",
      "B_avg_DISTANCE_landed = 7.541589648798522%\n",
      "B_avg_opp_DISTANCE_att = 6.89463955637708%\n",
      "B_avg_opp_DISTANCE_landed = 7.375231053604436%\n",
      "B_avg_CLINCH_att = 8.096118299445472%\n",
      "B_avg_CLINCH_landed = 8.00369685767098%\n",
      "B_avg_opp_CLINCH_att = 7.948243992606285%\n",
      "B_avg_opp_CLINCH_landed = 8.558225508317928%\n",
      "B_avg_GROUND_att = 9.537892791127542%\n",
      "B_avg_GROUND_landed = 9.31608133086876%\n",
      "B_avg_opp_GROUND_att = 10.591497227356747%\n",
      "B_avg_opp_GROUND_landed = 10.129390018484289%\n",
      "B_avg_CTRL_time(seconds) = 6.857670979667282%\n",
      "B_avg_opp_CTRL_time(seconds) = 6.524953789279113%\n",
      "B_total_time_fought(seconds) = 2.255083179297597%\n",
      "B_total_rounds_fought = 6.247689463955638%\n",
      "B_total_title_bouts = 12.865064695009243%\n",
      "B_current_win_streak = 12.791127541589647%\n",
      "B_current_lose_streak = 1.4972273567467653%\n",
      "B_longest_win_streak = 0.7763401109057301%\n",
      "B_wins = 3.6968576709796674%\n",
      "B_losses = 4.695009242144177%\n",
      "B_draw = 0.0%\n",
      "B_win_by_Decision_Majority = 1.6635859519408502%\n",
      "B_win_by_Decision_Split = 17.707948243992604%\n",
      "B_win_by_Decision_Unanimous = 10.499075785582255%\n",
      "B_win_by_KO/TKO = 11.571164510166358%\n",
      "B_win_by_Submission = 6.635859519408503%\n",
      "B_win_by_TKO_Doctor_Stoppage = 4.029574861367837%\n",
      "B_Height_cms = 0.3142329020332717%\n",
      "B_Reach_cms = 1.2014787430683918%\n",
      "B_Weight_lbs = 5.785582255083179%\n",
      "R_avg_KD = 7.929759704251387%\n",
      "R_avg_opp_KD = 7.467652495378927%\n",
      "R_avg_SIG_STR_pct = 4.177449168207024%\n",
      "R_avg_opp_SIG_STR_pct = 4.491682070240296%\n",
      "R_avg_TD_pct = 2.698706099815157%\n",
      "R_avg_opp_TD_pct = 2.5138632162661736%\n",
      "R_avg_SUB_ATT = 5.619223659889094%\n",
      "R_avg_opp_SUB_ATT = 6.524953789279113%\n",
      "R_avg_REV = 12.791127541589647%\n",
      "R_avg_opp_REV = 12.791127541589647%\n",
      "R_avg_SIG_STR_att = 3.9741219963031424%\n",
      "R_avg_SIG_STR_landed = 4.269870609981516%\n",
      "R_avg_opp_SIG_STR_att = 3.54898336414048%\n",
      "R_avg_opp_SIG_STR_landed = 3.6044362292051755%\n",
      "R_avg_TOTAL_STR_att = 3.0129390018484288%\n",
      "R_avg_TOTAL_STR_landed = 3.7523105360443623%\n",
      "R_avg_opp_TOTAL_STR_att = 2.532347504621072%\n",
      "R_avg_opp_TOTAL_STR_landed = 3.512014787430684%\n",
      "R_avg_TD_att = 4.972273567467653%\n",
      "R_avg_TD_landed = 6.469500924214418%\n",
      "R_avg_opp_TD_att = 5.822550831792976%\n",
      "R_avg_opp_TD_landed = 6.913123844731977%\n",
      "R_avg_HEAD_att = 4.399260628465805%\n",
      "R_avg_HEAD_landed = 5.027726432532347%\n",
      "R_avg_opp_HEAD_att = 3.770794824399261%\n",
      "R_avg_opp_HEAD_landed = 4.547134935304991%\n",
      "R_avg_BODY_att = 5.046210720887246%\n",
      "R_avg_BODY_landed = 5.027726432532347%\n",
      "R_avg_opp_BODY_att = 4.232902033271719%\n",
      "R_avg_opp_BODY_landed = 4.584103512014788%\n",
      "R_avg_LEG_att = 5.822550831792976%\n",
      "R_avg_LEG_landed = 6.303142329020332%\n",
      "R_avg_opp_LEG_att = 6.34011090573013%\n",
      "R_avg_opp_LEG_landed = 6.247689463955638%\n",
      "R_avg_DISTANCE_att = 4.251386321626617%\n",
      "R_avg_DISTANCE_landed = 4.787430683918669%\n",
      "R_avg_opp_DISTANCE_att = 3.6044362292051755%\n",
      "R_avg_opp_DISTANCE_landed = 4.214417744916821%\n",
      "R_avg_CLINCH_att = 6.062846580406654%\n",
      "R_avg_CLINCH_landed = 7.042513863216267%\n",
      "R_avg_opp_CLINCH_att = 6.6728280961183%\n",
      "R_avg_opp_CLINCH_landed = 7.578558225508318%\n",
      "R_avg_GROUND_att = 7.597042513863217%\n",
      "R_avg_GROUND_landed = 7.449168207024029%\n",
      "R_avg_opp_GROUND_att = 7.5046210720887245%\n",
      "R_avg_opp_GROUND_landed = 7.818853974121996%\n",
      "R_avg_CTRL_time(seconds) = 4.898336414048059%\n",
      "R_avg_opp_CTRL_time(seconds) = 5.415896487985212%\n",
      "R_total_time_fought(seconds) = 0.7024029574861368%\n",
      "R_total_rounds_fought = 3.7338262476894637%\n",
      "R_total_title_bouts = 6.78373382624769%\n",
      "R_current_win_streak = 2.7911275415896486%\n",
      "R_current_lose_streak = 1.1275415896487986%\n",
      "R_longest_win_streak = 4.695009242144177%\n",
      "R_wins = 2.846580406654344%\n",
      "R_losses = 3.3826247689463953%\n",
      "R_draw = 0.0%\n",
      "R_win_by_Decision_Majority = 2.7356746765249538%\n",
      "R_win_by_Decision_Split = 23.752310536044362%\n",
      "R_win_by_Decision_Unanimous = 3.197781885397412%\n",
      "R_win_by_KO/TKO = 4.214417744916821%\n",
      "R_win_by_Submission = 9.593345656192238%\n",
      "R_win_by_TKO_Doctor_Stoppage = 6.303142329020332%\n",
      "R_Height_cms = 0.3512014787430684%\n",
      "R_Reach_cms = 1.4972273567467653%\n",
      "R_Weight_lbs = 5.563770794824399%\n",
      "B_age = 0.5730129390018485%\n",
      "R_age = 1.3863216266173752%\n"
     ]
    }
   ],
   "source": [
    "outliers = dict(check_outlier(df_number).sum())\n",
    "print(\"\\n\\npercentage of outliers in each column:\")\n",
    "for key in outliers.keys():\n",
    "    print(f\"{key} = {outliers[key]/df_number[key].shape[0] * 100}%\")"
   ]
  },
  {
   "cell_type": "code",
   "execution_count": 16,
   "metadata": {
    "ExecuteTime": {
     "start_time": "2023-12-23T22:23:44.299144Z",
     "end_time": "2023-12-23T22:23:44.498799Z"
    },
    "collapsed": false
   },
   "outputs": [
    {
     "data": {
      "text/plain": "   weight_class  B_Stance  R_Stance Winner  B_avg_KD  B_avg_opp_KD  \\\n0  Middleweight  Orthodox  Southpaw    Red  0.186013      0.182146   \n1   Lightweight  Orthodox  Orthodox   Blue  0.649799      0.000000   \n2  Welterweight  Orthodox  Orthodox   Blue  0.211328      0.193034   \n3  Welterweight  Southpaw  Orthodox   Blue  0.649799      0.000000   \n4  Bantamweight  Orthodox  Orthodox    Red  0.500000      0.266602   \n\n   B_avg_SIG_STR_pct  B_avg_opp_SIG_STR_pct  B_avg_TD_pct  B_avg_opp_TD_pct  \\\n0           0.451630               0.434716      0.325559          0.299475   \n1           0.394141               0.352422      0.239219          0.011484   \n2           0.451822               0.445884      0.299806          0.279493   \n3           0.587031               0.185547      0.088281          0.104375   \n4           0.381462               0.456558      0.429614          0.469570   \n\n   ...  R_win_by_Decision_Split  R_win_by_Decision_Unanimous  R_win_by_KO/TKO  \\\n0  ...                      0.0                          0.0              0.0   \n1  ...                      0.0                          4.0              0.0   \n2  ...                      0.0                          0.0              0.0   \n3  ...                      1.0                          4.0              4.0   \n4  ...                      0.0                          2.0              3.0   \n\n   R_win_by_Submission  R_win_by_TKO_Doctor_Stoppage  R_Height_cms  \\\n0                  0.0                           0.0        182.88   \n1                  1.0                           0.0        180.34   \n2                  0.0                           0.0        185.42   \n3                  2.0                           0.0        177.80   \n4                  0.0                           0.0        160.02   \n\n   R_Reach_cms  R_Weight_lbs  B_age  R_age  \n0   177.800000         185.0   26.0   21.0  \n1   187.960000         170.0   27.0   30.0  \n2   189.230788         170.0   28.0   31.0  \n3   185.420000         170.0   28.0   34.0  \n4   167.640000         135.0   34.0   31.0  \n\n[5 rows x 138 columns]",
      "text/html": "<div>\n<style scoped>\n    .dataframe tbody tr th:only-of-type {\n        vertical-align: middle;\n    }\n\n    .dataframe tbody tr th {\n        vertical-align: top;\n    }\n\n    .dataframe thead th {\n        text-align: right;\n    }\n</style>\n<table border=\"1\" class=\"dataframe\">\n  <thead>\n    <tr style=\"text-align: right;\">\n      <th></th>\n      <th>weight_class</th>\n      <th>B_Stance</th>\n      <th>R_Stance</th>\n      <th>Winner</th>\n      <th>B_avg_KD</th>\n      <th>B_avg_opp_KD</th>\n      <th>B_avg_SIG_STR_pct</th>\n      <th>B_avg_opp_SIG_STR_pct</th>\n      <th>B_avg_TD_pct</th>\n      <th>B_avg_opp_TD_pct</th>\n      <th>...</th>\n      <th>R_win_by_Decision_Split</th>\n      <th>R_win_by_Decision_Unanimous</th>\n      <th>R_win_by_KO/TKO</th>\n      <th>R_win_by_Submission</th>\n      <th>R_win_by_TKO_Doctor_Stoppage</th>\n      <th>R_Height_cms</th>\n      <th>R_Reach_cms</th>\n      <th>R_Weight_lbs</th>\n      <th>B_age</th>\n      <th>R_age</th>\n    </tr>\n  </thead>\n  <tbody>\n    <tr>\n      <th>0</th>\n      <td>Middleweight</td>\n      <td>Orthodox</td>\n      <td>Southpaw</td>\n      <td>Red</td>\n      <td>0.186013</td>\n      <td>0.182146</td>\n      <td>0.451630</td>\n      <td>0.434716</td>\n      <td>0.325559</td>\n      <td>0.299475</td>\n      <td>...</td>\n      <td>0.0</td>\n      <td>0.0</td>\n      <td>0.0</td>\n      <td>0.0</td>\n      <td>0.0</td>\n      <td>182.88</td>\n      <td>177.800000</td>\n      <td>185.0</td>\n      <td>26.0</td>\n      <td>21.0</td>\n    </tr>\n    <tr>\n      <th>1</th>\n      <td>Lightweight</td>\n      <td>Orthodox</td>\n      <td>Orthodox</td>\n      <td>Blue</td>\n      <td>0.649799</td>\n      <td>0.000000</td>\n      <td>0.394141</td>\n      <td>0.352422</td>\n      <td>0.239219</td>\n      <td>0.011484</td>\n      <td>...</td>\n      <td>0.0</td>\n      <td>4.0</td>\n      <td>0.0</td>\n      <td>1.0</td>\n      <td>0.0</td>\n      <td>180.34</td>\n      <td>187.960000</td>\n      <td>170.0</td>\n      <td>27.0</td>\n      <td>30.0</td>\n    </tr>\n    <tr>\n      <th>2</th>\n      <td>Welterweight</td>\n      <td>Orthodox</td>\n      <td>Orthodox</td>\n      <td>Blue</td>\n      <td>0.211328</td>\n      <td>0.193034</td>\n      <td>0.451822</td>\n      <td>0.445884</td>\n      <td>0.299806</td>\n      <td>0.279493</td>\n      <td>...</td>\n      <td>0.0</td>\n      <td>0.0</td>\n      <td>0.0</td>\n      <td>0.0</td>\n      <td>0.0</td>\n      <td>185.42</td>\n      <td>189.230788</td>\n      <td>170.0</td>\n      <td>28.0</td>\n      <td>31.0</td>\n    </tr>\n    <tr>\n      <th>3</th>\n      <td>Welterweight</td>\n      <td>Southpaw</td>\n      <td>Orthodox</td>\n      <td>Blue</td>\n      <td>0.649799</td>\n      <td>0.000000</td>\n      <td>0.587031</td>\n      <td>0.185547</td>\n      <td>0.088281</td>\n      <td>0.104375</td>\n      <td>...</td>\n      <td>1.0</td>\n      <td>4.0</td>\n      <td>4.0</td>\n      <td>2.0</td>\n      <td>0.0</td>\n      <td>177.80</td>\n      <td>185.420000</td>\n      <td>170.0</td>\n      <td>28.0</td>\n      <td>34.0</td>\n    </tr>\n    <tr>\n      <th>4</th>\n      <td>Bantamweight</td>\n      <td>Orthodox</td>\n      <td>Orthodox</td>\n      <td>Red</td>\n      <td>0.500000</td>\n      <td>0.266602</td>\n      <td>0.381462</td>\n      <td>0.456558</td>\n      <td>0.429614</td>\n      <td>0.469570</td>\n      <td>...</td>\n      <td>0.0</td>\n      <td>2.0</td>\n      <td>3.0</td>\n      <td>0.0</td>\n      <td>0.0</td>\n      <td>160.02</td>\n      <td>167.640000</td>\n      <td>135.0</td>\n      <td>34.0</td>\n      <td>31.0</td>\n    </tr>\n  </tbody>\n</table>\n<p>5 rows × 138 columns</p>\n</div>"
     },
     "execution_count": 16,
     "metadata": {},
     "output_type": "execute_result"
    }
   ],
   "source": [
    "from scipy.stats.mstats import winsorize\n",
    "\n",
    "# Identify columns with more than 0.5% outliers\n",
    "outlier_columns = []\n",
    "for key in outliers.keys():\n",
    "    if outliers[key] / df_number[key].shape[0] > 0.005:\n",
    "        outlier_columns.append(key)\n",
    "\n",
    "# Winsorize the identified columns\n",
    "for column in outlier_columns:\n",
    "    df_number[column] = winsorize(df_number[column], limits=(0, 0.1))\n",
    "\n",
    "# Combine df_object and df_number\n",
    "df = pd.concat([df_object, df_number], axis=1)\n",
    "df.head()\n"
   ]
  },
  {
   "cell_type": "code",
   "execution_count": 17,
   "metadata": {
    "ExecuteTime": {
     "start_time": "2023-12-23T22:23:44.464913Z",
     "end_time": "2023-12-23T22:23:44.605965Z"
    },
    "collapsed": false
   },
   "outputs": [
    {
     "name": "stdout",
     "output_type": "stream",
     "text": [
      "Outlier pada tiap atribut:\n",
      "B_avg_KD                   0\n",
      "B_avg_opp_KD               1\n",
      "B_avg_SIG_STR_pct        202\n",
      "B_avg_opp_SIG_STR_pct    158\n",
      "B_avg_TD_pct               0\n",
      "                        ... \n",
      "R_Height_cms              19\n",
      "R_Reach_cms               35\n",
      "R_Weight_lbs               0\n",
      "B_age                      0\n",
      "R_age                      4\n",
      "Length: 134, dtype: int64\n",
      "\n",
      "\n",
      "percentage of outliers in each column:\n",
      "B_avg_KD = 0.0%\n",
      "B_avg_opp_KD = 0.018484288354898334%\n",
      "B_avg_SIG_STR_pct = 3.7338262476894637%\n",
      "B_avg_opp_SIG_STR_pct = 2.9205175600739373%\n",
      "B_avg_TD_pct = 0.0%\n",
      "B_avg_opp_TD_pct = 0.0%\n",
      "B_avg_SUB_ATT = 0.0%\n",
      "B_avg_opp_SUB_ATT = 0.0%\n",
      "B_avg_REV = 0.018484288354898334%\n",
      "B_avg_opp_REV = 11.090573012939002%\n",
      "B_avg_SIG_STR_att = 0.0%\n",
      "B_avg_SIG_STR_landed = 0.0%\n",
      "B_avg_opp_SIG_STR_att = 0.0%\n",
      "B_avg_opp_SIG_STR_landed = 0.0%\n",
      "B_avg_TOTAL_STR_att = 0.0%\n",
      "B_avg_TOTAL_STR_landed = 0.0%\n",
      "B_avg_opp_TOTAL_STR_att = 0.0%\n",
      "B_avg_opp_TOTAL_STR_landed = 0.0%\n",
      "B_avg_TD_att = 0.0%\n",
      "B_avg_TD_landed = 0.0%\n",
      "B_avg_opp_TD_att = 0.0%\n",
      "B_avg_opp_TD_landed = 0.0%\n",
      "B_avg_HEAD_att = 0.0%\n",
      "B_avg_HEAD_landed = 0.0%\n",
      "B_avg_opp_HEAD_att = 0.0%\n",
      "B_avg_opp_HEAD_landed = 0.0%\n",
      "B_avg_BODY_att = 0.0%\n",
      "B_avg_BODY_landed = 0.0%\n",
      "B_avg_opp_BODY_att = 0.0%\n",
      "B_avg_opp_BODY_landed = 0.0%\n",
      "B_avg_LEG_att = 0.0%\n",
      "B_avg_LEG_landed = 0.0%\n",
      "B_avg_opp_LEG_att = 0.0%\n",
      "B_avg_opp_LEG_landed = 0.0%\n",
      "B_avg_DISTANCE_att = 0.0%\n",
      "B_avg_DISTANCE_landed = 0.0%\n",
      "B_avg_opp_DISTANCE_att = 0.0%\n",
      "B_avg_opp_DISTANCE_landed = 0.0%\n",
      "B_avg_CLINCH_att = 0.0%\n",
      "B_avg_CLINCH_landed = 0.0%\n",
      "B_avg_opp_CLINCH_att = 0.0%\n",
      "B_avg_opp_CLINCH_landed = 0.0%\n",
      "B_avg_GROUND_att = 0.0%\n",
      "B_avg_GROUND_landed = 0.0%\n",
      "B_avg_opp_GROUND_att = 10.591497227356747%\n",
      "B_avg_opp_GROUND_landed = 10.129390018484289%\n",
      "B_avg_CTRL_time(seconds) = 0.0%\n",
      "B_avg_opp_CTRL_time(seconds) = 0.0%\n",
      "B_total_time_fought(seconds) = 1.6081330868761554%\n",
      "B_total_rounds_fought = 0.0%\n",
      "B_total_title_bouts = 12.865064695009243%\n",
      "B_current_win_streak = 12.791127541589647%\n",
      "B_current_lose_streak = 0.0%\n",
      "B_longest_win_streak = 0.0%\n",
      "B_wins = 0.0%\n",
      "B_losses = 0.0%\n",
      "B_draw = 0.0%\n",
      "B_win_by_Decision_Majority = 0.0%\n",
      "B_win_by_Decision_Split = 17.707948243992604%\n",
      "B_win_by_Decision_Unanimous = 10.499075785582255%\n",
      "B_win_by_KO/TKO = 11.571164510166358%\n",
      "B_win_by_Submission = 0.0%\n",
      "B_win_by_TKO_Doctor_Stoppage = 0.0%\n",
      "B_Height_cms = 0.3142329020332717%\n",
      "B_Reach_cms = 0.7393715341959335%\n",
      "B_Weight_lbs = 0.0%\n",
      "R_avg_KD = 0.0%\n",
      "R_avg_opp_KD = 0.0%\n",
      "R_avg_SIG_STR_pct = 1.3493530499075785%\n",
      "R_avg_opp_SIG_STR_pct = 1.8114602587800372%\n",
      "R_avg_TD_pct = 0.0%\n",
      "R_avg_opp_TD_pct = 0.0%\n",
      "R_avg_SUB_ATT = 0.0%\n",
      "R_avg_opp_SUB_ATT = 0.0%\n",
      "R_avg_REV = 12.791127541589647%\n",
      "R_avg_opp_REV = 12.791127541589647%\n",
      "R_avg_SIG_STR_att = 0.0%\n",
      "R_avg_SIG_STR_landed = 0.0%\n",
      "R_avg_opp_SIG_STR_att = 0.0%\n",
      "R_avg_opp_SIG_STR_landed = 0.0%\n",
      "R_avg_TOTAL_STR_att = 0.0%\n",
      "R_avg_TOTAL_STR_landed = 0.0%\n",
      "R_avg_opp_TOTAL_STR_att = 0.0%\n",
      "R_avg_opp_TOTAL_STR_landed = 0.0%\n",
      "R_avg_TD_att = 0.0%\n",
      "R_avg_TD_landed = 0.0%\n",
      "R_avg_opp_TD_att = 0.0%\n",
      "R_avg_opp_TD_landed = 0.0%\n",
      "R_avg_HEAD_att = 0.0%\n",
      "R_avg_HEAD_landed = 0.0%\n",
      "R_avg_opp_HEAD_att = 0.0%\n",
      "R_avg_opp_HEAD_landed = 0.0%\n",
      "R_avg_BODY_att = 0.0%\n",
      "R_avg_BODY_landed = 0.0%\n",
      "R_avg_opp_BODY_att = 0.0%\n",
      "R_avg_opp_BODY_landed = 0.0%\n",
      "R_avg_LEG_att = 0.0%\n",
      "R_avg_LEG_landed = 0.0%\n",
      "R_avg_opp_LEG_att = 0.0%\n",
      "R_avg_opp_LEG_landed = 0.0%\n",
      "R_avg_DISTANCE_att = 0.0%\n",
      "R_avg_DISTANCE_landed = 0.0%\n",
      "R_avg_opp_DISTANCE_att = 0.0%\n",
      "R_avg_opp_DISTANCE_landed = 0.0%\n",
      "R_avg_CLINCH_att = 0.0%\n",
      "R_avg_CLINCH_landed = 0.0%\n",
      "R_avg_opp_CLINCH_att = 0.0%\n",
      "R_avg_opp_CLINCH_landed = 0.0%\n",
      "R_avg_GROUND_att = 0.0%\n",
      "R_avg_GROUND_landed = 0.0%\n",
      "R_avg_opp_GROUND_att = 0.0%\n",
      "R_avg_opp_GROUND_landed = 0.0%\n",
      "R_avg_CTRL_time(seconds) = 0.0%\n",
      "R_avg_opp_CTRL_time(seconds) = 0.0%\n",
      "R_total_time_fought(seconds) = 0.0%\n",
      "R_total_rounds_fought = 0.0%\n",
      "R_total_title_bouts = 0.0%\n",
      "R_current_win_streak = 0.0%\n",
      "R_current_lose_streak = 0.0%\n",
      "R_longest_win_streak = 0.0%\n",
      "R_wins = 0.0%\n",
      "R_losses = 0.0%\n",
      "R_draw = 0.0%\n",
      "R_win_by_Decision_Majority = 0.0%\n",
      "R_win_by_Decision_Split = 23.752310536044362%\n",
      "R_win_by_Decision_Unanimous = 0.0%\n",
      "R_win_by_KO/TKO = 0.0%\n",
      "R_win_by_Submission = 0.0%\n",
      "R_win_by_TKO_Doctor_Stoppage = 0.0%\n",
      "R_Height_cms = 0.3512014787430684%\n",
      "R_Reach_cms = 0.6469500924214419%\n",
      "R_Weight_lbs = 0.0%\n",
      "B_age = 0.0%\n",
      "R_age = 0.07393715341959334%\n"
     ]
    }
   ],
   "source": [
    "outliers = dict(check_outlier(df_number).sum())\n",
    "print(\"\\n\\npercentage of outliers in each column:\")\n",
    "for key in outliers.keys():\n",
    "    print(f\"{key} = {outliers[key]/df_number[key].shape[0] * 100}%\")"
   ]
  },
  {
   "cell_type": "code",
   "execution_count": 18,
   "metadata": {
    "ExecuteTime": {
     "start_time": "2023-12-23T22:23:44.569657Z",
     "end_time": "2023-12-23T22:23:44.606556Z"
    },
    "collapsed": false
   },
   "outputs": [
    {
     "name": "stderr",
     "output_type": "stream",
     "text": [
      "/var/folders/53/kv053qr13vxg2_y_1lg6hjg80000gn/T/ipykernel_25191/187983017.py:1: PerformanceWarning: DataFrame is highly fragmented.  This is usually the result of calling `frame.insert` many times, which has poor performance.  Consider joining all columns at once using pd.concat(axis=1) instead. To get a de-fragmented frame, use `newframe = frame.copy()`\n",
      "  df['gender'] = df['weight_class'].apply(lambda x: 'women' if 'women' in x.lower() else 'male')\n"
     ]
    }
   ],
   "source": [
    "df['gender'] = df['weight_class'].apply(lambda x: 'women' if 'women' in x.lower() else 'male')"
   ]
  },
  {
   "cell_type": "code",
   "execution_count": 19,
   "metadata": {
    "ExecuteTime": {
     "start_time": "2023-12-23T22:23:44.585798Z",
     "end_time": "2023-12-23T22:23:44.606787Z"
    },
    "collapsed": false
   },
   "outputs": [
    {
     "data": {
      "text/plain": "   weight_class  B_Stance  R_Stance Winner  B_avg_KD  B_avg_opp_KD  \\\n0  Middleweight  Orthodox  Southpaw    Red  0.186013      0.182146   \n1   Lightweight  Orthodox  Orthodox   Blue  0.649799      0.000000   \n2  Welterweight  Orthodox  Orthodox   Blue  0.211328      0.193034   \n3  Welterweight  Southpaw  Orthodox   Blue  0.649799      0.000000   \n4  Bantamweight  Orthodox  Orthodox    Red  0.500000      0.266602   \n\n   B_avg_SIG_STR_pct  B_avg_opp_SIG_STR_pct  B_avg_TD_pct  B_avg_opp_TD_pct  \\\n0           0.451630               0.434716      0.325559          0.299475   \n1           0.394141               0.352422      0.239219          0.011484   \n2           0.451822               0.445884      0.299806          0.279493   \n3           0.587031               0.185547      0.088281          0.104375   \n4           0.381462               0.456558      0.429614          0.469570   \n\n   ...  R_win_by_Decision_Unanimous  R_win_by_KO/TKO  R_win_by_Submission  \\\n0  ...                          0.0              0.0                  0.0   \n1  ...                          4.0              0.0                  1.0   \n2  ...                          0.0              0.0                  0.0   \n3  ...                          4.0              4.0                  2.0   \n4  ...                          2.0              3.0                  0.0   \n\n   R_win_by_TKO_Doctor_Stoppage  R_Height_cms  R_Reach_cms  R_Weight_lbs  \\\n0                           0.0        182.88   177.800000         185.0   \n1                           0.0        180.34   187.960000         170.0   \n2                           0.0        185.42   189.230788         170.0   \n3                           0.0        177.80   185.420000         170.0   \n4                           0.0        160.02   167.640000         135.0   \n\n   B_age  R_age  gender  \n0   26.0   21.0    male  \n1   27.0   30.0    male  \n2   28.0   31.0    male  \n3   28.0   34.0    male  \n4   34.0   31.0    male  \n\n[5 rows x 139 columns]",
      "text/html": "<div>\n<style scoped>\n    .dataframe tbody tr th:only-of-type {\n        vertical-align: middle;\n    }\n\n    .dataframe tbody tr th {\n        vertical-align: top;\n    }\n\n    .dataframe thead th {\n        text-align: right;\n    }\n</style>\n<table border=\"1\" class=\"dataframe\">\n  <thead>\n    <tr style=\"text-align: right;\">\n      <th></th>\n      <th>weight_class</th>\n      <th>B_Stance</th>\n      <th>R_Stance</th>\n      <th>Winner</th>\n      <th>B_avg_KD</th>\n      <th>B_avg_opp_KD</th>\n      <th>B_avg_SIG_STR_pct</th>\n      <th>B_avg_opp_SIG_STR_pct</th>\n      <th>B_avg_TD_pct</th>\n      <th>B_avg_opp_TD_pct</th>\n      <th>...</th>\n      <th>R_win_by_Decision_Unanimous</th>\n      <th>R_win_by_KO/TKO</th>\n      <th>R_win_by_Submission</th>\n      <th>R_win_by_TKO_Doctor_Stoppage</th>\n      <th>R_Height_cms</th>\n      <th>R_Reach_cms</th>\n      <th>R_Weight_lbs</th>\n      <th>B_age</th>\n      <th>R_age</th>\n      <th>gender</th>\n    </tr>\n  </thead>\n  <tbody>\n    <tr>\n      <th>0</th>\n      <td>Middleweight</td>\n      <td>Orthodox</td>\n      <td>Southpaw</td>\n      <td>Red</td>\n      <td>0.186013</td>\n      <td>0.182146</td>\n      <td>0.451630</td>\n      <td>0.434716</td>\n      <td>0.325559</td>\n      <td>0.299475</td>\n      <td>...</td>\n      <td>0.0</td>\n      <td>0.0</td>\n      <td>0.0</td>\n      <td>0.0</td>\n      <td>182.88</td>\n      <td>177.800000</td>\n      <td>185.0</td>\n      <td>26.0</td>\n      <td>21.0</td>\n      <td>male</td>\n    </tr>\n    <tr>\n      <th>1</th>\n      <td>Lightweight</td>\n      <td>Orthodox</td>\n      <td>Orthodox</td>\n      <td>Blue</td>\n      <td>0.649799</td>\n      <td>0.000000</td>\n      <td>0.394141</td>\n      <td>0.352422</td>\n      <td>0.239219</td>\n      <td>0.011484</td>\n      <td>...</td>\n      <td>4.0</td>\n      <td>0.0</td>\n      <td>1.0</td>\n      <td>0.0</td>\n      <td>180.34</td>\n      <td>187.960000</td>\n      <td>170.0</td>\n      <td>27.0</td>\n      <td>30.0</td>\n      <td>male</td>\n    </tr>\n    <tr>\n      <th>2</th>\n      <td>Welterweight</td>\n      <td>Orthodox</td>\n      <td>Orthodox</td>\n      <td>Blue</td>\n      <td>0.211328</td>\n      <td>0.193034</td>\n      <td>0.451822</td>\n      <td>0.445884</td>\n      <td>0.299806</td>\n      <td>0.279493</td>\n      <td>...</td>\n      <td>0.0</td>\n      <td>0.0</td>\n      <td>0.0</td>\n      <td>0.0</td>\n      <td>185.42</td>\n      <td>189.230788</td>\n      <td>170.0</td>\n      <td>28.0</td>\n      <td>31.0</td>\n      <td>male</td>\n    </tr>\n    <tr>\n      <th>3</th>\n      <td>Welterweight</td>\n      <td>Southpaw</td>\n      <td>Orthodox</td>\n      <td>Blue</td>\n      <td>0.649799</td>\n      <td>0.000000</td>\n      <td>0.587031</td>\n      <td>0.185547</td>\n      <td>0.088281</td>\n      <td>0.104375</td>\n      <td>...</td>\n      <td>4.0</td>\n      <td>4.0</td>\n      <td>2.0</td>\n      <td>0.0</td>\n      <td>177.80</td>\n      <td>185.420000</td>\n      <td>170.0</td>\n      <td>28.0</td>\n      <td>34.0</td>\n      <td>male</td>\n    </tr>\n    <tr>\n      <th>4</th>\n      <td>Bantamweight</td>\n      <td>Orthodox</td>\n      <td>Orthodox</td>\n      <td>Red</td>\n      <td>0.500000</td>\n      <td>0.266602</td>\n      <td>0.381462</td>\n      <td>0.456558</td>\n      <td>0.429614</td>\n      <td>0.469570</td>\n      <td>...</td>\n      <td>2.0</td>\n      <td>3.0</td>\n      <td>0.0</td>\n      <td>0.0</td>\n      <td>160.02</td>\n      <td>167.640000</td>\n      <td>135.0</td>\n      <td>34.0</td>\n      <td>31.0</td>\n      <td>male</td>\n    </tr>\n  </tbody>\n</table>\n<p>5 rows × 139 columns</p>\n</div>"
     },
     "execution_count": 19,
     "metadata": {},
     "output_type": "execute_result"
    }
   ],
   "source": [
    "df.head()"
   ]
  },
  {
   "cell_type": "code",
   "execution_count": 20,
   "metadata": {
    "ExecuteTime": {
     "start_time": "2023-12-23T22:23:44.596055Z",
     "end_time": "2023-12-23T22:23:44.606929Z"
    },
    "collapsed": false
   },
   "outputs": [],
   "source": [
    "df['weight_class'] = df['weight_class'].str.replace('Women', '')"
   ]
  },
  {
   "cell_type": "code",
   "execution_count": 21,
   "metadata": {
    "ExecuteTime": {
     "start_time": "2023-12-23T22:23:44.599089Z",
     "end_time": "2023-12-23T22:23:44.607270Z"
    },
    "collapsed": false
   },
   "outputs": [
    {
     "data": {
      "text/plain": "array(['Middleweight', 'Lightweight', 'Welterweight', 'Bantamweight',\n       'Flyweight', 'LightHeavyweight', 'Strawweight', 'Featherweight',\n       'OpenWeight', 'Heavyweight', 'CatchWeight'], dtype=object)"
     },
     "execution_count": 21,
     "metadata": {},
     "output_type": "execute_result"
    }
   ],
   "source": [
    "# Get all weight_class values\n",
    "weight_class = df['weight_class'].unique()\n",
    "weight_class"
   ]
  },
  {
   "cell_type": "code",
   "execution_count": 22,
   "metadata": {
    "ExecuteTime": {
     "start_time": "2023-12-23T22:23:44.606948Z",
     "end_time": "2023-12-23T22:23:44.627280Z"
    },
    "collapsed": false
   },
   "outputs": [],
   "source": [
    "# Create a dictionary to map weight_class values to numbers\n",
    "weight_class_dict = {\n",
    "    'CatchWeight' : 0,\n",
    "    'Strawweight' : 1,\n",
    "    'Flyweight' : 2,\n",
    "    'Bantamweight' : 3,\n",
    "    'Featherweight' : 4,\n",
    "    'Lightweight' : 5,\n",
    "    'Welterweight' : 6,\n",
    "    'Middleweight' : 7,\n",
    "    'LightHeavyweight' : 8,\n",
    "    'Heavyweight' : 9,\n",
    "    'OpenWeight' : 10,\n",
    "}\n",
    "\n",
    "gender_dict = {\n",
    "    'male' : 1,\n",
    "    'women' : 0\n",
    "}"
   ]
  },
  {
   "cell_type": "code",
   "execution_count": 23,
   "metadata": {
    "ExecuteTime": {
     "start_time": "2023-12-23T22:23:44.613403Z",
     "end_time": "2023-12-23T22:23:44.627533Z"
    },
    "collapsed": false
   },
   "outputs": [],
   "source": [
    "# Map each weight_class value to the correct number\n",
    "df['weight_class'] = df['weight_class'].map(weight_class_dict)"
   ]
  },
  {
   "cell_type": "code",
   "execution_count": 24,
   "metadata": {
    "ExecuteTime": {
     "start_time": "2023-12-23T22:23:44.620285Z",
     "end_time": "2023-12-23T22:23:44.670770Z"
    },
    "collapsed": false
   },
   "outputs": [],
   "source": [
    "# Map each gender value to the correct number\n",
    "df['gender'] = df['gender'].map(gender_dict)"
   ]
  },
  {
   "cell_type": "code",
   "execution_count": 25,
   "metadata": {
    "ExecuteTime": {
     "start_time": "2023-12-23T22:23:44.638592Z",
     "end_time": "2023-12-23T22:23:44.672420Z"
    },
    "collapsed": false
   },
   "outputs": [
    {
     "data": {
      "text/plain": "   weight_class  B_Stance  R_Stance Winner  B_avg_KD  B_avg_opp_KD  \\\n0             7  Orthodox  Southpaw    Red  0.186013      0.182146   \n1             5  Orthodox  Orthodox   Blue  0.649799      0.000000   \n2             6  Orthodox  Orthodox   Blue  0.211328      0.193034   \n3             6  Southpaw  Orthodox   Blue  0.649799      0.000000   \n4             3  Orthodox  Orthodox    Red  0.500000      0.266602   \n\n   B_avg_SIG_STR_pct  B_avg_opp_SIG_STR_pct  B_avg_TD_pct  B_avg_opp_TD_pct  \\\n0           0.451630               0.434716      0.325559          0.299475   \n1           0.394141               0.352422      0.239219          0.011484   \n2           0.451822               0.445884      0.299806          0.279493   \n3           0.587031               0.185547      0.088281          0.104375   \n4           0.381462               0.456558      0.429614          0.469570   \n\n   ...  R_win_by_Decision_Unanimous  R_win_by_KO/TKO  R_win_by_Submission  \\\n0  ...                          0.0              0.0                  0.0   \n1  ...                          4.0              0.0                  1.0   \n2  ...                          0.0              0.0                  0.0   \n3  ...                          4.0              4.0                  2.0   \n4  ...                          2.0              3.0                  0.0   \n\n   R_win_by_TKO_Doctor_Stoppage  R_Height_cms  R_Reach_cms  R_Weight_lbs  \\\n0                           0.0        182.88   177.800000         185.0   \n1                           0.0        180.34   187.960000         170.0   \n2                           0.0        185.42   189.230788         170.0   \n3                           0.0        177.80   185.420000         170.0   \n4                           0.0        160.02   167.640000         135.0   \n\n   B_age  R_age  gender  \n0   26.0   21.0       1  \n1   27.0   30.0       1  \n2   28.0   31.0       1  \n3   28.0   34.0       1  \n4   34.0   31.0       1  \n\n[5 rows x 139 columns]",
      "text/html": "<div>\n<style scoped>\n    .dataframe tbody tr th:only-of-type {\n        vertical-align: middle;\n    }\n\n    .dataframe tbody tr th {\n        vertical-align: top;\n    }\n\n    .dataframe thead th {\n        text-align: right;\n    }\n</style>\n<table border=\"1\" class=\"dataframe\">\n  <thead>\n    <tr style=\"text-align: right;\">\n      <th></th>\n      <th>weight_class</th>\n      <th>B_Stance</th>\n      <th>R_Stance</th>\n      <th>Winner</th>\n      <th>B_avg_KD</th>\n      <th>B_avg_opp_KD</th>\n      <th>B_avg_SIG_STR_pct</th>\n      <th>B_avg_opp_SIG_STR_pct</th>\n      <th>B_avg_TD_pct</th>\n      <th>B_avg_opp_TD_pct</th>\n      <th>...</th>\n      <th>R_win_by_Decision_Unanimous</th>\n      <th>R_win_by_KO/TKO</th>\n      <th>R_win_by_Submission</th>\n      <th>R_win_by_TKO_Doctor_Stoppage</th>\n      <th>R_Height_cms</th>\n      <th>R_Reach_cms</th>\n      <th>R_Weight_lbs</th>\n      <th>B_age</th>\n      <th>R_age</th>\n      <th>gender</th>\n    </tr>\n  </thead>\n  <tbody>\n    <tr>\n      <th>0</th>\n      <td>7</td>\n      <td>Orthodox</td>\n      <td>Southpaw</td>\n      <td>Red</td>\n      <td>0.186013</td>\n      <td>0.182146</td>\n      <td>0.451630</td>\n      <td>0.434716</td>\n      <td>0.325559</td>\n      <td>0.299475</td>\n      <td>...</td>\n      <td>0.0</td>\n      <td>0.0</td>\n      <td>0.0</td>\n      <td>0.0</td>\n      <td>182.88</td>\n      <td>177.800000</td>\n      <td>185.0</td>\n      <td>26.0</td>\n      <td>21.0</td>\n      <td>1</td>\n    </tr>\n    <tr>\n      <th>1</th>\n      <td>5</td>\n      <td>Orthodox</td>\n      <td>Orthodox</td>\n      <td>Blue</td>\n      <td>0.649799</td>\n      <td>0.000000</td>\n      <td>0.394141</td>\n      <td>0.352422</td>\n      <td>0.239219</td>\n      <td>0.011484</td>\n      <td>...</td>\n      <td>4.0</td>\n      <td>0.0</td>\n      <td>1.0</td>\n      <td>0.0</td>\n      <td>180.34</td>\n      <td>187.960000</td>\n      <td>170.0</td>\n      <td>27.0</td>\n      <td>30.0</td>\n      <td>1</td>\n    </tr>\n    <tr>\n      <th>2</th>\n      <td>6</td>\n      <td>Orthodox</td>\n      <td>Orthodox</td>\n      <td>Blue</td>\n      <td>0.211328</td>\n      <td>0.193034</td>\n      <td>0.451822</td>\n      <td>0.445884</td>\n      <td>0.299806</td>\n      <td>0.279493</td>\n      <td>...</td>\n      <td>0.0</td>\n      <td>0.0</td>\n      <td>0.0</td>\n      <td>0.0</td>\n      <td>185.42</td>\n      <td>189.230788</td>\n      <td>170.0</td>\n      <td>28.0</td>\n      <td>31.0</td>\n      <td>1</td>\n    </tr>\n    <tr>\n      <th>3</th>\n      <td>6</td>\n      <td>Southpaw</td>\n      <td>Orthodox</td>\n      <td>Blue</td>\n      <td>0.649799</td>\n      <td>0.000000</td>\n      <td>0.587031</td>\n      <td>0.185547</td>\n      <td>0.088281</td>\n      <td>0.104375</td>\n      <td>...</td>\n      <td>4.0</td>\n      <td>4.0</td>\n      <td>2.0</td>\n      <td>0.0</td>\n      <td>177.80</td>\n      <td>185.420000</td>\n      <td>170.0</td>\n      <td>28.0</td>\n      <td>34.0</td>\n      <td>1</td>\n    </tr>\n    <tr>\n      <th>4</th>\n      <td>3</td>\n      <td>Orthodox</td>\n      <td>Orthodox</td>\n      <td>Red</td>\n      <td>0.500000</td>\n      <td>0.266602</td>\n      <td>0.381462</td>\n      <td>0.456558</td>\n      <td>0.429614</td>\n      <td>0.469570</td>\n      <td>...</td>\n      <td>2.0</td>\n      <td>3.0</td>\n      <td>0.0</td>\n      <td>0.0</td>\n      <td>160.02</td>\n      <td>167.640000</td>\n      <td>135.0</td>\n      <td>34.0</td>\n      <td>31.0</td>\n      <td>1</td>\n    </tr>\n  </tbody>\n</table>\n<p>5 rows × 139 columns</p>\n</div>"
     },
     "execution_count": 25,
     "metadata": {},
     "output_type": "execute_result"
    }
   ],
   "source": [
    "df.head()"
   ]
  },
  {
   "cell_type": "code",
   "execution_count": 26,
   "metadata": {
    "ExecuteTime": {
     "start_time": "2023-12-23T22:23:44.645387Z",
     "end_time": "2023-12-23T22:23:44.708143Z"
    },
    "collapsed": false
   },
   "outputs": [
    {
     "data": {
      "text/plain": "   weight_class  B_avg_KD  B_avg_opp_KD  B_avg_SIG_STR_pct  \\\n0             7  0.186013      0.182146           0.451630   \n1             5  0.649799      0.000000           0.394141   \n2             6  0.211328      0.193034           0.451822   \n3             6  0.649799      0.000000           0.587031   \n4             3  0.500000      0.266602           0.381462   \n\n   B_avg_opp_SIG_STR_pct  B_avg_TD_pct  B_avg_opp_TD_pct  B_avg_SUB_ATT  \\\n0               0.434716      0.325559          0.299475       0.563510   \n1               0.352422      0.239219          0.011484       0.156250   \n2               0.445884      0.299806          0.279493       0.508395   \n3               0.185547      0.088281          0.104375       0.093750   \n4               0.456558      0.429614          0.469570       1.062500   \n\n   B_avg_opp_SUB_ATT  B_avg_REV  ...  B_Stance_Southpaw  B_Stance_Switch  \\\n0           0.437996   0.200562  ...                  0                0   \n1           0.132812   0.000000  ...                  0                0   \n2           0.472152   0.182111  ...                  0                0   \n3           0.062500   0.000000  ...                  1                0   \n4           0.000244   0.125000  ...                  0                0   \n\n   R_Stance_Open Stance  R_Stance_Orthodox  R_Stance_Sideways  \\\n0                     0                  0                  0   \n1                     0                  1                  0   \n2                     0                  1                  0   \n3                     0                  1                  0   \n4                     0                  1                  0   \n\n   R_Stance_Southpaw  R_Stance_Switch  Winner_Blue  Winner_Draw  Winner_Red  \n0                  1                0            0            0           1  \n1                  0                0            1            0           0  \n2                  0                0            1            0           0  \n3                  0                0            1            0           0  \n4                  0                0            0            0           1  \n\n[5 rows x 149 columns]",
      "text/html": "<div>\n<style scoped>\n    .dataframe tbody tr th:only-of-type {\n        vertical-align: middle;\n    }\n\n    .dataframe tbody tr th {\n        vertical-align: top;\n    }\n\n    .dataframe thead th {\n        text-align: right;\n    }\n</style>\n<table border=\"1\" class=\"dataframe\">\n  <thead>\n    <tr style=\"text-align: right;\">\n      <th></th>\n      <th>weight_class</th>\n      <th>B_avg_KD</th>\n      <th>B_avg_opp_KD</th>\n      <th>B_avg_SIG_STR_pct</th>\n      <th>B_avg_opp_SIG_STR_pct</th>\n      <th>B_avg_TD_pct</th>\n      <th>B_avg_opp_TD_pct</th>\n      <th>B_avg_SUB_ATT</th>\n      <th>B_avg_opp_SUB_ATT</th>\n      <th>B_avg_REV</th>\n      <th>...</th>\n      <th>B_Stance_Southpaw</th>\n      <th>B_Stance_Switch</th>\n      <th>R_Stance_Open Stance</th>\n      <th>R_Stance_Orthodox</th>\n      <th>R_Stance_Sideways</th>\n      <th>R_Stance_Southpaw</th>\n      <th>R_Stance_Switch</th>\n      <th>Winner_Blue</th>\n      <th>Winner_Draw</th>\n      <th>Winner_Red</th>\n    </tr>\n  </thead>\n  <tbody>\n    <tr>\n      <th>0</th>\n      <td>7</td>\n      <td>0.186013</td>\n      <td>0.182146</td>\n      <td>0.451630</td>\n      <td>0.434716</td>\n      <td>0.325559</td>\n      <td>0.299475</td>\n      <td>0.563510</td>\n      <td>0.437996</td>\n      <td>0.200562</td>\n      <td>...</td>\n      <td>0</td>\n      <td>0</td>\n      <td>0</td>\n      <td>0</td>\n      <td>0</td>\n      <td>1</td>\n      <td>0</td>\n      <td>0</td>\n      <td>0</td>\n      <td>1</td>\n    </tr>\n    <tr>\n      <th>1</th>\n      <td>5</td>\n      <td>0.649799</td>\n      <td>0.000000</td>\n      <td>0.394141</td>\n      <td>0.352422</td>\n      <td>0.239219</td>\n      <td>0.011484</td>\n      <td>0.156250</td>\n      <td>0.132812</td>\n      <td>0.000000</td>\n      <td>...</td>\n      <td>0</td>\n      <td>0</td>\n      <td>0</td>\n      <td>1</td>\n      <td>0</td>\n      <td>0</td>\n      <td>0</td>\n      <td>1</td>\n      <td>0</td>\n      <td>0</td>\n    </tr>\n    <tr>\n      <th>2</th>\n      <td>6</td>\n      <td>0.211328</td>\n      <td>0.193034</td>\n      <td>0.451822</td>\n      <td>0.445884</td>\n      <td>0.299806</td>\n      <td>0.279493</td>\n      <td>0.508395</td>\n      <td>0.472152</td>\n      <td>0.182111</td>\n      <td>...</td>\n      <td>0</td>\n      <td>0</td>\n      <td>0</td>\n      <td>1</td>\n      <td>0</td>\n      <td>0</td>\n      <td>0</td>\n      <td>1</td>\n      <td>0</td>\n      <td>0</td>\n    </tr>\n    <tr>\n      <th>3</th>\n      <td>6</td>\n      <td>0.649799</td>\n      <td>0.000000</td>\n      <td>0.587031</td>\n      <td>0.185547</td>\n      <td>0.088281</td>\n      <td>0.104375</td>\n      <td>0.093750</td>\n      <td>0.062500</td>\n      <td>0.000000</td>\n      <td>...</td>\n      <td>1</td>\n      <td>0</td>\n      <td>0</td>\n      <td>1</td>\n      <td>0</td>\n      <td>0</td>\n      <td>0</td>\n      <td>1</td>\n      <td>0</td>\n      <td>0</td>\n    </tr>\n    <tr>\n      <th>4</th>\n      <td>3</td>\n      <td>0.500000</td>\n      <td>0.266602</td>\n      <td>0.381462</td>\n      <td>0.456558</td>\n      <td>0.429614</td>\n      <td>0.469570</td>\n      <td>1.062500</td>\n      <td>0.000244</td>\n      <td>0.125000</td>\n      <td>...</td>\n      <td>0</td>\n      <td>0</td>\n      <td>0</td>\n      <td>1</td>\n      <td>0</td>\n      <td>0</td>\n      <td>0</td>\n      <td>0</td>\n      <td>0</td>\n      <td>1</td>\n    </tr>\n  </tbody>\n</table>\n<p>5 rows × 149 columns</p>\n</div>"
     },
     "execution_count": 26,
     "metadata": {},
     "output_type": "execute_result"
    }
   ],
   "source": [
    "# Get the remaining object columns\n",
    "df_object = df.select_dtypes(include='object')\n",
    "\n",
    "# Perform one-hot encoding\n",
    "df_encoded = pd.get_dummies(df_object)\n",
    "\n",
    "# Combine the encoded columns with the original dataframe\n",
    "df = pd.concat([df, df_encoded], axis=1)\n",
    "\n",
    "# Drop the original object columns\n",
    "df.drop(df_object.columns, axis=1, inplace=True)\n",
    "\n",
    "df.head()\n"
   ]
  },
  {
   "cell_type": "code",
   "execution_count": 27,
   "metadata": {
    "ExecuteTime": {
     "start_time": "2023-12-23T22:23:44.668427Z",
     "end_time": "2023-12-23T22:23:45.303176Z"
    },
    "collapsed": false
   },
   "outputs": [],
   "source": [
    "# Export to CSV\n",
    "df.to_csv('UFC_kombinasi7_wt_featureselection.csv', index=False)"
   ]
  },
  {
   "cell_type": "code",
   "execution_count": 28,
   "metadata": {
    "ExecuteTime": {
     "start_time": "2023-12-23T22:23:45.305589Z",
     "end_time": "2023-12-23T22:23:45.678145Z"
    },
    "collapsed": false
   },
   "outputs": [
    {
     "data": {
      "text/plain": "DecisionTreeRegressor()"
     },
     "execution_count": 28,
     "metadata": {},
     "output_type": "execute_result"
    }
   ],
   "source": [
    "from sklearn.tree import DecisionTreeRegressor\n",
    "\n",
    "# Feature selection with Decision Tree\n",
    "X = df.drop('B_Reach_cms', axis=1)\n",
    "y = df['B_Reach_cms']\n",
    "\n",
    "# Splitting data into training and testing data\n",
    "X_train, X_test, y_train, y_test = train_test_split(X, y, test_size=0.2, random_state=2020)\n",
    "\n",
    "model = DecisionTreeRegressor()\n",
    "model.fit(X_train, y_train)"
   ]
  },
  {
   "cell_type": "code",
   "execution_count": 29,
   "metadata": {
    "ExecuteTime": {
     "start_time": "2023-12-23T22:23:45.678120Z",
     "end_time": "2023-12-23T22:23:45.683344Z"
    },
    "collapsed": false
   },
   "outputs": [],
   "source": [
    "feature_importances = model.feature_importances_"
   ]
  },
  {
   "cell_type": "code",
   "execution_count": 30,
   "metadata": {
    "ExecuteTime": {
     "start_time": "2023-12-23T22:23:45.684318Z",
     "end_time": "2023-12-23T22:23:45.687753Z"
    },
    "collapsed": false
   },
   "outputs": [],
   "source": [
    "top_n = 20\n",
    "top_features_indices = feature_importances.argsort()[-top_n:][::-1]"
   ]
  },
  {
   "cell_type": "code",
   "execution_count": 31,
   "metadata": {
    "ExecuteTime": {
     "start_time": "2023-12-23T22:23:45.690487Z",
     "end_time": "2023-12-23T22:23:45.697393Z"
    },
    "collapsed": false
   },
   "outputs": [
    {
     "data": {
      "text/plain": "array([ 64,  65,   9, 134, 132,  31, 130,  22,  86,   0,   1,  62,  17,\n       131,  18, 107,  81, 113,  48, 111])"
     },
     "execution_count": 31,
     "metadata": {},
     "output_type": "execute_result"
    }
   ],
   "source": [
    "top_features_indices"
   ]
  },
  {
   "cell_type": "code",
   "execution_count": 32,
   "metadata": {
    "ExecuteTime": {
     "start_time": "2023-12-23T22:23:45.705776Z",
     "end_time": "2023-12-23T22:23:45.804150Z"
    },
    "collapsed": false
   },
   "outputs": [
    {
     "data": {
      "text/plain": "Index(['B_Height_cms', 'B_Weight_lbs', 'B_avg_REV', 'gender', 'B_age',\n       'B_avg_LEG_att', 'R_Reach_cms', 'B_avg_opp_TD_landed',\n       'R_avg_opp_TD_att', 'weight_class', 'B_avg_KD', 'B_win_by_Submission',\n       'B_avg_opp_TOTAL_STR_att', 'R_Weight_lbs', 'B_avg_opp_TOTAL_STR_landed',\n       'R_avg_opp_CLINCH_landed', 'R_avg_TOTAL_STR_landed',\n       'R_avg_opp_CTRL_time(seconds)', 'B_avg_opp_CTRL_time(seconds)',\n       'R_avg_opp_GROUND_landed'],\n      dtype='object')"
     },
     "execution_count": 32,
     "metadata": {},
     "output_type": "execute_result"
    }
   ],
   "source": [
    "# Get the names of the top features\n",
    "top_features = X.columns[top_features_indices]\n",
    "top_features"
   ]
  },
  {
   "cell_type": "code",
   "execution_count": 33,
   "metadata": {
    "ExecuteTime": {
     "start_time": "2023-12-23T22:23:45.723595Z",
     "end_time": "2023-12-23T22:23:45.827993Z"
    },
    "collapsed": false
   },
   "outputs": [
    {
     "name": "stderr",
     "output_type": "stream",
     "text": [
      "/var/folders/53/kv053qr13vxg2_y_1lg6hjg80000gn/T/ipykernel_25191/3681793381.py:3: SettingWithCopyWarning: \n",
      "A value is trying to be set on a copy of a slice from a DataFrame.\n",
      "Try using .loc[row_indexer,col_indexer] = value instead\n",
      "\n",
      "See the caveats in the documentation: https://pandas.pydata.org/pandas-docs/stable/user_guide/indexing.html#returning-a-view-versus-a-copy\n",
      "  df_top_features['B_Reach_cms'] = df['B_Reach_cms']\n"
     ]
    },
    {
     "data": {
      "text/plain": "   B_Height_cms  B_Weight_lbs  B_avg_REV  gender  B_age  B_avg_LEG_att  \\\n0        182.88         185.0   0.200562       1   26.0       6.573702   \n1        177.80         155.0   0.000000       1   27.0       6.523438   \n2        182.88         170.0   0.182111       1   28.0       6.573702   \n3        175.26         185.0   0.000000       1   28.0       3.421875   \n4        165.10         135.0   0.125000       1   34.0       8.278564   \n\n   R_Reach_cms  B_avg_opp_TD_landed  R_avg_opp_TD_att  weight_class  ...  \\\n0   177.800000             1.056337          2.990673             7  ...   \n1   187.960000             0.085938          5.812500             5  ...   \n2   189.230788             1.121961          2.820735             6  ...   \n3   185.420000             0.445312          3.660690             6  ...   \n4   167.640000             1.380859          6.000000             3  ...   \n\n   B_win_by_Submission  B_avg_opp_TOTAL_STR_att  R_Weight_lbs  \\\n0                  0.0                92.655464         185.0   \n1                  0.0                91.882812         170.0   \n2                  0.0                92.789902         170.0   \n3                  0.0                52.046875         170.0   \n4                  2.0               125.859863         135.0   \n\n   B_avg_opp_TOTAL_STR_landed  R_avg_opp_CLINCH_landed  \\\n0                   48.452845                 5.057835   \n1                   33.078125                 2.343750   \n2                   48.503628                 5.057835   \n3                   28.671875                 5.589394   \n4                   71.359619                10.630615   \n\n   R_avg_TOTAL_STR_landed  R_avg_opp_CTRL_time(seconds)  \\\n0               53.547907                    119.118031   \n1               87.593750                    115.000000   \n2               53.930300                    132.749212   \n3               41.379938                    116.292816   \n4               72.429688                    162.796875   \n\n   B_avg_opp_CTRL_time(seconds)  R_avg_opp_GROUND_landed  B_Reach_cms  \n0                    130.692671                 4.637537       190.50  \n1                     14.601562                 1.093750       177.80  \n2                    135.566523                 4.637537       190.50  \n3                     67.156250                 0.226578       175.26  \n4                    181.141357                 0.093750       170.18  \n\n[5 rows x 21 columns]",
      "text/html": "<div>\n<style scoped>\n    .dataframe tbody tr th:only-of-type {\n        vertical-align: middle;\n    }\n\n    .dataframe tbody tr th {\n        vertical-align: top;\n    }\n\n    .dataframe thead th {\n        text-align: right;\n    }\n</style>\n<table border=\"1\" class=\"dataframe\">\n  <thead>\n    <tr style=\"text-align: right;\">\n      <th></th>\n      <th>B_Height_cms</th>\n      <th>B_Weight_lbs</th>\n      <th>B_avg_REV</th>\n      <th>gender</th>\n      <th>B_age</th>\n      <th>B_avg_LEG_att</th>\n      <th>R_Reach_cms</th>\n      <th>B_avg_opp_TD_landed</th>\n      <th>R_avg_opp_TD_att</th>\n      <th>weight_class</th>\n      <th>...</th>\n      <th>B_win_by_Submission</th>\n      <th>B_avg_opp_TOTAL_STR_att</th>\n      <th>R_Weight_lbs</th>\n      <th>B_avg_opp_TOTAL_STR_landed</th>\n      <th>R_avg_opp_CLINCH_landed</th>\n      <th>R_avg_TOTAL_STR_landed</th>\n      <th>R_avg_opp_CTRL_time(seconds)</th>\n      <th>B_avg_opp_CTRL_time(seconds)</th>\n      <th>R_avg_opp_GROUND_landed</th>\n      <th>B_Reach_cms</th>\n    </tr>\n  </thead>\n  <tbody>\n    <tr>\n      <th>0</th>\n      <td>182.88</td>\n      <td>185.0</td>\n      <td>0.200562</td>\n      <td>1</td>\n      <td>26.0</td>\n      <td>6.573702</td>\n      <td>177.800000</td>\n      <td>1.056337</td>\n      <td>2.990673</td>\n      <td>7</td>\n      <td>...</td>\n      <td>0.0</td>\n      <td>92.655464</td>\n      <td>185.0</td>\n      <td>48.452845</td>\n      <td>5.057835</td>\n      <td>53.547907</td>\n      <td>119.118031</td>\n      <td>130.692671</td>\n      <td>4.637537</td>\n      <td>190.50</td>\n    </tr>\n    <tr>\n      <th>1</th>\n      <td>177.80</td>\n      <td>155.0</td>\n      <td>0.000000</td>\n      <td>1</td>\n      <td>27.0</td>\n      <td>6.523438</td>\n      <td>187.960000</td>\n      <td>0.085938</td>\n      <td>5.812500</td>\n      <td>5</td>\n      <td>...</td>\n      <td>0.0</td>\n      <td>91.882812</td>\n      <td>170.0</td>\n      <td>33.078125</td>\n      <td>2.343750</td>\n      <td>87.593750</td>\n      <td>115.000000</td>\n      <td>14.601562</td>\n      <td>1.093750</td>\n      <td>177.80</td>\n    </tr>\n    <tr>\n      <th>2</th>\n      <td>182.88</td>\n      <td>170.0</td>\n      <td>0.182111</td>\n      <td>1</td>\n      <td>28.0</td>\n      <td>6.573702</td>\n      <td>189.230788</td>\n      <td>1.121961</td>\n      <td>2.820735</td>\n      <td>6</td>\n      <td>...</td>\n      <td>0.0</td>\n      <td>92.789902</td>\n      <td>170.0</td>\n      <td>48.503628</td>\n      <td>5.057835</td>\n      <td>53.930300</td>\n      <td>132.749212</td>\n      <td>135.566523</td>\n      <td>4.637537</td>\n      <td>190.50</td>\n    </tr>\n    <tr>\n      <th>3</th>\n      <td>175.26</td>\n      <td>185.0</td>\n      <td>0.000000</td>\n      <td>1</td>\n      <td>28.0</td>\n      <td>3.421875</td>\n      <td>185.420000</td>\n      <td>0.445312</td>\n      <td>3.660690</td>\n      <td>6</td>\n      <td>...</td>\n      <td>0.0</td>\n      <td>52.046875</td>\n      <td>170.0</td>\n      <td>28.671875</td>\n      <td>5.589394</td>\n      <td>41.379938</td>\n      <td>116.292816</td>\n      <td>67.156250</td>\n      <td>0.226578</td>\n      <td>175.26</td>\n    </tr>\n    <tr>\n      <th>4</th>\n      <td>165.10</td>\n      <td>135.0</td>\n      <td>0.125000</td>\n      <td>1</td>\n      <td>34.0</td>\n      <td>8.278564</td>\n      <td>167.640000</td>\n      <td>1.380859</td>\n      <td>6.000000</td>\n      <td>3</td>\n      <td>...</td>\n      <td>2.0</td>\n      <td>125.859863</td>\n      <td>135.0</td>\n      <td>71.359619</td>\n      <td>10.630615</td>\n      <td>72.429688</td>\n      <td>162.796875</td>\n      <td>181.141357</td>\n      <td>0.093750</td>\n      <td>170.18</td>\n    </tr>\n  </tbody>\n</table>\n<p>5 rows × 21 columns</p>\n</div>"
     },
     "execution_count": 33,
     "metadata": {},
     "output_type": "execute_result"
    }
   ],
   "source": [
    "# Create a dataframe with only the top features\n",
    "df_top_features = df[top_features]\n",
    "df_top_features['B_Reach_cms'] = df['B_Reach_cms']\n",
    "df_top_features.head()"
   ]
  },
  {
   "cell_type": "code",
   "execution_count": 34,
   "metadata": {
    "ExecuteTime": {
     "start_time": "2023-12-23T22:23:45.753028Z",
     "end_time": "2023-12-23T22:23:45.828402Z"
    }
   },
   "outputs": [
    {
     "name": "stderr",
     "output_type": "stream",
     "text": [
      "/var/folders/53/kv053qr13vxg2_y_1lg6hjg80000gn/T/ipykernel_25191/2085615569.py:1: SettingWithCopyWarning: \n",
      "A value is trying to be set on a copy of a slice from a DataFrame.\n",
      "Try using .loc[row_indexer,col_indexer] = value instead\n",
      "\n",
      "See the caveats in the documentation: https://pandas.pydata.org/pandas-docs/stable/user_guide/indexing.html#returning-a-view-versus-a-copy\n",
      "  df_top_features['B_Reach_cms'] = y\n"
     ]
    }
   ],
   "source": [
    "df_top_features['B_Reach_cms'] = y"
   ]
  },
  {
   "cell_type": "code",
   "execution_count": 35,
   "metadata": {
    "ExecuteTime": {
     "start_time": "2023-12-23T22:23:45.770870Z",
     "end_time": "2023-12-23T22:23:45.957674Z"
    },
    "collapsed": false
   },
   "outputs": [],
   "source": [
    "# Export to CSV\n",
    "df_top_features.to_csv('UFC_kombinasi7.csv', index=False)\n"
   ]
  },
  {
   "cell_type": "code",
   "execution_count": 35,
   "metadata": {
    "ExecuteTime": {
     "start_time": "2023-12-23T22:23:45.913845Z",
     "end_time": "2023-12-23T22:23:45.958023Z"
    },
    "collapsed": false
   },
   "outputs": [],
   "source": []
  }
 ],
 "metadata": {
  "kernelspec": {
   "display_name": "Python 3",
   "language": "python",
   "name": "python3"
  },
  "language_info": {
   "codemirror_mode": {
    "name": "ipython",
    "version": 3
   },
   "file_extension": ".py",
   "mimetype": "text/x-python",
   "name": "python",
   "nbconvert_exporter": "python",
   "pygments_lexer": "ipython3",
   "version": "3.12.0"
  }
 },
 "nbformat": 4,
 "nbformat_minor": 0
}
