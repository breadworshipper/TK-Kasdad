{
 "cells": [
  {
   "cell_type": "code",
   "execution_count": 6,
   "metadata": {},
   "outputs": [],
   "source": [
    "# import library\n",
    "import pandas as pd\n",
    "import numpy as np\n",
    "import matplotlib.pyplot as plt\n",
    "import seaborn as sns\n",
    "from sklearn.feature_selection import SelectKBest, chi2\n",
    "from sklearn.preprocessing import LabelEncoder\n",
    "from sklearn.preprocessing import StandardScaler\n",
    "from sklearn.model_selection import train_test_split\n",
    "from sklearn.linear_model import LogisticRegression"
   ]
  },
  {
   "cell_type": "markdown",
   "metadata": {},
   "source": [
    "## Kombinasi 3 :\n",
    "- Delete duplicate\n",
    "- Impute missing value using iterative imputer\n",
    "- Outlier capping with winsorization\n",
    "- Encoding\n",
    "- Standard Scaler\n",
    "- Feature selection Implied"
   ]
  },
  {
   "cell_type": "code",
   "execution_count": 7,
   "metadata": {},
   "outputs": [],
   "source": [
    "df = pd.read_csv('../../Without Feature Selection/UFC_kombinasi23_wt_featureselection.csv')"
   ]
  },
  {
   "cell_type": "code",
   "execution_count": 8,
   "metadata": {},
   "outputs": [],
   "source": [
    "X = df.drop(['B_Reach_cms'], axis=1)\n",
    "y = df['B_Reach_cms']"
   ]
  },
  {
   "cell_type": "code",
   "execution_count": 9,
   "metadata": {},
   "outputs": [],
   "source": [
    "scaler = StandardScaler()\n",
    "X = scaler.fit_transform(X)"
   ]
  },
  {
   "cell_type": "code",
   "execution_count": 10,
   "metadata": {},
   "outputs": [
    {
     "name": "stdout",
     "output_type": "stream",
     "text": [
      "Best Parameters: {'alpha': 0.1, 'fit_intercept': True, 'max_iter': 2000, 'precompute': True, 'selection': 'random', 'tol': 0.001}\n",
      "Best R-squared Score: 0.7914168808691014\n"
     ]
    }
   ],
   "source": [
    "from sklearn.linear_model import Lasso\n",
    "from sklearn.model_selection import GridSearchCV\n",
    "\n",
    "# Define the parameter grid\n",
    "param_grid = {\n",
    "    'alpha': [0.1, 0.5, 1.0, 2.0, 5.0],\n",
    "    'fit_intercept': [True, False],\n",
    "    'precompute': [True, False],\n",
    "    'max_iter': [1000, 2000, 5000],\n",
    "    'tol': [0.0001, 0.001, 0.01],\n",
    "    'selection': ['cyclic', 'random']\n",
    "}\n",
    "\n",
    "# Create the KNN model\n",
    "decisionTree = Lasso()\n",
    "\n",
    "# Create the GridSearchCV object\n",
    "grid_search = GridSearchCV(decisionTree, param_grid, cv=5, scoring='r2', n_jobs=-1)\n",
    "\n",
    "# Fit the data to perform grid search\n",
    "grid_search.fit(X, y)\n",
    "\n",
    "# Print the best parameters and best score\n",
    "print(\"Best Parameters:\", grid_search.best_params_)\n",
    "print(\"Best R-squared Score:\", grid_search.best_score_)\n"
   ]
  },
  {
   "cell_type": "code",
   "execution_count": 11,
   "metadata": {},
   "outputs": [
    {
     "name": "stdout",
     "output_type": "stream",
     "text": [
      "Mean R-squared: 0.7912920385104419\n"
     ]
    }
   ],
   "source": [
    "from sklearn.model_selection import cross_val_score\n",
    "from sklearn.metrics import mean_squared_error\n",
    "\n",
    "# Evaluate the best model using 5-fold cross-validation\n",
    "cv_scores = cross_val_score(grid_search.best_estimator_, X, y, cv=5, scoring='r2')\n",
    "\n",
    "# Calculate the mean R-squared\n",
    "mean_r2 = cv_scores.mean()\n",
    "print(\"Mean R-squared:\", mean_r2)"
   ]
  },
  {
   "cell_type": "code",
   "execution_count": 12,
   "metadata": {},
   "outputs": [
    {
     "name": "stdout",
     "output_type": "stream",
     "text": [
      "Mean RMSE: 4.2865449575339\n"
     ]
    }
   ],
   "source": [
    "# Calculate the RMSE using 5-fold cross-validation\n",
    "cv_rmse = np.sqrt(np.abs(cross_val_score(grid_search.best_estimator_, X, y, cv=5, scoring='neg_mean_squared_error')))\n",
    "\n",
    "# Calculate the mean RMSE\n",
    "mean_rmse = cv_rmse.mean()\n",
    "print(\"Mean RMSE:\", mean_rmse)"
   ]
  }
 ],
 "metadata": {
  "kernelspec": {
   "display_name": "Python 3",
   "language": "python",
   "name": "python3"
  },
  "language_info": {
   "codemirror_mode": {
    "name": "ipython",
    "version": 3
   },
   "file_extension": ".py",
   "mimetype": "text/x-python",
   "name": "python",
   "nbconvert_exporter": "python",
   "pygments_lexer": "ipython3",
   "version": "3.12.0"
  }
 },
 "nbformat": 4,
 "nbformat_minor": 2
}
