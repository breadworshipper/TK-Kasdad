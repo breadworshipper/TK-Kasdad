{
 "cells": [
  {
   "cell_type": "markdown",
   "metadata": {},
   "source": [
    "Duplikat --> Delete\n",
    "Null --> Delete\n",
    "Outlier --> Delete\n",
    "Feature Selection --> K-Best"
   ]
  }
 ],
 "metadata": {
  "language_info": {
   "name": "python"
  }
 },
 "nbformat": 4,
 "nbformat_minor": 2
}
