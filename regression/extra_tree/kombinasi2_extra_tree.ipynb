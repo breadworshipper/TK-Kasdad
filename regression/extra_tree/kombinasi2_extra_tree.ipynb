{
 "cells": [
  {
   "cell_type": "code",
   "execution_count": 1,
   "metadata": {
    "ExecuteTime": {
     "end_time": "2023-12-25T06:40:27.583879200Z",
     "start_time": "2023-12-25T06:40:27.437246700Z"
    }
   },
   "outputs": [],
   "source": [
    "# import library\n",
    "import pandas as pd\n",
    "import numpy as np\n",
    "import matplotlib.pyplot as plt\n",
    "import seaborn as sns\n",
    "from sklearn.feature_selection import SelectKBest, chi2\n",
    "from sklearn.preprocessing import LabelEncoder\n",
    "from sklearn.preprocessing import StandardScaler\n",
    "from sklearn.model_selection import train_test_split\n",
    "from sklearn.linear_model import LogisticRegression"
   ]
  },
  {
   "cell_type": "markdown",
   "metadata": {},
   "source": [
    "### Kombinasi 9 :\n",
    "* Delete Duplicate\n",
    "* Delete Null\n",
    "* Outlier capping winsorize sisi kanan\n",
    "* Encoding \n",
    "* Standard scaler\n",
    "* Feature selection -> K-Best"
   ]
  },
  {
   "cell_type": "code",
   "execution_count": 2,
   "metadata": {
    "ExecuteTime": {
     "end_time": "2023-12-25T06:40:27.601275900Z",
     "start_time": "2023-12-25T06:40:27.584879700Z"
    }
   },
   "outputs": [],
   "source": [
    "df = pd.read_csv('../../Punya Andi/UFC_kombinasi9.csv')"
   ]
  },
  {
   "cell_type": "code",
   "execution_count": 3,
   "metadata": {
    "ExecuteTime": {
     "end_time": "2023-12-25T06:40:27.606532Z",
     "start_time": "2023-12-25T06:40:27.602276500Z"
    }
   },
   "outputs": [],
   "source": [
    "X = df.drop(['B_Reach_cms'], axis=1)\n",
    "y = df['B_Reach_cms']"
   ]
  },
  {
   "cell_type": "code",
   "execution_count": 4,
   "metadata": {
    "ExecuteTime": {
     "end_time": "2023-12-25T06:40:27.613028100Z",
     "start_time": "2023-12-25T06:40:27.606532Z"
    }
   },
   "outputs": [],
   "source": [
    "scaler = StandardScaler()\n",
    "X = scaler.fit_transform(X)"
   ]
  },
  {
   "cell_type": "code",
   "execution_count": 5,
   "metadata": {
    "ExecuteTime": {
     "end_time": "2023-12-25T06:40:54.715005800Z",
     "start_time": "2023-12-25T06:40:27.614029100Z"
    }
   },
   "outputs": [
    {
     "name": "stderr",
     "output_type": "stream",
     "text": [
      "c:\\Python311\\Lib\\site-packages\\sklearn\\model_selection\\_validation.py:425: FitFailedWarning: \n",
      "540 fits failed out of a total of 1080.\n",
      "The score on these train-test partitions for these parameters will be set to nan.\n",
      "If these failures are not expected, you can try to debug them by setting error_score='raise'.\n",
      "\n",
      "Below are more details about the failures:\n",
      "--------------------------------------------------------------------------------\n",
      "288 fits failed with the following error:\n",
      "Traceback (most recent call last):\n",
      "  File \"c:\\Python311\\Lib\\site-packages\\sklearn\\model_selection\\_validation.py\", line 732, in _fit_and_score\n",
      "    estimator.fit(X_train, y_train, **fit_params)\n",
      "  File \"c:\\Python311\\Lib\\site-packages\\sklearn\\base.py\", line 1144, in wrapper\n",
      "    estimator._validate_params()\n",
      "  File \"c:\\Python311\\Lib\\site-packages\\sklearn\\base.py\", line 637, in _validate_params\n",
      "    validate_parameter_constraints(\n",
      "  File \"c:\\Python311\\Lib\\site-packages\\sklearn\\utils\\_param_validation.py\", line 95, in validate_parameter_constraints\n",
      "    raise InvalidParameterError(\n",
      "sklearn.utils._param_validation.InvalidParameterError: The 'max_features' parameter of ExtraTreesRegressor must be an int in the range [1, inf), a float in the range (0.0, 1.0], a str among {'sqrt', 'log2'} or None. Got 'auto' instead.\n",
      "\n",
      "--------------------------------------------------------------------------------\n",
      "252 fits failed with the following error:\n",
      "Traceback (most recent call last):\n",
      "  File \"c:\\Python311\\Lib\\site-packages\\sklearn\\model_selection\\_validation.py\", line 732, in _fit_and_score\n",
      "    estimator.fit(X_train, y_train, **fit_params)\n",
      "  File \"c:\\Python311\\Lib\\site-packages\\sklearn\\base.py\", line 1144, in wrapper\n",
      "    estimator._validate_params()\n",
      "  File \"c:\\Python311\\Lib\\site-packages\\sklearn\\base.py\", line 637, in _validate_params\n",
      "    validate_parameter_constraints(\n",
      "  File \"c:\\Python311\\Lib\\site-packages\\sklearn\\utils\\_param_validation.py\", line 95, in validate_parameter_constraints\n",
      "    raise InvalidParameterError(\n",
      "sklearn.utils._param_validation.InvalidParameterError: The 'max_features' parameter of ExtraTreesRegressor must be an int in the range [1, inf), a float in the range (0.0, 1.0], a str among {'log2', 'sqrt'} or None. Got 'auto' instead.\n",
      "\n",
      "  warnings.warn(some_fits_failed_message, FitFailedWarning)\n",
      "c:\\Python311\\Lib\\site-packages\\sklearn\\model_selection\\_search.py:976: UserWarning: One or more of the test scores are non-finite: [       nan        nan        nan        nan        nan        nan\n",
      "        nan        nan        nan        nan        nan        nan\n",
      "        nan        nan        nan        nan        nan        nan\n",
      "        nan        nan        nan        nan        nan        nan\n",
      "        nan        nan        nan 0.8114281  0.81006272 0.8102206\n",
      " 0.80378184 0.80581747 0.80758028 0.80375626 0.80250406 0.80395909\n",
      " 0.80529846 0.80520413 0.80522748 0.80457964 0.80386988 0.80459329\n",
      " 0.80319356 0.80173446 0.80216975 0.79794577 0.79476032 0.7947543\n",
      " 0.79794577 0.79476032 0.7947543  0.79779692 0.79597203 0.79535041\n",
      "        nan        nan        nan        nan        nan        nan\n",
      "        nan        nan        nan        nan        nan        nan\n",
      "        nan        nan        nan        nan        nan        nan\n",
      "        nan        nan        nan        nan        nan        nan\n",
      "        nan        nan        nan 0.79249052 0.78923994 0.78865105\n",
      " 0.78843994 0.78723168 0.78697183 0.78945371 0.78556393 0.78569586\n",
      " 0.78922422 0.78711686 0.78675912 0.78783532 0.78589725 0.78617746\n",
      " 0.78752375 0.78509369 0.78528889 0.78557657 0.78300387 0.78257312\n",
      " 0.78557657 0.78300387 0.78257312 0.78513553 0.78273752 0.78231216\n",
      "        nan        nan        nan        nan        nan        nan\n",
      "        nan        nan        nan        nan        nan        nan\n",
      "        nan        nan        nan        nan        nan        nan\n",
      "        nan        nan        nan        nan        nan        nan\n",
      "        nan        nan        nan 0.81027985 0.80972048 0.80975727\n",
      " 0.80483715 0.80596889 0.80735656 0.80380649 0.80342516 0.80426029\n",
      " 0.80706785 0.80544495 0.80485823 0.80454759 0.80356992 0.80390891\n",
      " 0.80379573 0.80199549 0.80161838 0.79812243 0.79546462 0.79512294\n",
      " 0.79812243 0.79546462 0.79512294 0.7966182  0.79542161 0.79511163\n",
      "        nan        nan        nan        nan        nan        nan\n",
      "        nan        nan        nan        nan        nan        nan\n",
      "        nan        nan        nan        nan        nan        nan\n",
      "        nan        nan        nan        nan        nan        nan\n",
      "        nan        nan        nan 0.81044244 0.80985957 0.80991757\n",
      " 0.803352   0.80545322 0.80719436 0.80365704 0.802459   0.80385725\n",
      " 0.80524862 0.80521895 0.80527617 0.8046043  0.8039132  0.8046179\n",
      " 0.80319356 0.80173654 0.80217099 0.79794577 0.79476032 0.7947543\n",
      " 0.79794577 0.79476032 0.7947543  0.79779692 0.79597203 0.79535041]\n",
      "  warnings.warn(\n"
     ]
    },
    {
     "name": "stdout",
     "output_type": "stream",
     "text": [
      "Best Parameters: {'max_depth': None, 'max_features': 'sqrt', 'min_samples_leaf': 1, 'min_samples_split': 2, 'n_estimators': 50}\n",
      "Best R-squared Score: 0.8114281036347621\n"
     ]
    }
   ],
   "source": [
    "from sklearn.ensemble import ExtraTreesRegressor\n",
    "from sklearn.model_selection import GridSearchCV\n",
    "\n",
    "# Define the parameter grid\n",
    "param_grid = {\n",
    "    'n_estimators': [50, 100, 200],\n",
    "    'max_depth': [None, 10, 20, 30],\n",
    "    'min_samples_split': [2, 5, 10],\n",
    "    'min_samples_leaf': [1, 2, 4],\n",
    "    'max_features': ['auto', 'sqrt']\n",
    "}\n",
    "\n",
    "# Create the KNN model\n",
    "extra_tree = ExtraTreesRegressor(random_state=42)\n",
    "\n",
    "# Create the GridSearchCV object\n",
    "grid_search = GridSearchCV(extra_tree, param_grid, cv=5, scoring='r2', n_jobs=-1)\n",
    "\n",
    "# Fit the data to perform grid search\n",
    "grid_search.fit(X, y)\n",
    "\n",
    "# Print the best parameters and best score\n",
    "print(\"Best Parameters:\", grid_search.best_params_)\n",
    "print(\"Best R-squared Score:\", grid_search.best_score_)\n"
   ]
  },
  {
   "cell_type": "code",
   "execution_count": 6,
   "metadata": {
    "ExecuteTime": {
     "end_time": "2023-12-25T06:40:59.488384800Z",
     "start_time": "2023-12-25T06:40:54.712004700Z"
    }
   },
   "outputs": [
    {
     "name": "stdout",
     "output_type": "stream",
     "text": [
      "Mean R-squared: 0.8114281036347621\n"
     ]
    }
   ],
   "source": [
    "from sklearn.model_selection import cross_val_score\n",
    "from sklearn.metrics import mean_squared_error\n",
    "\n",
    "# Evaluate the best model using 5-fold cross-validation\n",
    "cv_scores = cross_val_score(grid_search.best_estimator_, X, y, cv=5, scoring='r2')\n",
    "\n",
    "# Calculate the mean R-squared\n",
    "mean_r2 = cv_scores.mean()\n",
    "print(\"Mean R-squared:\", mean_r2)"
   ]
  },
  {
   "cell_type": "code",
   "execution_count": 7,
   "metadata": {
    "ExecuteTime": {
     "end_time": "2023-12-25T06:41:04.241566800Z",
     "start_time": "2023-12-25T06:40:59.484384400Z"
    }
   },
   "outputs": [
    {
     "name": "stdout",
     "output_type": "stream",
     "text": [
      "Mean RMSE: 4.060158107383383\n"
     ]
    }
   ],
   "source": [
    "# Calculate the RMSE using 5-fold cross-validation\n",
    "cv_rmse = np.sqrt(np.abs(cross_val_score(grid_search.best_estimator_, X, y, cv=5, scoring='neg_mean_squared_error')))\n",
    "\n",
    "# Calculate the mean RMSE\n",
    "mean_rmse = cv_rmse.mean()\n",
    "print(\"Mean RMSE:\", mean_rmse)"
   ]
  },
  {
   "cell_type": "code",
   "execution_count": 8,
   "metadata": {},
   "outputs": [],
   "source": [
    "df_test = pd.read_csv('../../regression_kaggle/UFC_kombinasi9.csv')\n",
    "df_test = df_test.drop(['B_Reach_cms'], axis=1, errors='ignore')\n",
    "df_test_id = df_test['id']\n",
    "df_test = df_test.drop(['id'], axis=1)\n",
    "df_test = scaler.transform(df_test)\n",
    "y_pred = grid_search.best_estimator_.predict(df_test)\n",
    "submission = pd.DataFrame({'id': df_test_id, 'B_Reach_cms': y_pred})\n",
    "submission.to_csv('pred_kombinasi2_extra_tree.csv', index=False)"
   ]
  }
 ],
 "metadata": {
  "kernelspec": {
   "display_name": "Python 3",
   "language": "python",
   "name": "python3"
  },
  "language_info": {
   "codemirror_mode": {
    "name": "ipython",
    "version": 3
   },
   "file_extension": ".py",
   "mimetype": "text/x-python",
   "name": "python",
   "nbconvert_exporter": "python",
   "pygments_lexer": "ipython3",
   "version": "3.11.4"
  }
 },
 "nbformat": 4,
 "nbformat_minor": 2
}
